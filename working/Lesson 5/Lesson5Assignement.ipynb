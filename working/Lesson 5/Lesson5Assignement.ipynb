{
 "cells": [
  {
   "cell_type": "markdown",
   "metadata": {},
   "source": [
    "# Stockes Flow"
   ]
  },
  {
   "cell_type": "markdown",
   "metadata": {},
   "source": [
    "Avec la méthode proposée de séparation de l'équation en deux équations couplées :\n"
   ]
  },
  {
   "cell_type": "code",
   "execution_count": 1,
   "metadata": {
    "collapsed": false
   },
   "outputs": [],
   "source": [
    "#importing libraries\n",
    "import numpy\n",
    "import numba\n",
    "from numba import jit\n",
    "from matplotlib import pyplot\n",
    "%matplotlib inline\n",
    "\n",
    "#defining grid\n",
    "nx = 41\n",
    "ny = 41\n",
    "\n",
    "l = 1.\n",
    "h = 1.\n",
    "\n",
    "dx = l/(nx-1)\n",
    "dy = h/(ny-1)\n",
    "\n",
    "#initial guess\n",
    "p = numpy.zeros((ny,nx))\n",
    "w = numpy.zeros((ny,nx))\n",
    "\n",
    "#dérivative of p along the top border\n",
    "u=1.\n",
    "\n",
    "l1_target = 1e-6"
   ]
  },
  {
   "cell_type": "code",
   "execution_count": 2,
   "metadata": {
    "collapsed": true
   },
   "outputs": [],
   "source": [
    "@jit\n",
    "def L1norm(new, old):\n",
    "    '''Calculate l1 norm between new and old\n",
    "    \n",
    "    Parameters:\n",
    "    ----------\n",
    "    new : Array of floats\n",
    "        \n",
    "    old : Array of floats\n",
    "    \n",
    "    Returns:\n",
    "    -------\n",
    "    norm : double\n",
    "            value of the l1 Norm\n",
    "    '''\n",
    "    norm = numpy.sum(numpy.abs(new-old))\n",
    "    return norm"
   ]
  },
  {
   "cell_type": "code",
   "execution_count": 3,
   "metadata": {
    "collapsed": false
   },
   "outputs": [],
   "source": [
    "@jit\n",
    "def poisson_2d_1step(p, b, dx, dy):\n",
    "    '''Performs Jacobi relaxation\n",
    "    \n",
    "    Parameters:\n",
    "    ----------\n",
    "    p : 2D array of floats\n",
    "        Initial guess\n",
    "    b : 2D array of floats\n",
    "        Source term\n",
    "    dx: float\n",
    "        Mesh spacing in x direction\n",
    "    dy: float\n",
    "        Mesh spacing in y direction\n",
    "    \n",
    "    Returns:\n",
    "    -------\n",
    "    p_out: 2D array of float\n",
    "        Distribution after relaxation\n",
    "    '''\n",
    "    p_out = p.copy()\n",
    "   \n",
    "    p_out[1:-1,1:-1] = 1.0/(2.0*(dx**2 + dy**2)) * ((p[1:-1,2:]+p[1:-1,:-2])*dy**2 + (p[2:,1:-1] + p[:-2,1:-1])*dx**2 - b[1:-1,1:-1]*dx**2*dy**2)\n",
    "    \n",
    "    #enforcing BC elsewhere\n",
    "    return p_out"
   ]
  },
  {
   "cell_type": "code",
   "execution_count": 4,
   "metadata": {
    "collapsed": false
   },
   "outputs": [],
   "source": [
    "def laplace_2d_1step(p, dx, dy):\n",
    "    '''Performs Jacobi relaxation\n",
    "    \n",
    "    Parameters:\n",
    "    ----------\n",
    "    p : 2D array of floats\n",
    "        Initial guess\n",
    "    dx: float\n",
    "         spacing in x direction\n",
    "    dy: float\n",
    "        Mesh spacing in y direction\n",
    "    \n",
    "    Returns:\n",
    "    -------\n",
    "    p_out: 2D array of float\n",
    "        Distribution after relaxation\n",
    "    '''\n",
    "    p_out = p.copy()\n",
    "    \n",
    "    p_out[1:-1,1:-1] = 1/(2*(dx**2 + dy**2)) * ((p[1:-1,2:]+p[1:-1,:-2])*dy**2 + (p[2:,1:-1] + p[:-2,1:-1])*dx**2)\n",
    "    \n",
    "    #enforcing BC elsewhere   \n",
    "    return p_out"
   ]
  },
  {
   "cell_type": "code",
   "execution_count": 5,
   "metadata": {
    "collapsed": false
   },
   "outputs": [],
   "source": [
    "@jit\n",
    "def enforceBCphi(p):\n",
    "    '''Enforce the boundary conditions for phi\n",
    "    \n",
    "    Parameters:\n",
    "    ----------\n",
    "    p : 2D array of floats\n",
    "        solution before applying BC\n",
    "    \n",
    "    Returns:\n",
    "    -------\n",
    "    p_out : 2D array of floats\n",
    "        solution after applying BC\n",
    "    '''\n",
    "#dirichlet condition\n",
    "    p_out=p.copy()\n",
    "    #top\n",
    "    p_out[:,-1]=0.\n",
    "    #bottom\n",
    "    p_out[:,0]=0.\n",
    "    #left\n",
    "    p_out[0,:]=0.\n",
    "    #right\n",
    "    p_out[-1,:]=0.\n",
    "    \n",
    "    return p_out"
   ]
  },
  {
   "cell_type": "code",
   "execution_count": 6,
   "metadata": {
    "collapsed": false
   },
   "outputs": [],
   "source": [
    "def enforceBCw(w,p,dx,dy,u):\n",
    "    '''Enforce boundary conditions for w\n",
    "    \n",
    "    Parameters:\n",
    "    ----------\n",
    "    w : solution before applying BC\n",
    "    p : source term for bc\n",
    "    dx : \n",
    "    \n",
    "    \n",
    "    Returns:\n",
    "    -------\n",
    "    w_out : solution after applying BC \n",
    "    '''\n",
    "    \n",
    "    #neumann + laplace\n",
    "    w_out=w.copy()\n",
    "    \n",
    "    #bottom\n",
    "    w_out[0,:]=-(8*p[1,:]-p[2,:])/2/dy/dy\n",
    "    #top\n",
    "    w_out[-1,:]=-(8*p[-2,:]-p[-3, :])/2/dy/dy - 3*u/dy\n",
    "    #left\n",
    "    w_out[:,0]=-(8*p[:,1]-p[:,2])/2/dx/dx\n",
    "    #right\n",
    "    w_out[:,-1]=-(8*p[:,-2]-p[:,-3])/2/dx/dx\n",
    "    \n",
    "    return w_out"
   ]
  },
  {
   "cell_type": "code",
   "execution_count": 7,
   "metadata": {
    "collapsed": false
   },
   "outputs": [],
   "source": [
    "#solve the biharmonic équation as a laplace and a poisson coupled equation\n",
    "@jit\n",
    "def biHarmonicSolver(p, w, dx, dy, l1Target, u):\n",
    "    '''Performs Jacobi relaxation\n",
    "    \n",
    "    Parameters:\n",
    "    ----------\n",
    "    p : 2D array\n",
    "        initial guess for p\n",
    "    w : 2D array\n",
    "        initial quess for w\n",
    "    dx : float\n",
    "        grid width in x\n",
    "    dy : float\n",
    "        grid width in y\n",
    "    l1Target : float\n",
    "        Target for the l1 norm between two iteration\n",
    "    u : float\n",
    "        parameter for bc\n",
    "    \n",
    "    Returns:\n",
    "    -------\n",
    "    p: 2D array\n",
    "        solution for p\n",
    "    w: 2D array\n",
    "        solution for w\n",
    "    l1phi : float\n",
    "        l1 norm between two last iteration for p\n",
    "    l1w : float\n",
    "        l1 norm between two last iteration for w\n",
    "    '''\n",
    "    l1p=l1Target+1\n",
    "    l1w=l1Target+1\n",
    "    nbStep=0\n",
    "    while l1p>l1Target or l1w>l1Target:\n",
    "        p_old=p.copy()\n",
    "        w_old=w.copy()\n",
    "        p = poisson_2d_1step(p_old, -w_old, dx, dy)\n",
    "        p = enforceBCphi(p)\n",
    "        l1p= L1norm(p, p_old)\n",
    "        w = laplace_2d_1step(w_old, dx, dy)\n",
    "        w = enforceBCw(w, p, dx, dy, u)\n",
    "        l1w=L1norm(w, w_old)\n",
    "        nbStep=nbStep+1\n",
    "        \n",
    "    #those instruction are not really necessary but I was curious\n",
    "    print(\"number of steps: \")\n",
    "    print(nbStep)\n",
    "    \n",
    "    return p, w, l1p, l1w"
   ]
  },
  {
   "cell_type": "code",
   "execution_count": 8,
   "metadata": {
    "collapsed": false
   },
   "outputs": [
    {
     "name": "stdout",
     "output_type": "stream",
     "text": [
      "number of steps: \n",
      "4060\n",
      "L1 norm of p :  2.2423296094985696e-08 L1 norm of w :  9.997483223875715e-07\n",
      "Some value for p\n",
      "[ 0.         -0.05747874 -0.09442319 -0.09442319 -0.05747874  0.        ]\n",
      "Maximal Value of p\n",
      "0.0998451724622\n",
      "Maximal value of w :\n",
      "78.1926612286\n"
     ]
    }
   ],
   "source": [
    "\n",
    "p = numpy.zeros((ny,nx))\n",
    "w = numpy.zeros((ny,nx))\n",
    "\n",
    "#we solve équation and check the résult\n",
    "p, w, l1phi, l1w = biHarmonicSolver(p, w, dx, dy, l1_target, u)\n",
    "#we check that l1-norm is < target and print some value\n",
    "print(\"L1 norm of p : \", l1phi, \"L1 norm of w : \", l1w)\n",
    "print(\"Some value for p\")\n",
    "print(p[32,::8])\n",
    "print(\"Maximal Value of p\")\n",
    "print(numpy.max(numpy.abs(p)))\n",
    "print(\"Maximal value of w :\")\n",
    "print(numpy.max(numpy.abs(w)))"
   ]
  },
  {
   "cell_type": "code",
   "execution_count": 9,
   "metadata": {
    "collapsed": false
   },
   "outputs": [
    {
     "data": {
      "text/plain": [
       "<function matplotlib.pyplot.colorbar>"
      ]
     },
     "execution_count": 9,
     "metadata": {},
     "output_type": "execute_result"
    },
    {
     "data": {
      "image/png": "[encoded data removed]",
      "text/plain": [
       "<matplotlib.figure.Figure at 0x13fbe4b6908>"
      ]
     },
     "metadata": {},
     "output_type": "display_data"
    }
   ],
   "source": [
    "#print w\n",
    "x=numpy.linspace(0, l, nx)\n",
    "y=numpy.linspace(0, h, ny)\n",
    "pyplot.figure(figsize=(10,10))\n",
    "pyplot.contourf(x,y,w,20)\n",
    "#pyplot.contourf(x, y, p, 20)\n",
    "pyplot.xlabel('$x$')\n",
    "pyplot.ylabel('$y$')\n",
    "pyplot.colorbar"
   ]
  },
  {
   "cell_type": "code",
   "execution_count": 10,
   "metadata": {
    "collapsed": false
   },
   "outputs": [
    {
     "data": {
      "text/plain": [
       "<matplotlib.colorbar.Colorbar at 0x13fbcdb6b00>"
      ]
     },
     "execution_count": 10,
     "metadata": {},
     "output_type": "execute_result"
    },
    {
     "data": {
      "image/png": "[encoded data removed]",
      "text/plain": [
       "<matplotlib.figure.Figure at 0x13fbd02fcc0>"
      ]
     },
     "metadata": {},
     "output_type": "display_data"
    }
   ],
   "source": [
    "#print phi\n",
    "x=numpy.linspace(0, l, nx)\n",
    "y=numpy.linspace(0, h, ny)\n",
    "pyplot.figure(figsize=(10,10))\n",
    "#pyplot.contourf(x,y,w,20)\n",
    "pyplot.contourf(x, y, p, 20)\n",
    "pyplot.xlabel('$x$')\n",
    "pyplot.ylabel('$y$')\n",
    "pyplot.colorbar()"
   ]
  },
  {
   "cell_type": "markdown",
   "metadata": {},
   "source": [
    "## Conjugate Gradient Method"
   ]
  },
  {
   "cell_type": "markdown",
   "metadata": {
    "collapsed": false
   },
   "source": [
    "\n",
    "On peut discrétiser $\\nabla ^4 = \\partial ^4_x + 2\\partial^2_x\\partial^2_y + \\partial^4_y$ de la manière suivante :\n",
    "\n",
    "\\begin{equation}\n",
    "\\nabla^4 u(i,j) = \\frac{u(i+2, j) + u(i-2, j) + 6u(i, j) - 4 u(i+1, j) - 4u(i-1, j)}{dx^4} + \\frac{u(i, j+2) + u(i, j-2) + 6u(i, j) - 4 u(i, j+1) - 4u(i, j-1)}{dy^4} + 2 \\frac{u(i+1, j+1) + u (i+1, j-1) + u(i-1, j+1) + u(i-1, j-1) -2(u(i+1, j) + u(i-1, j) + u(i, j+1) + u(i, j-1)) +4u(i,j)}{dx^2 dy^2}\n",
    "\\end{equation}"
   ]
  },
  {
   "cell_type": "markdown",
   "metadata": {
    "collapsed": true
   },
   "source": [
    "Ce qui donne pour dx = dy :\n",
    "\n",
    "\\begin{equation}\n",
    "\\nabla^4 u(i,j) = [u(i+2, j) +u(i-2, j) + u(i, j+2) + u(i, j-2)) + 2 (u(i+1, j+1) + u (i+1, j-1) + u(i-1, j+1) + u(i-1, j-1)) -8 (u(i+1, j) + u(i-1, j) + u(i, j+1) + u(i, j-1)) + 20 u(i,j)]/dx^4\n",
    "\\end{equation}\n",
    "\n",
    "ou $[...]^k$ signifie \"évaluer la fonction au temps k\"\n",
    "\n",
    "Pour les conditions de Neumann au bord, on discretize simplement au 2ème ordre la dérivée première pour obtenir le résultat suivant :\n",
    "\\begin{equation}\n",
    "u(i,j)^{k+1} = u(i, j-1)/4 - d_x u(i,j) *dx/2\n",
    "\\end{equation}"
   ]
  },
  {
   "cell_type": "markdown",
   "metadata": {},
   "source": [
    "On a désormais tout en mains pour implémenter la méthode du gradient conjugué."
   ]
  },
  {
   "cell_type": "code",
   "execution_count": 11,
   "metadata": {
    "collapsed": false
   },
   "outputs": [],
   "source": [
    "#defining grid\n",
    "nx = 41\n",
    "ny = 41\n",
    "\n",
    "l = 1.\n",
    "h = 1.\n",
    "\n",
    "dx = l/(nx-1)\n",
    "dy = h/(ny-1)\n",
    "\n",
    "#initial guess\n",
    "p = numpy.zeros((ny,nx))\n",
    "\n",
    "#dérivative of p along the top border\n",
    "u=1.\n",
    "\n",
    "l1_target = 1e-6"
   ]
  },
  {
   "cell_type": "code",
   "execution_count": 12,
   "metadata": {
    "collapsed": false
   },
   "outputs": [],
   "source": [
    "def enforce_BC(u_old, v, dx):\n",
    "    '''apply some boundary condition\n",
    "    \n",
    "    Parameters:\n",
    "    ----------\n",
    "    u_old : 2D array of floats\n",
    "    v : parameter for boundary condition\n",
    "    dy: float\n",
    "        Mesh spacing in y direction\n",
    "    Returns:\n",
    "    -------\n",
    "    u: 2D array of float\n",
    "        Distribution after BC\n",
    "    '''\n",
    "    u = u_old.copy()\n",
    "     #enforce neumann, dirichlet are automaticaly enforced\n",
    "    u[1:-1,1]=u[1:-1,2]/4\n",
    "    u[1:-1,-2]=u[1:-1,-3]/4\n",
    "    u[1,1:-1]=2*u[2,1:-1]/4\n",
    "    u[-2,1:-1]=u[-3,1:-1]/4 - v*dx/2\n",
    "    \n",
    "    return u"
   ]
  },
  {
   "cell_type": "code",
   "execution_count": 13,
   "metadata": {
    "collapsed": false
   },
   "outputs": [],
   "source": [
    "def biharmonic(u, v, dx):\n",
    "    '''Calculate the biharmonic of a 2D array and apply some boundary condition\n",
    "    \n",
    "    Parameters:\n",
    "    ----------\n",
    "    p : 2D array of floats\n",
    "    v : parameter for boundary condition\n",
    "    dy: float\n",
    "        Mesh spacing in y direction\n",
    "\n",
    "        \n",
    "    Returns:\n",
    "    -------\n",
    "    biharm: 2D array of float\n",
    "        biharmonic of p\n",
    "    '''\n",
    "    #calculate de biharmonic of u\n",
    "        #enforcing BC\n",
    "    u=enforce_BC(u, v, dx)\n",
    "    biharm=numpy.zeros(u.shape)\n",
    "    biharm[2:-2,2:-2] = (u[2:-2,2:-2]*20 + u[4:,2:-2] +u[:-4, 2:-2] + u[2:-2, 4:] + u[2:-2, :-4] +\\\n",
    "                         2*(u[3:-1, 3:-1] + u[3:-1, 1:-3] + u[1:-3, 3:-1] + u[1:-3, 1:-3]) - \\\n",
    "                         8*(u[3:-1,2:-2] + u[1:-3, 2:-2] + u[2:-2, 3:-1] + u[2:-2, 1:-3]))/dx**4\n",
    "    return biharm"
   ]
  },
  {
   "cell_type": "code",
   "execution_count": 14,
   "metadata": {
    "collapsed": false
   },
   "outputs": [],
   "source": [
    "def conjugate_gradient_2d(p, dx, dy, v, l1_target):\n",
    "    '''Performs cg relaxation\n",
    "    Assumes Dirichlet boundary conditions p=0\n",
    "    \n",
    "    Parameters:\n",
    "    ----------\n",
    "    p : 2D array of floats\n",
    "        Initial guess\n",
    "    dx: float\n",
    "        Mesh spacing in x direction\n",
    "    dy: float\n",
    "        Mesh spacing in y direction\n",
    "    l1_target: float\n",
    "        exit criterion\n",
    "        \n",
    "    Returns:\n",
    "    -------\n",
    "    p: 2D array of float\n",
    "        Distribution after relaxation\n",
    "    '''\n",
    "    ny, nx = p.shape\n",
    "    r  = numpy.zeros((ny,nx)) # residual\n",
    "    Ad  = numpy.zeros((ny,nx)) # to store result of matrix multiplication \n",
    "    \n",
    "    l1_norm = 1+l1_target\n",
    "    iterations = 0\n",
    "    l2_conv = []\n",
    "    n=0\n",
    "    \n",
    "    # Step-0 We compute the initial residual and \n",
    "    # the first search direction is just this residual\n",
    "    \n",
    "    r = -biharmonic(p, v, dx)\n",
    "    d = r.copy()\n",
    "    rho = numpy.sum(d*d)\n",
    "    Ad = biharmonic(d, v, dx)\n",
    "    sigma = numpy.sum(d*Ad)\n",
    "    \n",
    "    # Iterations\n",
    "    while l1_norm > l1_target and n<10000:\n",
    "\n",
    "        pk = p.copy()\n",
    "        rk = r.copy()\n",
    "        dk = d.copy()\n",
    "        \n",
    "        alpha = rho/sigma\n",
    "        \n",
    "        p = pk + alpha*dk\n",
    "        r = rk- alpha*Ad\n",
    "            \n",
    "        rhop1 = numpy.sum(r*r)\n",
    "        beta = rhop1 / rho\n",
    "        rho = rhop1\n",
    "        \n",
    "        d = r + beta*dk\n",
    "        \n",
    "        p=enforce_BC(p, 0, dx)\n",
    "        \n",
    "        Ad = biharmonic(d, v, dx)\n",
    "        sigma = numpy.sum(d*Ad)\n",
    "\n",
    "        l1_norm = L1norm(pk,p)\n",
    "        iterations += 1\n",
    "        l2_conv.append(l1_norm)\n",
    "        n=n+1\n",
    "    \n",
    "    print('Number of CG iterations: {0:d}'.format(iterations))\n",
    "    return p, l2_conv    "
   ]
  },
  {
   "cell_type": "code",
   "execution_count": 15,
   "metadata": {
    "collapsed": false
   },
   "outputs": [
    {
     "name": "stdout",
     "output_type": "stream",
     "text": [
      "Number of CG iterations: 1290\n"
     ]
    }
   ],
   "source": [
    "p = numpy.zeros((ny,nx))\n",
    "p, l2 = conjugate_gradient_2d(p, dx, dy, 1, l1_target)"
   ]
  },
  {
   "cell_type": "code",
   "execution_count": 16,
   "metadata": {
    "collapsed": false
   },
   "outputs": [
    {
     "data": {
      "text/plain": [
       "<matplotlib.colorbar.Colorbar at 0x13fbe907f60>"
      ]
     },
     "execution_count": 16,
     "metadata": {},
     "output_type": "execute_result"
    },
    {
     "data": {
      "image/png": "[encoded data removed]",
      "text/plain": [
       "<matplotlib.figure.Figure at 0x13fbe439ac8>"
      ]
     },
     "metadata": {},
     "output_type": "display_data"
    }
   ],
   "source": [
    "#print w\n",
    "x=numpy.linspace(0, l, nx)\n",
    "y=numpy.linspace(0, h, ny)\n",
    "pyplot.figure(figsize=(10,10))\n",
    "pyplot.contourf(x,y,p,15)\n",
    "pyplot.xlabel('$x$')\n",
    "pyplot.ylabel('$y$')\n",
    "pyplot.colorbar()"
   ]
  },
  {
   "cell_type": "code",
   "execution_count": 17,
   "metadata": {
    "collapsed": false
   },
   "outputs": [
    {
     "name": "stdout",
     "output_type": "stream",
     "text": [
      "Some value for p\n",
      "[ 0.         -0.05735553 -0.09511717 -0.09511717 -0.05735553  0.        ]\n",
      "Maximal Value of p\n",
      "0.100818660391\n"
     ]
    }
   ],
   "source": [
    "print(\"Some value for p\")\n",
    "print(p[32,::8])\n",
    "print(\"Maximal Value of p\")\n",
    "print(numpy.max(numpy.abs(p)))"
   ]
  },
  {
   "cell_type": "markdown",
   "metadata": {
    "collapsed": false
   },
   "source": [
    "Le résultat est légérement différent de celui précédent mais reste très proches. De olus, même si le gain n'est pas aussi spectaculaire que lors du traitement de l'équation de poisson, on a quand même un gain de l'ordre de 75%.\n",
    "\n",
    "Néanmoins, je dois avouer que le travail sur les condition au bord à été ici très heuristique et la différence provient surement de là."
   ]
  },
  {
   "cell_type": "code",
   "execution_count": null,
   "metadata": {
    "collapsed": true
   },
   "outputs": [],
   "source": []
  }
 ],
 "metadata": {
  "anaconda-cloud": {},
  "kernelspec": {
   "display_name": "Python [Root]",
   "language": "python",
   "name": "Python [Root]"
  },
  "language_info": {
   "codemirror_mode": {
    "name": "ipython",
    "version": 3
   },
   "file_extension": ".py",
   "mimetype": "text/x-python",
   "name": "python",
   "nbconvert_exporter": "python",
   "pygments_lexer": "ipython3",
   "version": "3.5.2"
  }
 },
 "nbformat": 4,
 "nbformat_minor": 0
}
