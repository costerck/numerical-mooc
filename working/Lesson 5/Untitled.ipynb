{
 "cells": [
  {
   "cell_type": "code",
   "execution_count": 1,
   "metadata": {
    "collapsed": false
   },
   "outputs": [],
   "source": [
    "#importing libraries\n",
    "import numpy\n",
    "import numba\n",
    "from numba import jit\n",
    "from matplotlib import pyplot\n",
    "%matplotlib inline\n",
    "\n",
    "#defining grid\n",
    "nx = 41\n",
    "ny = 41\n",
    "\n",
    "l = 1.\n",
    "h = 1.\n",
    "\n",
    "dx = l/(nx-1)\n",
    "dy = h/(ny-1)\n",
    "\n",
    "#initial guess\n",
    "p = numpy.zeros((ny,nx))\n",
    "w = numpy.zeros((ny,nx))\n",
    "\n",
    "#dérivative of p along the top border\n",
    "u=1.\n",
    "\n",
    "l1_target = 10e-6"
   ]
  },
  {
   "cell_type": "code",
   "execution_count": 2,
   "metadata": {
    "collapsed": true
   },
   "outputs": [],
   "source": [
    "@jit\n",
    "def L1norm(new, old):\n",
    "    '''Calculate l1 norm between new and old\n",
    "    \n",
    "    Parameters:\n",
    "    ----------\n",
    "    new : Array of floats\n",
    "        \n",
    "    old : Array of floats\n",
    "    \n",
    "    Returns:\n",
    "    -------\n",
    "    norm : double\n",
    "            value of the l1 Norm\n",
    "    '''\n",
    "    norm = numpy.sum(numpy.abs(new-old))\n",
    "    return norm"
   ]
  },
  {
   "cell_type": "code",
   "execution_count": 3,
   "metadata": {
    "collapsed": false
   },
   "outputs": [],
   "source": [
    "@jit\n",
    "def poisson_2d_1step(p, b, dx, dy):\n",
    "    '''Performs Jacobi relaxation\n",
    "    \n",
    "    Parameters:\n",
    "    ----------\n",
    "    p : 2D array of floats\n",
    "        Initial guess\n",
    "    b : 2D array of floats\n",
    "        Source term\n",
    "    dx: float\n",
    "        Mesh spacing in x direction\n",
    "    dy: float\n",
    "        Mesh spacing in y direction\n",
    "    \n",
    "    Returns:\n",
    "    -------\n",
    "    p: 2D array of float\n",
    "        Distribution after relaxation\n",
    "    '''\n",
    "    pd = p.copy()\n",
    "   \n",
    "    p[1:-1,1:-1] = 1/(2*(dx**2 + dy**2)) * ((pd[1:-1,2:]+pd[1:-1,:-2])*dy**2 + (pd[2:,1:-1] + pd[:-2,1:-1])*dx**2 - b[1:-1,1:-1]*dx**2*dy**2)\n",
    "    \n",
    "    #enforcing BC elsewhere\n",
    "    return p \n",
    "\n",
    "def laplace_2d_1step(p, dx, dy):\n",
    "    '''Performs Jacobi relaxation\n",
    "    \n",
    "    Parameters:\n",
    "    ----------\n",
    "    p : 2D array of floats\n",
    "        Initial guess\n",
    "    dx: float\n",
    "        Mesh spacing in x direction\n",
    "    dy: float\n",
    "        Mesh spacing in y direction\n",
    "    \n",
    "    Returns:\n",
    "    -------\n",
    "    p: 2D array of float\n",
    "        Distribution after relaxation\n",
    "    '''\n",
    "    pd = p.copy()\n",
    "    \n",
    "    p[1:-1,1:-1] = 1/(2*(dx**2 + dy**2)) * ((pd[1:-1,2:]+pd[1:-1,:-2])*dy**2 + (pd[2:,1:-1] + pd[:-2,1:-1])*dx**2)\n",
    "    \n",
    "    #enforcing BC elsewhere   \n",
    "    return p\n"
   ]
  },
  {
   "cell_type": "code",
   "execution_count": 4,
   "metadata": {
    "collapsed": false
   },
   "outputs": [],
   "source": [
    "@jit\n",
    "def enforceBCphi(p):\n",
    "    '''Enforce the boundary conditions for phi\n",
    "    \n",
    "    Parameters:\n",
    "    ----------\n",
    "    p : 2D array of floats\n",
    "        solution before applying BC\n",
    "    \n",
    "    Returns:\n",
    "    -------\n",
    "    p_out : 2D array of floats\n",
    "        solution after applying BC\n",
    "    '''\n",
    "#dirichlet condition\n",
    "    p_out=p.copy()\n",
    "    #top\n",
    "    p_out[:,-1]=0.\n",
    "    #bottom\n",
    "    p_out[:,0]=0.\n",
    "    #left\n",
    "    p_out[0,:]=0.\n",
    "    #right\n",
    "    p_out[-1,:]=0.\n",
    "    \n",
    "    return p\n",
    "\n",
    "def enforceBCw(w,p,dx,dy,u):\n",
    "    '''Enforce boundary conditions for w\n",
    "    \n",
    "    Parameters:\n",
    "    ----------\n",
    "    w : solution before applying BC\n",
    "    \n",
    "    Returns:\n",
    "    -------\n",
    "    p : solution after applying BC \n",
    "    '''\n",
    "    \n",
    "    #neumann + laplace\n",
    "    w_out=w.copy()\n",
    "    #bottom\n",
    "    w_out[:,0]=-(8*p[:,1]-p[:,2])/2/dy/dy\n",
    "    #left\n",
    "    w_out[0,1:-1]=-(8*p[1,1:-1]-p[2,1:-1])/2/dx/dx\n",
    "    #right\n",
    "    w_out[-1,1:-1]=-(8*p[-2,1:-1]-p[-3,1:-1])/2/dx/dx\n",
    "    #top\n",
    "    w_out[:,-1]=-(8*p[:,-2]-p[:, -3])/2/dy/dy - 3*u/dy\n",
    "    return w_out\n"
   ]
  },
  {
   "cell_type": "code",
   "execution_count": 10,
   "metadata": {
    "collapsed": false
   },
   "outputs": [],
   "source": [
    "@jit\n",
    "def biHarmonicSolver(p, w, dx, dy, l1Target, u):\n",
    "    '''Performs Jacobi relaxation\n",
    "    \n",
    "    Parameters:\n",
    "    ----------\n",
    "    p : \n",
    "    \n",
    "    Returns:\n",
    "    -------\n",
    "    p: \n",
    "    '''\n",
    "    l1phi=l1Target+1\n",
    "    l1w=l1Target+1\n",
    "    for i in range(0, 3000):\n",
    "    #while l1phi>l1Target or l1w>l1Target:\n",
    "        pd=p.copy()\n",
    "        wd=w.copy()\n",
    "        p= poisson_2d_1step(pd, -wd, dx, dy)\n",
    "        p = enforceBCphi(pd)\n",
    "        l1phi= L1norm(p, pd)\n",
    "        w = laplace_2d_1step(wd, dx, dy)\n",
    "        w = enforceBCw(wd,pd,dx,dy,u)\n",
    "        l1w=L1norm(w, wd)\n",
    "    return p, w, l1phi, l1w"
   ]
  },
  {
   "cell_type": "code",
   "execution_count": 11,
   "metadata": {
    "collapsed": false
   },
   "outputs": [
    {
     "name": "stdout",
     "output_type": "stream",
     "text": [
      "0.0 8.047734489077807e-06\n"
     ]
    }
   ],
   "source": [
    "p, w, l1phi, l1w = biHarmonicSolver(p, w, dx, dy, l1_target, u)\n",
    "print(l1phi, l1w)"
   ]
  },
  {
   "cell_type": "code",
   "execution_count": 12,
   "metadata": {
    "collapsed": false
   },
   "outputs": [
    {
     "data": {
      "text/plain": [
       "<function matplotlib.pyplot.colorbar>"
      ]
     },
     "execution_count": 12,
     "metadata": {},
     "output_type": "execute_result"
    },
    {
     "data": {
      "image/png": "[encoded data removed]",
      "text/plain": [
       "<matplotlib.figure.Figure at 0x23c5a5eb358>"
      ]
     },
     "metadata": {},
     "output_type": "display_data"
    }
   ],
   "source": [
    "x=numpy.linspace(0, l, nx)\n",
    "y=numpy.linspace(0, h, ny)\n",
    "pyplot.figure(figsize=(8,5))\n",
    "pyplot.contourf(x,y,w,20)\n",
    "#pyplot.contourf(x, y, p, 20)\n",
    "pyplot.xlabel('$x$')\n",
    "pyplot.ylabel('$y$')\n",
    "pyplot.colorbar"
   ]
  },
  {
   "cell_type": "code",
   "execution_count": 13,
   "metadata": {
    "collapsed": false
   },
   "outputs": [
    {
     "data": {
      "text/plain": [
       "<function matplotlib.pyplot.colorbar>"
      ]
     },
     "execution_count": 13,
     "metadata": {},
     "output_type": "execute_result"
    },
    {
     "data": {
      "image/png": "[encoded data removed]",
      "text/plain": [
       "<matplotlib.figure.Figure at 0x23c5a626438>"
      ]
     },
     "metadata": {},
     "output_type": "display_data"
    }
   ],
   "source": [
    "x=numpy.linspace(0, l, nx)\n",
    "y=numpy.linspace(0, h, ny)\n",
    "pyplot.figure(figsize=(8,5))\n",
    "#pyplot.contourf(x,y,w,20)\n",
    "pyplot.contourf(x, y, p, 20)\n",
    "pyplot.xlabel('$x$')\n",
    "pyplot.ylabel('$y$')\n",
    "pyplot.colorbar"
   ]
  },
  {
   "cell_type": "code",
   "execution_count": null,
   "metadata": {
    "collapsed": false
   },
   "outputs": [],
   "source": [
    "p[:,-2]"
   ]
  },
  {
   "cell_type": "code",
   "execution_count": 25,
   "metadata": {
    "collapsed": false
   },
   "outputs": [
    {
     "data": {
      "text/plain": [
       "array([  0.00000000e+00,   2.77327322e-07,  -9.56899940e-07,\n",
       "        -1.57164330e-06,  -4.40239643e-07,   2.69072208e-06,\n",
       "         7.68325023e-06,   1.42508423e-05,   2.20563088e-05,\n",
       "         3.07512147e-05,   3.99938379e-05,   4.94587592e-05,\n",
       "         5.88426755e-05,   6.78681850e-05,   7.62863149e-05,\n",
       "         8.38781872e-05,   9.04560685e-05,   9.58639729e-05,\n",
       "         9.99779561e-05,   1.02706211e-04,   1.03989055e-04,\n",
       "         1.03798880e-04,   1.02140109e-04,   9.90491835e-05,\n",
       "         9.45945769e-05,   8.88768061e-05,   8.20283854e-05,\n",
       "         7.42136486e-05,   6.56283396e-05,   5.64988466e-05,\n",
       "         4.70809296e-05,   3.76577329e-05,   2.85367741e-05,\n",
       "         2.00453693e-05,   1.25233879e-05,   6.31075231e-06,\n",
       "         1.72306005e-06,  -1.00180537e-06,  -1.82480667e-06,\n",
       "        -1.14388370e-06,   0.00000000e+00])"
      ]
     },
     "execution_count": 25,
     "metadata": {},
     "output_type": "execute_result"
    }
   ],
   "source": [
    "p[:,1]"
   ]
  },
  {
   "cell_type": "code",
   "execution_count": 26,
   "metadata": {
    "collapsed": false
   },
   "outputs": [
    {
     "name": "stdout",
     "output_type": "stream",
     "text": [
      "0.00429384863137 -0.0980770926699 36.1971507932 -144.198620649\n"
     ]
    }
   ],
   "source": [
    "print(p.max(), p.min(), w.max(), w.min())"
   ]
  },
  {
   "cell_type": "code",
   "execution_count": 40,
   "metadata": {
    "collapsed": false
   },
   "outputs": [
    {
     "data": {
      "text/plain": [
       "20.75609756097561"
      ]
     },
     "execution_count": 40,
     "metadata": {},
     "output_type": "execute_result"
    }
   ],
   "source": [
    "0.0042938486315 -0.0980771126646 36.1971507821 -120.0"
   ]
  },
  {
   "cell_type": "code",
   "execution_count": null,
   "metadata": {
    "collapsed": true
   },
   "outputs": [],
   "source": []
  }
 ],
 "metadata": {
  "anaconda-cloud": {},
  "kernelspec": {
   "display_name": "Python [Root]",
   "language": "python",
   "name": "Python [Root]"
  },
  "language_info": {
   "codemirror_mode": {
    "name": "ipython",
    "version": 3
   },
   "file_extension": ".py",
   "mimetype": "text/x-python",
   "name": "python",
   "nbconvert_exporter": "python",
   "pygments_lexer": "ipython3",
   "version": "3.5.2"
  }
 },
 "nbformat": 4,
 "nbformat_minor": 0
}
