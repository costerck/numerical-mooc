{
 "cells": [
  {
   "cell_type": "code",
   "execution_count": 1,
   "metadata": {
    "collapsed": false
   },
   "outputs": [],
   "source": [
    "import numpy\n",
    "import numba\n",
    "from numba import jit\n",
    "from math import pi\n",
    "from matplotlib import pyplot\n",
    "%matplotlib inline\n",
    "\n",
    "nx = 41\n",
    "ny = 41\n",
    "\n",
    "l = 1.\n",
    "h = 1.\n",
    "\n",
    "dx = l/(nx-1)\n",
    "dy = h/(ny-1)\n",
    "\n",
    "p = numpy.zeros((ny,nx))\n",
    "w = numpy.zeros((ny,nx))\n",
    "\n",
    "l1_target = 1e-6\n",
    "\n",
    "def L1norm(new, old):\n",
    "    norm = numpy.sum(numpy.abs(new-old))\n",
    "    return norm"
   ]
  },
  {
   "cell_type": "code",
   "execution_count": 2,
   "metadata": {
    "collapsed": false
   },
   "outputs": [],
   "source": [
    "def poisson_2d_1step(p, b, dx, dy):\n",
    "    '''Performs Jacobi relaxation\n",
    "    \n",
    "    Parameters:\n",
    "    ----------\n",
    "    p : 2D array of floats\n",
    "        Initial guess\n",
    "    b : 2D array of floats\n",
    "        Source term\n",
    "    dx: float\n",
    "        Mesh spacing in x direction\n",
    "    dy: float\n",
    "        Mesh spacing in y direction\n",
    "    l2_target: float\n",
    "        Target difference between two consecutive iterates\n",
    "    \n",
    "    Returns:\n",
    "    -------\n",
    "    p: 2D array of float\n",
    "        Distribution after relaxation\n",
    "    '''\n",
    "    pd = p.copy()\n",
    "\n",
    "    p[1:-1,1:-1] = 1/(2*(dx**2 + dy**2)) * \\\n",
    "                    ((pd[1:-1,2:]+pd[1:-1,:-2])*dy**2 +\\\n",
    "                    (pd[2:,1:-1] + pd[:-2,1:-1])*dx**2 -\\\n",
    "                     b[1:-1,1:-1]*dx**2*dy**2)\n",
    "    \n",
    "    #enfocing BC elsewhere\n",
    "    l1= L1norm(p, pd)\n",
    "    \n",
    "    return p, l1        "
   ]
  },
  {
   "cell_type": "code",
   "execution_count": 3,
   "metadata": {
    "collapsed": false
   },
   "outputs": [],
   "source": [
    "def enforceBCphi(p,dy):\n",
    "#dirichlet condition\n",
    "    #top\n",
    "    p[1:-1,-1]=0\n",
    "    #bottom\n",
    "    p[1:-1,1]=0\n",
    "    #left\n",
    "    p[1,1:-1]=0\n",
    "    #right\n",
    "    p[-1,1:-1]=0\n",
    "#neumann condition\n",
    "    #top\n",
    "    p[2:-2,-2]=dy\n",
    "    #bottom\n",
    "    p[2:-2,2]=0\n",
    "    #left\n",
    "    p[2,2:-2]=0\n",
    "    #right\n",
    "    p[-2,2:-2]=0\n",
    "    return p\n",
    "\n",
    "def enforceBCw(w,p,dx,dy):\n",
    "    #neumann + laplace\n",
    "    #top\n",
    "    w[1:-1,-1]=-(8*p[1:-1,-2]-p[1:-1, -3])/2/dy/dy - 3/dy\n",
    "    #bottom\n",
    "    w[1:-1,1]=-(8*p[1:-1,2]-p[1:-1,3])/2/dy/dy\n",
    "    #left\n",
    "    w[1,1:-1]=-(8*p[2,1:-1]-p[3,1:-1])/2/dx/dx\n",
    "    #right\n",
    "    w[-1,1:-1]=-(8*p[-2,1:-1]-p[-3,1:-1])/2/dx/dx\n",
    "    return w\n",
    "\n"
   ]
  },
  {
   "cell_type": "code",
   "execution_count": 4,
   "metadata": {
    "collapsed": true
   },
   "outputs": [],
   "source": [
    "def stokesSolver(p, w, dx, dy, nx, ny, l1Target):\n",
    "    l1phi=1\n",
    "    l1w=1\n",
    "    while 0 and l1phi>l1Target or l1w>l1Target:\n",
    "        p, l1phi = poisson_2d_1step(p, -w, dx, dy)\n",
    "        enforceBCphi(p,dy)\n",
    "        w, l1w = poisson_2d_1step(w, numpy.zeros((p.shape)), dx, dy)\n",
    "        enforceBCw(w,p,dx,dy)\n",
    "    return p, w, l1phi, l1w"
   ]
  },
  {
   "cell_type": "code",
   "execution_count": 5,
   "metadata": {
    "collapsed": false
   },
   "outputs": [],
   "source": [
    "def plot2D(p, nx, ny, lx, ly):\n",
    "    x=numpy.linspace(0, lx, nx)\n",
    "    y=numpy.linspace(0, ly, ny)\n",
    "    pyplot.figure(fisize=(8,5))\n",
    "    pyplot.contourf(x,y,p,20,cmap=cm.viridis)\n",
    "    pyplot.xlabel('$x$')\n",
    "    pyplot.ylabel('$y$')\n",
    "    pyplot.colorbar"
   ]
  },
  {
   "cell_type": "code",
   "execution_count": 6,
   "metadata": {
    "collapsed": false
   },
   "outputs": [
    {
     "data": {
      "text/plain": [
       "(array([[ 0.   ,  0.   ,  0.   , ...,  0.   ,  0.   ,  0.   ],\n",
       "        [ 0.   ,  0.   ,  0.   , ...,  0.   ,  0.   ,  0.   ],\n",
       "        [ 0.   ,  0.   ,  0.   , ...,  0.   ,  0.025,  0.   ],\n",
       "        ..., \n",
       "        [ 0.   ,  0.   ,  0.   , ...,  0.   ,  0.025,  0.   ],\n",
       "        [ 0.   ,  0.   ,  0.   , ...,  0.   ,  0.   ,  0.   ],\n",
       "        [ 0.   ,  0.   ,  0.   , ...,  0.   ,  0.   ,  0.   ]]),\n",
       " array([[   0.,    0.,    0., ...,    0.,    0.,    0.],\n",
       "        [   0.,   -0.,   -0., ...,   -0., -140., -120.],\n",
       "        [   0.,   -0.,    0., ...,    0.,    0., -280.],\n",
       "        ..., \n",
       "        [   0.,   -0.,    0., ...,    0.,    0., -280.],\n",
       "        [   0.,   -0.,    0., ...,    0.,    0., -120.],\n",
       "        [   0.,   -0.,   -0., ...,   -0.,   20.,    0.]]),\n",
       " 0.0,\n",
       " 0.0)"
      ]
     },
     "execution_count": 6,
     "metadata": {},
     "output_type": "execute_result"
    }
   ],
   "source": [
    "stokesSolver(p,w,dx,dy, nx, ny ,l1_target)"
   ]
  },
  {
   "cell_type": "code",
   "execution_count": 9,
   "metadata": {
    "collapsed": false
   },
   "outputs": [
    {
     "data": {
      "text/plain": [
       "<function matplotlib.pyplot.colorbar>"
      ]
     },
     "execution_count": 9,
     "metadata": {},
     "output_type": "execute_result"
    },
    {
     "data": {
      "image/png": "[encoded data removed]",
      "text/plain": [
       "<matplotlib.figure.Figure at 0x1ef75a53d30>"
      ]
     },
     "metadata": {},
     "output_type": "display_data"
    }
   ],
   "source": [
    "x=numpy.linspace(0, l, nx)\n",
    "y=numpy.linspace(0, h, ny)\n",
    "pyplot.figure(figsize=(8,5))\n",
    "pyplot.contourf(x,y,w,20)\n",
    "pyplot.xlabel('$x$')\n",
    "pyplot.ylabel('$y$')\n",
    "pyplot.colorbar"
   ]
  },
  {
   "cell_type": "code",
   "execution_count": null,
   "metadata": {
    "collapsed": true
   },
   "outputs": [],
   "source": []
  },
  {
   "cell_type": "code",
   "execution_count": null,
   "metadata": {
    "collapsed": true
   },
   "outputs": [],
   "source": []
  }
 ],
 "metadata": {
  "anaconda-cloud": {},
  "kernelspec": {
   "display_name": "Python [Root]",
   "language": "python",
   "name": "Python [Root]"
  },
  "language_info": {
   "codemirror_mode": {
    "name": "ipython",
    "version": 3
   },
   "file_extension": ".py",
   "mimetype": "text/x-python",
   "name": "python",
   "nbconvert_exporter": "python",
   "pygments_lexer": "ipython3",
   "version": "3.5.2"
  }
 },
 "nbformat": 4,
 "nbformat_minor": 0
}
