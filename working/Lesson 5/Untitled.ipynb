{
 "cells": [
  {
   "cell_type": "code",
   "execution_count": 10,
   "metadata": {
    "collapsed": false
   },
   "outputs": [],
   "source": [
    "import numpy\n",
    "import numba\n",
    "from numba import jit\n",
    "from math import pi\n",
    "from matplotlib import pyplot\n",
    "%matplotlib inline\n",
    "\n",
    "nx = 41\n",
    "ny = 41\n",
    "\n",
    "l = 1.\n",
    "h = 1.\n",
    "\n",
    "dx = l/(nx-1)\n",
    "dy = h/(ny-1)\n",
    "\n",
    "p = numpy.zeros((ny,nx))\n",
    "w = numpy.zeros((ny,nx))\n",
    "\n",
    "u=1.\n",
    "\n",
    "l1_target = 10e-6"
   ]
  },
  {
   "cell_type": "code",
   "execution_count": 11,
   "metadata": {
    "collapsed": true
   },
   "outputs": [],
   "source": [
    "@jit\n",
    "def L1norm(new, old):\n",
    "    norm = numpy.sum(numpy.abs(new-old))\n",
    "    \n",
    "    return norm"
   ]
  },
  {
   "cell_type": "code",
   "execution_count": 12,
   "metadata": {
    "collapsed": false
   },
   "outputs": [],
   "source": [
    "@jit\n",
    "def poisson_2d_1step(p, b, dx, dy):\n",
    "    '''Performs Jacobi relaxation\n",
    "    \n",
    "    Parameters:\n",
    "    ----------\n",
    "    p : 2D array of floats\n",
    "        Initial guess\n",
    "    b : 2D array of floats\n",
    "        Source term\n",
    "    dx: float\n",
    "        Mesh spacing in x direction\n",
    "    dy: float\n",
    "        Mesh spacing in y direction\n",
    "    l2_target: float\n",
    "        Target difference between two consecutive iterates\n",
    "    \n",
    "    Returns:\n",
    "    -------\n",
    "    p: 2D array of float\n",
    "        Distribution after relaxation\n",
    "    '''\n",
    "    pd = p.copy()\n",
    "\n",
    "   \n",
    "    p[1:-1,1:-1] = 1/(2*(dx**2 + dy**2)) * ((pd[1:-1,2:]+pd[1:-1,:-2])*dy**2 + (pd[2:,1:-1] + pd[:-2,1:-1])*dx**2 - b[1:-1,1:-1]*dx**2*dy**2)\n",
    "    \n",
    "    #enforcing BC elsewhere\n",
    "    \n",
    "    \n",
    "    return p      "
   ]
  },
  {
   "cell_type": "code",
   "execution_count": 13,
   "metadata": {
    "collapsed": false
   },
   "outputs": [],
   "source": [
    "@jit\n",
    "def enforceBCphi(p,dy,u):\n",
    "#dirichlet condition\n",
    "    #top\n",
    "    p[:,-1]=0.\n",
    "    #bottom\n",
    "    p[:,0]=0.\n",
    "    #left\n",
    "    p[0,:]=0.\n",
    "    #right\n",
    "    p[-1,:]=0.\n",
    "    \n",
    "    return p\n",
    "\n",
    "def enforceBCw(w,p,dx,dy,u):\n",
    "    #neumann + laplace\n",
    "    #top\n",
    "    w[:,-1]=-(8*p[:,-2]-p[:, -3])/2/dy/dy - 3*u/dy\n",
    "    #bottom\n",
    "    w[:,1]=-(8*p[:,2]-p[:,3])/2/dy/dy\n",
    "    #left\n",
    "    w[1,:]=-(8*p[2,:]-p[3,:])/2/dx/dx\n",
    "    #right\n",
    "    w[-1,:]=-(8*p[-2,:]-p[-3,:])/2/dx/dx\n",
    "    return w\n"
   ]
  },
  {
   "cell_type": "code",
   "execution_count": 14,
   "metadata": {
    "collapsed": false
   },
   "outputs": [],
   "source": [
    "@jit\n",
    "def stokesSolver(p, w, dx, dy, nx, ny, l1Target, u, nloop):\n",
    "    l1phi=1\n",
    "    l1w=1\n",
    "    i=0\n",
    "    while l1phi>l1Target or l1w>l1Target:\n",
    "        pd=p.copy()\n",
    "        p= poisson_2d_1step(p.copy(), -w.copy(), dx, dy)\n",
    "        p = enforceBCphi(p.copy(),dy,u)\n",
    "        l1phi= L1norm(p, pd)\n",
    "        wd=w.copy()\n",
    "        w = poisson_2d_1step(w.copy(), numpy.zeros((p.shape)), dx, dy)\n",
    "        w = enforceBCw(w.copy(),p.copy(),dx,dy,u)\n",
    "        l1w=L1norm(w, wd)\n",
    "        i+=1\n",
    "    print(l1w, l1phi)\n",
    "    print(\"nb loop\")\n",
    "    print(i) \n",
    "    return p, w"
   ]
  },
  {
   "cell_type": "code",
   "execution_count": 15,
   "metadata": {
    "collapsed": false
   },
   "outputs": [],
   "source": [
    "@jit\n",
    "def plot2D(p, nx, ny, lx, ly):\n",
    "    x=numpy.linspace(0, lx, nx)\n",
    "    y=numpy.linspace(0, ly, ny)\n",
    "    pyplot.figure(fisize=(8,5))\n",
    "    pyplot.contourf(x,y,p,20,cmap=cm.viridis)\n",
    "    pyplot.xlabel('$x$')\n",
    "    pyplot.ylabel('$y$')\n",
    "    pyplot.colorbar"
   ]
  },
  {
   "cell_type": "code",
   "execution_count": 16,
   "metadata": {
    "collapsed": false
   },
   "outputs": [
    {
     "name": "stdout",
     "output_type": "stream",
     "text": [
      "9.95910381379765e-06 1.0984727792702077e-07\n",
      "nb loop\n",
      "3336\n"
     ]
    }
   ],
   "source": [
    "p, w = stokesSolver(p.copy(), w.copy(), dx, dy, nx, ny ,l1_target, u, 4000)"
   ]
  },
  {
   "cell_type": "code",
   "execution_count": 17,
   "metadata": {
    "collapsed": false
   },
   "outputs": [
    {
     "data": {
      "text/plain": [
       "<function matplotlib.pyplot.colorbar>"
      ]
     },
     "execution_count": 17,
     "metadata": {},
     "output_type": "execute_result"
    },
    {
     "data": {
      "image/png": "[encoded data removed]",
      "text/plain": [
       "<matplotlib.figure.Figure at 0x24939f37d30>"
      ]
     },
     "metadata": {},
     "output_type": "display_data"
    }
   ],
   "source": [
    "x=numpy.linspace(0, l, nx)\n",
    "y=numpy.linspace(0, h, ny)\n",
    "pyplot.figure(figsize=(8,5))\n",
    "pyplot.contourf(x,y,w,20)\n",
    "#pyplot.contourf(x, y, p, 20)\n",
    "pyplot.xlabel('$x$')\n",
    "pyplot.ylabel('$y$')\n",
    "pyplot.colorbar"
   ]
  },
  {
   "cell_type": "code",
   "execution_count": 18,
   "metadata": {
    "collapsed": false
   },
   "outputs": [
    {
     "data": {
      "text/plain": [
       "<function matplotlib.pyplot.colorbar>"
      ]
     },
     "execution_count": 18,
     "metadata": {},
     "output_type": "execute_result"
    },
    {
     "data": {
      "image/png": "[encoded data removed]",
      "text/plain": [
       "<matplotlib.figure.Figure at 0x2493974cda0>"
      ]
     },
     "metadata": {},
     "output_type": "display_data"
    }
   ],
   "source": [
    "x=numpy.linspace(0, l, nx)\n",
    "y=numpy.linspace(0, h, ny)\n",
    "pyplot.figure(figsize=(8,5))\n",
    "#pyplot.contourf(x,y,w,20)\n",
    "pyplot.contourf(x, y, p, 20)\n",
    "pyplot.xlabel('$x$')\n",
    "pyplot.ylabel('$y$')\n",
    "pyplot.colorbar"
   ]
  },
  {
   "cell_type": "code",
   "execution_count": 21,
   "metadata": {
    "collapsed": false
   },
   "outputs": [
    {
     "data": {
      "text/plain": [
       "array([ 0.        ,  0.00429385, -0.00661488, -0.01354352, -0.01710854,\n",
       "       -0.01901072, -0.02014206, -0.02088985, -0.02142289, -0.0218216 ,\n",
       "       -0.02212906, -0.02237081, -0.02256319, -0.02271718, -0.02284043,\n",
       "       -0.02293838, -0.02301494, -0.02307294, -0.0231144 , -0.02314068,\n",
       "       -0.02315263, -0.02315062, -0.02313458, -0.02310402, -0.02305797,\n",
       "       -0.02299488, -0.02291255, -0.0228079 , -0.02267668, -0.02251298,\n",
       "       -0.02230852, -0.02205141, -0.02172395, -0.0212986 , -0.0207295 ,\n",
       "       -0.01993323, -0.01874262, -0.01679996, -0.013364  , -0.0073263 ,  0.        ])"
      ]
     },
     "execution_count": 21,
     "metadata": {},
     "output_type": "execute_result"
    }
   ],
   "source": [
    "p[:,-2]"
   ]
  },
  {
   "cell_type": "code",
   "execution_count": 22,
   "metadata": {
    "collapsed": false
   },
   "outputs": [
    {
     "data": {
      "text/plain": [
       "array([  0.00000000e+00,   2.77327925e-07,  -9.56898904e-07,\n",
       "        -1.57163430e-06,  -4.40214856e-07,   2.69076824e-06,\n",
       "         7.68332095e-06,   1.42509389e-05,   2.20564313e-05,\n",
       "         3.07513620e-05,   3.99940083e-05,   4.94589507e-05,\n",
       "         5.88428857e-05,   6.78684117e-05,   7.62865555e-05,\n",
       "         8.38784395e-05,   9.04563302e-05,   9.58642419e-05,\n",
       "         9.99782305e-05,   1.02706489e-04,   1.03989335e-04,\n",
       "         1.03799159e-04,   1.02140386e-04,   9.90494569e-05,\n",
       "         9.45948446e-05,   8.88770661e-05,   8.20286354e-05,\n",
       "         7.42138866e-05,   6.56285630e-05,   5.64990531e-05,\n",
       "         4.70811168e-05,   3.76578985e-05,   2.85369162e-05,\n",
       "         2.00454863e-05,   1.25234790e-05,   6.31081773e-06,\n",
       "         1.72310150e-06,  -1.00178424e-06,  -1.82479992e-06,\n",
       "        -1.14388357e-06,   0.00000000e+00])"
      ]
     },
     "execution_count": 22,
     "metadata": {},
     "output_type": "execute_result"
    }
   ],
   "source": [
    "p[:,1]"
   ]
  },
  {
   "cell_type": "code",
   "execution_count": 23,
   "metadata": {
    "collapsed": false
   },
   "outputs": [
    {
     "name": "stdout",
     "output_type": "stream",
     "text": [
      "0.0042938486315 -0.0980771126646 36.1971507821 -120.0\n"
     ]
    }
   ],
   "source": [
    "print(p.max(), p.min(), w.max(), w.min())"
   ]
  },
  {
   "cell_type": "code",
   "execution_count": 40,
   "metadata": {
    "collapsed": false
   },
   "outputs": [
    {
     "data": {
      "text/plain": [
       "20.75609756097561"
      ]
     },
     "execution_count": 40,
     "metadata": {},
     "output_type": "execute_result"
    }
   ],
   "source": []
  },
  {
   "cell_type": "code",
   "execution_count": null,
   "metadata": {
    "collapsed": true
   },
   "outputs": [],
   "source": []
  }
 ],
 "metadata": {
  "anaconda-cloud": {},
  "kernelspec": {
   "display_name": "Python [Root]",
   "language": "python",
   "name": "Python [Root]"
  },
  "language_info": {
   "codemirror_mode": {
    "name": "ipython",
    "version": 3
   },
   "file_extension": ".py",
   "mimetype": "text/x-python",
   "name": "python",
   "nbconvert_exporter": "python",
   "pygments_lexer": "ipython3",
   "version": "3.5.2"
  }
 },
 "nbformat": 4,
 "nbformat_minor": 0
}
