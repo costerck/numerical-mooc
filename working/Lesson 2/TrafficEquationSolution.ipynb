{
 "cells": [
  {
   "cell_type": "markdown",
   "metadata": {},
   "source": [
    "# Sympy\n",
    "\n",
    "Here we'll use the sympy libraries for the derivation of a complicate function"
   ]
  },
  {
   "cell_type": "code",
   "execution_count": 1,
   "metadata": {
    "collapsed": false
   },
   "outputs": [],
   "source": [
    "#import libraries\n",
    "import numpy\n",
    "\n",
    "from sympy import *\n",
    "from matplotlib import pyplot\n",
    "%matplotlib inline\n",
    "from matplotlib import rcParams\n",
    "rcParams['font.family'] = 'serif'\n",
    "rcParams['font.size'] = 16"
   ]
  },
  {
   "cell_type": "code",
   "execution_count": 2,
   "metadata": {
    "collapsed": false
   },
   "outputs": [
    {
     "data": {
      "image/png": "[encoded data removed]",
      "text/latex": [
       "$$\\frac{\\cos^{2}{\\left (x \\right )}}{4 x^{5}} e^{- x} \\sin^{3}{\\left (x \\right )}$$"
      ],
      "text/plain": [
       " -x    3       2   \n",
       "ℯ  ⋅sin (x)⋅cos (x)\n",
       "───────────────────\n",
       "           5       \n",
       "        4⋅x        "
      ]
     },
     "execution_count": 2,
     "metadata": {},
     "output_type": "execute_result"
    }
   ],
   "source": [
    "#sympy solution\n",
    "init_printing()\n",
    "\n",
    "x=symbols('x') #We create the sympy symbol 'x'\n",
    "y=cos(x)**2*sin(x)**3/(4*x**5*exp(x)) #we use it to create the function we're interested in.\n",
    "y #printing y"
   ]
  },
  {
   "cell_type": "code",
   "execution_count": 3,
   "metadata": {
    "collapsed": false
   },
   "outputs": [
    {
     "data": {
      "image/png": "[encoded data removed]",
      "text/latex": [
       "$$- \\frac{\\sin^{4}{\\left (x \\right )}}{2 x^{5}} e^{- x} \\cos{\\left (x \\right )} - \\frac{\\cos^{2}{\\left (x \\right )}}{4 x^{5}} e^{- x} \\sin^{3}{\\left (x \\right )} + \\frac{3 e^{- x}}{4 x^{5}} \\sin^{2}{\\left (x \\right )} \\cos^{3}{\\left (x \\right )} - \\frac{5 e^{- x}}{4 x^{6}} \\sin^{3}{\\left (x \\right )} \\cos^{2}{\\left (x \\right )}$$"
      ],
      "text/plain": [
       "   -x    4              -x    3       2         -x    2       3         -x    \n",
       "  ℯ  ⋅sin (x)⋅cos(x)   ℯ  ⋅sin (x)⋅cos (x)   3⋅ℯ  ⋅sin (x)⋅cos (x)   5⋅ℯ  ⋅sin\n",
       "- ────────────────── - ─────────────────── + ───────────────────── - ─────────\n",
       "            5                     5                      5                    \n",
       "         2⋅x                   4⋅x                    4⋅x                     \n",
       "\n",
       "3       2   \n",
       " (x)⋅cos (x)\n",
       "────────────\n",
       "   6        \n",
       "4⋅x         "
      ]
     },
     "execution_count": 3,
     "metadata": {},
     "output_type": "execute_result"
    }
   ],
   "source": [
    "yprime=diff(y) #we take the derivative of the function\n",
    "yprime #we display it"
   ]
  },
  {
   "cell_type": "code",
   "execution_count": 4,
   "metadata": {
    "collapsed": false
   },
   "outputs": [
    {
     "data": {
      "image/png": "[encoded data removed]",
      "text/latex": [
       "$$-0.00026648912670920613$$"
      ],
      "text/plain": [
       "-0.00026648912670920613"
      ]
     },
     "execution_count": 4,
     "metadata": {},
     "output_type": "execute_result"
    }
   ],
   "source": [
    "yprime_lamb = lambdify((x), yprime) #we lambdify yprime so we can evaluate it\n",
    "yprime_lamb(2.2) #we evaluate it and print it"
   ]
  },
  {
   "cell_type": "markdown",
   "metadata": {},
   "source": [
    "This answer is the one researched"
   ]
  },
  {
   "cell_type": "markdown",
   "metadata": {},
   "source": [
    "# Traffic equation\n",
    "\n",
    "Preliminary note. We're asked to work with a 11km road. After first calculations, we realised the \"bump\" in the cars' density leaves the analysed part of the road quite fast. We've decided to work with a longer road for an easier analysis when looking at graphs. We've answered the question on the website with a 11km road. This change affects not very interesting things like the average speed on the road (because we calculate based on a bigger number of cars). (Note that we still work with a constant dx step).\n",
    "\n",
    "## Deriving the traffic equation\n",
    "\n",
    "The whole simulation is defined by the equation of the $$V(\\rho) = V_{max} (1-\\frac{\\rho}{\\rho_max})$$\n",
    "The rest simply follows from the the non-linear convection equation.\n",
    "Asymptotically this link between velocity and density looks coherent even if it's just an approximation.\n",
    "\n",
    "## Stability of the simulation\n",
    "\n",
    "In this forward-time, backward-space simulation, we must verify that the CFL coefficient is smaller than one. In this simulation the convection speed is variable but bounded. By taking the maximal velocity, whe can check that :\n",
    "$$\\frac{V_{max} \\Delta t}{\\Delta x} = \\frac{(80 or 135) 0.001}{11/51} = 0.37 or 0.63$$\n",
    "\n",
    "This should ensure the stability of the solution."
   ]
  },
  {
   "cell_type": "code",
   "execution_count": 5,
   "metadata": {
    "collapsed": false
   },
   "outputs": [],
   "source": [
    "#Traffic equation solution\n",
    "#rho0 intial condition of the density on the road\n",
    "#Vmax, maximal speed\n",
    "#rhomax, maximal density\n",
    "#T, Final time of the simulation\n",
    "#dt Step in time\n",
    "#dx Step in space\n",
    "#rhoi rho(0, t)- boundary condition\n",
    "\n",
    "def TrafEqSol(rho0, Vmax, rhomax, T, dt, dx, rhoi):\n",
    "    #copying initial conditions\n",
    "    u=rho0.copy()\n",
    "\n",
    "    #solve numerically the equation\n",
    "    for n in range (int(T/dt)):\n",
    "        un= u.copy()\n",
    "        u[1:]=un[1:]- dt/dx*Vmax*(1- 2*un[1:]/rhomax)*(un[1:]-un[0:-1])\n",
    "        u[0] = rhoi\n",
    "    return u\n",
    "\n",
    "#Numerical function for homework\n",
    "#Find the biggest element of a table\n",
    "def findMax(u):\n",
    "    mx = u[0]\n",
    "    for i in range (0, len(u)-1):\n",
    "        if mx<u[i]:\n",
    "            mx = u[i]\n",
    "    return mx\n",
    "            \n",
    "\n",
    "#Calculating the average value of elements of a table\n",
    "def findAve(u):\n",
    "    sumT = 0\n",
    "    for i in range(0, len(u)-1):\n",
    "        sumT = sumT + u[i]\n",
    "    return sumT/(len(u)-1)\n",
    "    \n",
    "#sum a table \n",
    "def sumTable(u):\n",
    "    sumT = 0\n",
    "    for i in range(0, len(u)-1):\n",
    "        sumT = sumT + u[i]\n",
    "    return sumT"
   ]
  },
  {
   "cell_type": "markdown",
   "metadata": {},
   "source": [
    "## Evaluation of the functions "
   ]
  },
  {
   "cell_type": "code",
   "execution_count": 6,
   "metadata": {
    "collapsed": true
   },
   "outputs": [],
   "source": [
    "#Common intial condition in the homework. Units are km and hours\n",
    "L = 20\n",
    "rhomax=250\n",
    "nx = int(L/11*51)\n",
    "dt = 0.001"
   ]
  },
  {
   "cell_type": "markdown",
   "metadata": {},
   "source": [
    "### Part A\n",
    "\n",
    "Simulation with maximal speed 80km/h. rho(0,t) = 10. With the initial density as defined in the assignement. Solution will be calculated at times 0, 3 and 6 minutes."
   ]
  },
  {
   "cell_type": "code",
   "execution_count": 7,
   "metadata": {
    "collapsed": false
   },
   "outputs": [
    {
     "data": {
      "image/png": "[encoded data removed]",
      "text/plain": [
       "<matplotlib.figure.Figure at 0x28c3d1605c0>"
      ]
     },
     "metadata": {},
     "output_type": "display_data"
    }
   ],
   "source": [
    "#Initial conditions (Used in part A of the assignement)\n",
    "Vmax = 80\n",
    "x = numpy.linspace(0,L,nx)\n",
    "rho0 = numpy.ones(nx)*10 \n",
    "rho0[10:20] = 50\n",
    "rhoi=10\n",
    "dx=L/nx\n",
    "\n",
    "#calculating solutions\n",
    "u1=TrafEqSol(rho0, Vmax, rhomax, 0, dt, dx, rhoi)\n",
    "u2=TrafEqSol(rho0, Vmax, rhomax, 0.05, dt, dx, rhoi)\n",
    "u3=TrafEqSol(rho0, Vmax, rhomax, 0.1, dt, dx, rhoi)\n",
    "\n",
    "        \n",
    "#Let's plot the solution because we like graphs\n",
    "pyplot.figure(figsize=(8,5), dpi=100)\n",
    "pyplot.plot(x,u1, label='T=0')\n",
    "pyplot.plot(x,u2, label='T=3min')\n",
    "pyplot.plot(x,u3, label='T=6min')\n",
    "pyplot.xlim([0,20])\n",
    "pyplot.ylim([0,60])\n",
    "pyplot.legend();"
   ]
  },
  {
   "cell_type": "markdown",
   "metadata": {},
   "source": [
    "The plot of the solution is the one we would have expected. The car are dispersing along the road. We would like to ensure that the  total number of car is constant as long as \"the bump\" in the density doesn't reach the end of the road. Let's check it at time t=3min. Normally, we should integrate the density over the length of the road. As we discretize, the integral becomes a sum. $$\\sum \\rho (x) dx  = constant $$\n"
   ]
  },
  {
   "cell_type": "markdown",
   "metadata": {},
   "source": [
    "As the space step dx is constant, we find that the sum of densities along the road must remain constant."
   ]
  },
  {
   "cell_type": "code",
   "execution_count": 8,
   "metadata": {
    "collapsed": false
   },
   "outputs": [
    {
     "name": "stdout",
     "output_type": "stream",
     "text": [
      "1310.0 1352.98469996 1369.90548438\n"
     ]
    }
   ],
   "source": [
    "nb_car_1 = sumTable(u1)\n",
    "nb_car_2 = sumTable(u2)\n",
    "nb_car_3 = sumTable(u3)\n",
    "print(nb_car_1, nb_car_2, nb_car_3)"
   ]
  },
  {
   "cell_type": "markdown",
   "metadata": {},
   "source": [
    "The number of car is mostly conserved even though some have appeared. We have linked that to the imprecision inherent in numerical methods. Indeed, if we do the analytical calculation of \n",
    "$$\\partial_t\\int\\rho dx = - \\int \\partial_t\\rho dx = - \\int \\partial_\\rho F * \\partial_x \\rho * dx = [F]_{x_0}^{x_f}$$\n",
    "Thus the total number of cars should be constant if the flux of cars going in and out is the same.\n",
    "The equation we have seems indeed to be consistent with the observation we can make in everyday life in first approximation."
   ]
  },
  {
   "cell_type": "markdown",
   "metadata": {},
   "source": [
    "Let's now find the values asked in the assignement :"
   ]
  },
  {
   "cell_type": "code",
   "execution_count": 9,
   "metadata": {
    "collapsed": false
   },
   "outputs": [
    {
     "name": "stdout",
     "output_type": "stream",
     "text": [
      "17.7777777778\n",
      "20.9006254457\n",
      "18.5832164545\n"
     ]
    }
   ],
   "source": [
    "#finding the smallest speed at time T = 0 (wich correspond to the highest density)\n",
    "rho_max_1 = findMax(u1)#finding the highest density on the road at time T=0\n",
    "V_min_1 = Vmax*(1-rho_max_1/rhomax)/3.6#printing it in m/s\n",
    "\n",
    "#finding average speed at time t = 3min\n",
    "V=numpy.zeros(nx) #creating a table st\n",
    "V[:]=Vmax*(1-u2[:]/rhomax) #converting the density table in velocity table\n",
    "V_av=findAve(V)/3.6#printing it in m/s\n",
    "\n",
    "#finding the smallest speed at time T = 6min (wich correspond to the highest density)\n",
    "rho_max_3 = findMax(u3)#finding the highest density on the road at time T=6min\n",
    "V_min_3 = Vmax*(1-rho_max_3/rhomax)/3.6 #printing it in m/s\n",
    "\n",
    "print(V_min_1)\n",
    "print(V_av)\n",
    "print(V_min_3)"
   ]
  },
  {
   "cell_type": "markdown",
   "metadata": {},
   "source": [
    "It's seems coherent that the minimum speed increases as the cars disperse along the road."
   ]
  },
  {
   "cell_type": "markdown",
   "metadata": {},
   "source": [
    "### Part B"
   ]
  },
  {
   "cell_type": "markdown",
   "metadata": {},
   "source": [
    "We do the same for those new initial conditions. As you will see, the result are analoguous and don't need being mentioned."
   ]
  },
  {
   "cell_type": "code",
   "execution_count": 10,
   "metadata": {
    "collapsed": false
   },
   "outputs": [
    {
     "data": {
      "image/png": "[encoded data removed]",
      "text/plain": [
       "<matplotlib.figure.Figure at 0x28c406b4860>"
      ]
     },
     "metadata": {},
     "output_type": "display_data"
    }
   ],
   "source": [
    "#Initial conditions (Used in part B of the assignement)\n",
    "Vmax = 136\n",
    "x = numpy.linspace(0,L,nx)\n",
    "rho0 = numpy.ones(nx)*20 \n",
    "rho0[10:20] = 50\n",
    "rhoi=20\n",
    "dx=L/nx\n",
    "\n",
    "#calculating solutions\n",
    "u1=TrafEqSol(rho0, Vmax, rhomax, 0, dt, dx, rhoi)\n",
    "u2=TrafEqSol(rho0, Vmax, rhomax, 0.05, dt, dx, rhoi)\n",
    "u3=TrafEqSol(rho0, Vmax, rhomax, 0.1, dt, dx, rhoi)\n",
    "\n",
    "        \n",
    "#Let's plot the solution because we like graphs\n",
    "pyplot.figure(figsize=(8,5), dpi=100)\n",
    "pyplot.plot(x,u1, label='T=0')\n",
    "pyplot.plot(x,u2, label='T=3min')\n",
    "pyplot.plot(x,u3, label='T=6min')\n",
    "pyplot.xlim([0,20])\n",
    "pyplot.ylim([0,60])\n",
    "pyplot.legend();"
   ]
  },
  {
   "cell_type": "code",
   "execution_count": 11,
   "metadata": {
    "collapsed": false
   },
   "outputs": [
    {
     "name": "stdout",
     "output_type": "stream",
     "text": [
      "2120.0 2156.98469375 2170.56160663\n"
     ]
    }
   ],
   "source": [
    "nb_car_1 = sumTable(u1)\n",
    "nb_car_2 = sumTable(u2)\n",
    "nb_car_3 = sumTable(u3)\n",
    "print(nb_car_1, nb_car_2, nb_car_3)"
   ]
  },
  {
   "cell_type": "code",
   "execution_count": 12,
   "metadata": {
    "collapsed": false
   },
   "outputs": [
    {
     "name": "stdout",
     "output_type": "stream",
     "text": [
      "30.2222222222\n",
      "34.1959716929\n",
      "31.4754675993\n"
     ]
    }
   ],
   "source": [
    "#finding the smallest speed at time T = 0 (wich correspond to the highest density)\n",
    "rho_max_1 = findMax(u1)#finding the highest density on the road at time T=0\n",
    "V_min_1 = Vmax*(1-rho_max_1/rhomax)/3.6#printing it in m/s\n",
    "\n",
    "#finding average speed at time t = 3min\n",
    "V=numpy.zeros(nx) #creating a table st\n",
    "V[:]=Vmax*(1-u2[:]/rhomax) #converting the density table in velocity table\n",
    "V_av=findAve(V)/3.6#printing it in m/s\n",
    "\n",
    "#finding the smallest speed at time T = 6min (wich correspond to the highest density)\n",
    "rho_max_3 = findMax(u3)#finding the highest density on the road at time T=6min\n",
    "V_min_3 = Vmax*(1-rho_max_3/rhomax)/3.6 #printing it in m/s\n",
    "\n",
    "print(V_min_1)\n",
    "print(V_av)\n",
    "print(V_min_3)"
   ]
  },
  {
   "cell_type": "markdown",
   "metadata": {
    "collapsed": true
   },
   "source": [
    "### Conclusion"
   ]
  },
  {
   "cell_type": "markdown",
   "metadata": {},
   "source": [
    "There is nothing new appearing in the second part. The simulation seems good even if cars are appearing (problem which could be solved by diminishing both space and time step paying attention to the CFL coefficient)."
   ]
  },
  {
   "cell_type": "markdown",
   "metadata": {},
   "source": [
    "### Observed problem"
   ]
  },
  {
   "cell_type": "markdown",
   "metadata": {},
   "source": [
    "We have noted a curious behaviour when the parameter rho_ is smaller than 2 times the maximal rho in the initial condition. Putting a rho_m = 90 (the maximal initial rho is 50) results in an explosion (a virtual one, not real)."
   ]
  },
  {
   "cell_type": "code",
   "execution_count": 13,
   "metadata": {
    "collapsed": false
   },
   "outputs": [
    {
     "data": {
      "image/png": "[encoded data removed]",
      "text/plain": [
       "<matplotlib.figure.Figure at 0x28c400e60b8>"
      ]
     },
     "metadata": {},
     "output_type": "display_data"
    }
   ],
   "source": [
    "Vmax = 136\n",
    "x = numpy.linspace(0,L,nx)\n",
    "rho0 = numpy.ones(nx)*20 \n",
    "rho0[10:20] = 50\n",
    "rhoi=20\n",
    "dx=L/nx\n",
    "rhomax = 90\n",
    "\n",
    "#calculating solutions\n",
    "u1=TrafEqSol(rho0, Vmax, rhomax, 0, dt, dx, rhoi)\n",
    "u2=TrafEqSol(rho0, Vmax, rhomax, 0.002, dt, dx, rhoi)\n",
    "u3=TrafEqSol(rho0, Vmax, rhomax, 0.005, dt, dx, rhoi)\n",
    "\n",
    "        \n",
    "#Let's plot the solution because we like graphs\n",
    "pyplot.figure(figsize=(8,5), dpi=100)\n",
    "pyplot.plot(x,u1, label='T=0')\n",
    "pyplot.plot(x,u2, label='3 time steps')\n",
    "pyplot.plot(x,u3, label='5 time steps')\n",
    "pyplot.xlim([0,20])\n",
    "pyplot.ylim([0,80])\n",
    "pyplot.legend();"
   ]
  },
  {
   "cell_type": "markdown",
   "metadata": {},
   "source": [
    "Something is happening at the beginning of our bump!! Physically, there should be no problem. The cars density is smaller than the maximal density, so everything should go smooth.\n",
    "The problem lies in our calculations.\n",
    "Look at the equation used in the simulation:\n",
    "$$\\rho(x,t+dt) = \\rho(x,t) - \\frac{dt}{dx} * Vm * (1-\\frac{2\\rho(x,t)}{\\rho_m}) * (\\rho(x,t) - \\rho(x-dx,t))$$"
   ]
  },
  {
   "cell_type": "markdown",
   "metadata": {},
   "source": [
    "The two last terms of the product are crucial to the understanding of this phenomenon (let's call them X and Y).Let's evaluate the function at the beginning of the bump. When the maximal density is smaller than 50, then the X term is negative. Since all other terms are positive, this results into an increase proportional to rho squared at the beginning of the bump. Each time-step gives a bigger increase.\n",
    "The Y term tells us why is this happening at this place. rho(x-dx,t) is constant here and rho(x,t) is bigger. We see that the behaviour at the bump is more correct.\n",
    "Maybe doing the forward-time,forward-space method would solve the problem?\n",
    "No! We would observe the same problem, but at the end of the bump and when rho_max is bigger than 2*50=100.\n",
    "This means we need to be very carefull about the choice of parameters and we need not only to know how to compute differential equations, but we need also an understanding on the behaviour of our equations."
   ]
  }
 ],
 "metadata": {
  "anaconda-cloud": {},
  "kernelspec": {
   "display_name": "Python [Root]",
   "language": "python",
   "name": "Python [Root]"
  },
  "language_info": {
   "codemirror_mode": {
    "name": "ipython",
    "version": 3
   },
   "file_extension": ".py",
   "mimetype": "text/x-python",
   "name": "python",
   "nbconvert_exporter": "python",
   "pygments_lexer": "ipython3",
   "version": "3.5.2"
  }
 },
 "nbformat": 4,
 "nbformat_minor": 0
}
