{
 "cells": [
  {
   "cell_type": "markdown",
   "metadata": {},
   "source": [
    "Coding assignement :\n",
    "\n",
    "We have to solve the following partial differential equations :\n",
    "\n",
    "\\begin{align}\n",
    "\\frac{\\partial u}{\\partial t} &= D_u \\nabla ^2 u - uv^2 + F(1-u)\\\\\n",
    "\\frac{\\partial v}{\\partial t} &= D_v \\nabla ^2 v + uv^2 - (F + k)v\n",
    "\\end{align}\n",
    "\n",
    "Let's discretize our equation :\n",
    "\n",
    "\\begin{eqnarray}\n",
    "\\frac{u^{n+1}_{i,j} - u^n_{i,j}}{\\Delta t}\n",
    "= \\frac{Du}{\\delta^2} &\\left( u^{n}_{i+1, j} + u^{n}_{i-1,j} - 4u^{n}_{i,j} + u^{n}_{i, j+1} + u^{n}_{i,j-1}\\right) - u^{n}_{i, j}(v^{n}_{i, j})^2 + F(1 - u^{n}_{i, j})\n",
    "\\end{eqnarray}\n",
    "\\begin{eqnarray}\n",
    "\\frac{v^{n+1}_{i,j} - v^n_{i,j}}{\\Delta t}\n",
    "= \\frac{Dv}{\\delta^2} &\\left( v^{n}_{i+1, j} + v^{n}_{i-1,j} - 4v^{n}_{i,j} + v^{n}_{i, j+1} + v^{n}_{i,j-1}\\right) + u^{n}_{i, j}(v^{n}_{i, j})^2 - (F + k) v^{n}_{i, j}\n",
    "\\end{eqnarray}\n",
    "\n",
    "Wich leads to :\n",
    "\n",
    "\\begin{eqnarray}\n",
    "u^{n+1}_{i,j}\n",
    "=  u^n_{i,j} + \\Delta t \\left( \\frac{Du}{\\delta^2} \\left( u^{n}_{i+1, j} + u^{n}_{i-1,j} - 4u^{n}_{i,j} + u^{n}_{i, j+1} + u^{n}_{i,j-1}\\right) - u^{n}_{i, j}(v^{n}_{i, j})^2 + F(1 - u^{n}_{i, j}) \\right)\n",
    "\\end{eqnarray}\n",
    "\\begin{eqnarray}\n",
    "v^{n+1}_{i,j}\n",
    "= v^n_{i,j} + \\Delta t \\left( \\frac{Dv}{\\delta^2} \\left( v^{n}_{i+1, j} + v^{n}_{i-1,j} - 4v^{n}_{i,j} + v^{n}_{i, j+1} + v^{n}_{i,j-1}\\right) + u^{n}_{i, j}(v^{n}_{i, j})^2 - (F + k) v^{n}_{i, j} \\right)\n",
    "\\end{eqnarray}"
   ]
  },
  {
   "cell_type": "markdown",
   "metadata": {},
   "source": [
    "We are here going to use the explicit way of numerically solve this equation."
   ]
  },
  {
   "cell_type": "code",
   "execution_count": 1,
   "metadata": {
    "collapsed": true
   },
   "outputs": [],
   "source": [
    "import numpy\n",
    "from matplotlib import pyplot\n",
    "%matplotlib inline\n",
    "from matplotlib import rcParams, cm\n",
    "rcParams['font.family'] = 'serif'\n",
    "rcParams['font.size'] = 16"
   ]
  },
  {
   "cell_type": "code",
   "execution_count": 2,
   "metadata": {
    "collapsed": false
   },
   "outputs": [],
   "source": [
    "def solveeq(u, v, nt, Du, Dv, F, k, dt, dh, r=True):\n",
    "    \"\"\" \n",
    "    modify directly u and v in such a way to solve the equation (not a copy of u and v)\n",
    "    \n",
    "    Parameters :\n",
    "    ------------\n",
    "    u  : 2D array of floats:\n",
    "         initial condition of u\n",
    "    v  : 2D array of floats:\n",
    "         initial condition of v\n",
    "    nt : int\n",
    "         number of time step\n",
    "    Du : float\n",
    "         speed of the diffusion of u\n",
    "    Dv : float\n",
    "         speed of the diffusion of v\n",
    "    F  : float\n",
    "         Feed rate\n",
    "    k  : float\n",
    "         kill rate\n",
    "    dt : float\n",
    "         lenght of a time-step\n",
    "    dh : float\n",
    "         lenght of a space-step (dx = dy = dh)\n",
    "    r  : Bool\n",
    "         choose if we return u or v\n",
    "         \n",
    "    Return :\n",
    "    --------\n",
    "    0  : int \n",
    "         if everything went ok, return 0\n",
    "    \"\"\"\n",
    "    output=numpy.empty_like(u)\n",
    "    \n",
    "    for n in range(nt):\n",
    "        un = u.copy()\n",
    "        vn= v.copy()\n",
    "        u[1:-1,1:-1] = un[1:-1,1:-1] + dt*(Du/dh/dh * (un[2:,1:-1] - 4*un[1:-1,1:-1] + un[:-2,1:-1] + un[1:-1,2:] + un[1:-1,:-2]) - un[1:-1,1:-1]*vn[1:-1,1:-1]*vn[1:-1,1:-1] + F*(1-un[1:-1,1:-1])) #nonlinear + feed/kill part\n",
    "        v[1:-1,1:-1] = vn[1:-1,1:-1] + dt*(Dv/dh/dh * (vn[2:,1:-1] - 4*vn[1:-1,1:-1] + vn[:-2,1:-1] + vn[1:-1,2:] + vn[1:-1,:-2]) + un[1:-1,1:-1]*vn[1:-1,1:-1]*vn[1:-1,1:-1] - (F+k)*vn[1:-1,1:-1]) #nonlinear + feed/kill part\n",
    "  \n",
    "        # Enforce Neumann BCs\n",
    "        u[1,:] = u[2,:]\n",
    "        u[:,1] = u[:, 2]\n",
    "        u[-1,:] = u[-2,:]\n",
    "        u[:,-1] = u[:,-2]\n",
    "        v[1,:] = v[2,:]\n",
    "        v[:,1] = v[:, 2]\n",
    "        v[-1,:] = v[-2,:]\n",
    "        v[:,-1] = v[:,-2]\n",
    "    \n",
    "    \n",
    "    if r==True:\n",
    "        output=u\n",
    "    else:\n",
    "        output=v\n",
    "        \n",
    "    return output"
   ]
  },
  {
   "cell_type": "code",
   "execution_count": 5,
   "metadata": {
    "collapsed": false
   },
   "outputs": [
    {
     "name": "stdout",
     "output_type": "stream",
     "text": [
      "Bacteria 1\n"
     ]
    },
    {
     "data": {
      "image/png": "[encoded data removed]",
      "text/plain": [
       "<matplotlib.figure.Figure at 0x2c38ec1e588>"
      ]
     },
     "metadata": {},
     "output_type": "display_data"
    }
   ],
   "source": [
    "#run the simulation for every suggested initial conditions\n",
    "n = 192\n",
    "for select in range(1,2): #change the range here to select different pattern only Bacteria 1 selected by default\n",
    "    uvinitial = numpy.load('./data/uvinitial.npz')\n",
    "    U = uvinitial['U']\n",
    "    V = uvinitial['V']\n",
    "    if select==1 :\n",
    "        Du, Dv, F, k = 0.00016, 0.00008, 0.035, 0.065 # Bacteria 1\n",
    "        print(\"Bacteria 1\")\n",
    "    if select==2 :\n",
    "        Du, Dv, F, k = 0.00014, 0.00006, 0.035, 0.065 # Bacteria 2\n",
    "        print(\"Bacteria 2\")\n",
    "    if select==3 :    \n",
    "        Du, Dv, F, k = 0.00016, 0.00008, 0.060, 0.062 # Coral\n",
    "        print(\"Coral\")\n",
    "    if select==4 :\n",
    "        Du, Dv, F, k = 0.00019, 0.00005, 0.060, 0.062 # Fingerprint\n",
    "        print(\"Fingerprint\")\n",
    "    if select==5 :\n",
    "        Du, Dv, F, k = 0.00010, 0.00010, 0.018, 0.050 # Spirals\n",
    "        print(\"Spirals\")\n",
    "    if select==6 :\n",
    "        Du, Dv, F, k = 0.00012, 0.00008, 0.020, 0.050 # Spirals Dense\n",
    "        print(\"Spirals Dense\")\n",
    "    if select==7 :\n",
    "        Du, Dv, F, k = 0.00010, 0.00016, 0.020, 0.050 # Spirals Fast\n",
    "        print(\"Spirals Fast\")\n",
    "    if select==8 :\n",
    "        Du, Dv, F, k = 0.00016, 0.00008, 0.020, 0.055 # Unstable\n",
    "        print(\"Unstable\")\n",
    "    if select==9 :\n",
    "        Du, Dv, F, k = 0.00016, 0.00008, 0.050, 0.065 # Worms 1\n",
    "        print(\"Worms 1\")\n",
    "    if select==10 :\n",
    "        Du, Dv, F, k = 0.00016, 0.00008, 0.054, 0.063 # Worms 2\n",
    "        print(\"Worms 2\")\n",
    "    if select==11 :\n",
    "        Du, Dv, F, k = 0.00016, 0.00008, 0.035, 0.060 # Zebrafish\n",
    "        print(\"Zebrafish\")\n",
    "        \n",
    "    #calculating other usefull variables    \n",
    "    dh = 5./(n-1)\n",
    "    T = 800\n",
    "    dt = .5 * dh**2 / (4*max(Du,Dv))\n",
    "    nt = int(T/dt)\n",
    "    \n",
    "    #solving\n",
    "    result = solveeq(U.copy(), V.copy(), nt, Du, Dv, F, k, dt, dh)\n",
    "    \n",
    "    #printing solution\n",
    "    x = numpy.linspace(0,5.,n)\n",
    "    y = numpy.linspace(0,5.,n)\n",
    "    pyplot.figure(figsize=(8,5))\n",
    "    pyplot.contourf(x,y,result,20,cmap=cm.viridis)\n",
    "    pyplot.xlabel('$x$')\n",
    "    pyplot.ylabel('$y$')\n",
    "    pyplot.colorbar();\n",
    "    "
   ]
  },
  {
   "cell_type": "markdown",
   "metadata": {
    "collapsed": false
   },
   "source": [
    "As we can see, it emerge a lot of different comportement of this equation depend of the initial values. It is, of course quite understanable because of the non-linearity of the equation. We have been able to reproduce all of the suggested comportements except for the spirals for unknown reason.\n",
    "(You can change the code above to select other patterns)\n",
    "\n",
    "What is more interesting is that we can find those comportement in nature if you look at the scheme of the fur of some animals for example. This could explain why we see some of those patern emerge being only because of a semblable reaction. "
   ]
  },
  {
   "cell_type": "markdown",
   "metadata": {
    "collapsed": false
   },
   "source": [
    "What about implicit scheme ?\n",
    "\n",
    "We have tried to write the implicit alogrithm for this version, however, it is now very clear that such an algorithm ask way to much computing power, indeed, for each type of concentration, we need to create a $(190)^4$ float array to store the evolution matrix. Let's not talk about solving a linear system with such a matrix. We have tried to inverse the matrix (as it does not change during the execution of the algorithm) to juste have to use matrix-vector multiplication but it is still a lot of computation. It is not realisable for a personnal computer as the one's we have access to. You can have a look at the code but do not try to execute it as it will take a lot of ressource from your computer (raising Memory error's even with 16Go of RAM). The gitHub link is the following : https://github.com/costerck/numerical-mooc/tree/master/working/Lesson%204/Implicit.ipynb (do not forget to download the data file as well).\n",
    "\n",
    "For a very small value of n (the number of space steps) such as 20 or 30, the code run quite smoothly but we haven't been able to observe any pattern because of the low resolution of the simulation.\n"
   ]
  },
  {
   "cell_type": "code",
   "execution_count": null,
   "metadata": {
    "collapsed": true
   },
   "outputs": [],
   "source": []
  }
 ],
 "metadata": {
  "anaconda-cloud": {},
  "kernelspec": {
   "display_name": "Python [Root]",
   "language": "python",
   "name": "Python [Root]"
  },
  "language_info": {
   "codemirror_mode": {
    "name": "ipython",
    "version": 3
   },
   "file_extension": ".py",
   "mimetype": "text/x-python",
   "name": "python",
   "nbconvert_exporter": "python",
   "pygments_lexer": "ipython3",
   "version": "3.5.2"
  }
 },
 "nbformat": 4,
 "nbformat_minor": 0
}
