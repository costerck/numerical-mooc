{
 "cells": [
  {
   "cell_type": "markdown",
   "metadata": {},
   "source": [
    "###### Content under Creative Commons Attribution license CC-BY 4.0, code under MIT license (c)2014 L.A. Barba, C.D. Cooper, G.F. Forsyth."
   ]
  },
  {
   "cell_type": "markdown",
   "metadata": {},
   "source": [
    "# Riding the wave"
   ]
  },
  {
   "cell_type": "markdown",
   "metadata": {},
   "source": [
    "## Numerical schemes for hyperbolic PDEs"
   ]
  },
  {
   "cell_type": "markdown",
   "metadata": {},
   "source": [
    "Welcome back! This is the second notebook of *Riding the wave: Convection problems*, the third module of  [\"Practical Numerical Methods with Python\"](http://openedx.seas.gwu.edu/courses/GW/MAE6286/2014_fall/about). \n",
    "\n",
    "The first notebook of this module discussed conservation laws and developed the non-linear traffic equation. We learned about the effect of the wave speed on the stability of the numerical method, and on the CFL number. We also realized that the forward-time/backward-space difference scheme really has many limitations: it cannot deal with wave speeds that move in more than one direction. It is also first-order accurate in space and time, which often is just not good enough. This notebook will introduce some new numerical schemes for conservation laws, continuing with the traffic-flow problem as motivation."
   ]
  },
  {
   "cell_type": "markdown",
   "metadata": {},
   "source": [
    "## Red light!"
   ]
  },
  {
   "cell_type": "markdown",
   "metadata": {},
   "source": [
    "Let's explore the behavior of different numerical schemes for a moving shock wave. In the context of the traffic-flow model of the previous notebook, imagine a very busy road and a red light at $x=4$. Cars accumulate quickly in the front, where we have the maximum allowed density of cars between $x=3$ and $x=4$, and there is an incoming traffic of 50% the maximum allowed density $(\\rho = 0.5\\rho_{\\rm max})$. \n",
    "\n",
    "Mathematically, this is:\n",
    "\n",
    "\\begin{equation}\\rho(x,0) = \\left\\{ \\begin{array}{cc}\n",
    "0.5 \\rho_{\\rm max} & 0 \\leq x < 3  \\\\\n",
    "\\rho_{\\rm max} & 3 \\leq x \\leq 4 \\\\ \\end{array} \\right.\\end{equation}\n",
    "\n",
    "Let's find out what the initial condition looks like."
   ]
  },
  {
   "cell_type": "code",
   "execution_count": 1,
   "metadata": {
    "collapsed": false
   },
   "outputs": [],
   "source": [
    "%matplotlib inline\n",
    "import numpy \n",
    "from matplotlib import pyplot\n",
    "from matplotlib import rcParams\n",
    "rcParams['font.family'] = 'serif'\n",
    "rcParams['font.size'] = 16"
   ]
  },
  {
   "cell_type": "code",
   "execution_count": 2,
   "metadata": {
    "collapsed": false
   },
   "outputs": [],
   "source": [
    "def rho_red_light(nx, rho_max, rho_in):\n",
    "    \"\"\"Computes \"red light\" initial condition with shock\n",
    "\n",
    "    Parameters\n",
    "    ----------\n",
    "    nx        : int\n",
    "        Number of grid points in x\n",
    "    rho_max   : float\n",
    "        Maximum allowed car density\n",
    "    rho_in    : float\n",
    "        Density of incoming cars \n",
    "\n",
    "    Returns\n",
    "    -------\n",
    "    rho: array of floats\n",
    "        Array with initial values of density\n",
    "    \"\"\"\n",
    "    rho = rho_max*numpy.ones(nx)\n",
    "    rho[:int((nx-1)*3./4.)] = rho_in\n",
    "    return rho"
   ]
  },
  {
   "cell_type": "code",
   "execution_count": 3,
   "metadata": {
    "collapsed": false
   },
   "outputs": [],
   "source": [
    "#Basic initial condition parameters\n",
    "#defining grid size, time steps, CFL condition, etc...\n",
    "nx = 81\n",
    "nt = 30\n",
    "dx = 4.0/(nx-1)\n",
    "\n",
    "rho_in = 5.\n",
    "rho_max = 10.\n",
    "\n",
    "u_max = 1.\n",
    "\n",
    "x = numpy.linspace(0,4,nx)\n",
    "\n",
    "rho = rho_red_light(nx, rho_max, rho_in)"
   ]
  },
  {
   "cell_type": "code",
   "execution_count": 4,
   "metadata": {
    "collapsed": false
   },
   "outputs": [
    {
     "data": {
      "image/png": "[encoded data removed]",
      "text/plain": [
       "<matplotlib.figure.Figure at 0x16f290894a8>"
      ]
     },
     "metadata": {},
     "output_type": "display_data"
    }
   ],
   "source": [
    "pyplot.plot(x, rho, color='#003366', ls='-', lw=3)\n",
    "pyplot.ylabel('Traffic density')\n",
    "pyplot.xlabel('Distance')\n",
    "pyplot.ylim(-0.5,11.);"
   ]
  },
  {
   "cell_type": "markdown",
   "metadata": {},
   "source": [
    "The question we would like to answer is: **How will cars accumulate at the red light?** \n",
    "\n",
    "We will solve this problem using different numerical schemes, to see how they perform. These schemes are:\n",
    "\n",
    "   * Lax-Friedrichs\n",
    "   * Lax-Wendroff\n",
    "   * MacCormack"
   ]
  },
  {
   "cell_type": "markdown",
   "metadata": {},
   "source": [
    "Before we do any coding, let's think about the equation a little bit. The wave speed $u_{\\rm wave}$ is $-1$ for $\\rho = \\rho_{\\rm max}$ and $\\rho \\leq \\rho_{\\rm max}/2$, making all velocities negative. We should see a solution moving left, maintaining the shock geometry.\n",
    "\n",
    "![squarewave](./figures/squarewave.png)\n",
    "#### Figure 1. The exact solution is a shock wave moving left.\n",
    "\n",
    "Now to some coding! First, let's define some useful functions and prepare to make some nice animations later."
   ]
  },
  {
   "cell_type": "code",
   "execution_count": 5,
   "metadata": {
    "collapsed": false
   },
   "outputs": [],
   "source": [
    "def computeF(u_max, rho_max, rho):\n",
    "    \"\"\"Computes flux F=V*rho\n",
    "\n",
    "    Parameters\n",
    "    ----------\n",
    "    u_max  : float\n",
    "        Maximum allowed velocity\n",
    "    rho    : array of floats\n",
    "        Array with density of cars at every point x\n",
    "    rho_max: float\n",
    "        Maximum allowed car density\n",
    "        \n",
    "    Returns\n",
    "    -------\n",
    "    F : array\n",
    "        Array with flux at every point x\n",
    "    \"\"\"\n",
    "    return u_max*rho*(1-rho/rho_max)"
   ]
  },
  {
   "cell_type": "code",
   "execution_count": 6,
   "metadata": {
    "collapsed": false
   },
   "outputs": [],
   "source": [
    "from matplotlib import animation, rc\n",
    "from IPython.display import HTML"
   ]
  },
  {
   "cell_type": "code",
   "execution_count": 7,
   "metadata": {
    "collapsed": false
   },
   "outputs": [],
   "source": [
    "def animate(data):\n",
    "    x = numpy.linspace(0,4,nx)\n",
    "    y = data\n",
    "    line.set_data(x,y)\n",
    "    return line,"
   ]
  },
  {
   "cell_type": "markdown",
   "metadata": {},
   "source": [
    "## Lax-Friedrichs scheme"
   ]
  },
  {
   "cell_type": "markdown",
   "metadata": {},
   "source": [
    "Recall the conservation law for vehicle traffic, resulting in the following equation for the traffic density:\n",
    "\n",
    "\\begin{equation} \\frac{\\partial \\rho}{\\partial t} + \\frac{\\partial F}{\\partial x} = 0 \\end{equation}\n",
    "\n",
    "$F$ is the *traffic flux*, which in the linear traffic-speed model is given by: \n",
    "\n",
    "\\begin{equation} F = \\rho u_{\\rm max} \\left(1-\\frac{\\rho}{\\rho_{\\rm max}}\\right)\n",
    "\\end{equation}\n",
    "\n",
    "In the time variable, the natural choice for discretization is always a forward-difference formula; time invariably moves forward!\n",
    "\n",
    "\\begin{equation}\\frac{\\partial \\rho}{\\partial t}\\approx \\frac{1}{\\Delta t}( \\rho_i^{n+1}-\\rho_i^n )\\end{equation}\n",
    "\n",
    "As is usual, the discrete locations on the 1D spatial grid are denoted by indices $i$ and the discrete time instants are denoted by indices $n$.\n",
    "\n",
    "In a convection problem, using first-order discretization in space leads to excessive numerical diffusion (as you probably observed in [Lesson 1 of Module 2](http://nbviewer.ipython.org/github/numerical-mooc/numerical-mooc/blob/master/lessons/02_spacetime/02_01_1DConvection.ipynb)). The simplest approach to get second-order accuracy in space is to use a central difference:\n",
    "\n",
    "\\begin{equation}\\frac{\\partial F}{\\partial x} \\approx \\frac{1}{2\\Delta x}( F_{i+1}-F_{i-1})\\end{equation}\n",
    "\n",
    "But combining these two choices for time and space discretization in the convection equation has catastrophic results! The \"forward-time, central scheme\" (FTCS) is **unstable**. (Go on: try it; you know you want to!)\n",
    "\n",
    "The Lax-Friedrichs scheme was proposed by Lax (1954) as a clever trick to stabilize the forward-time, central scheme. The idea was to replace the solution value at $\\rho^n_i$ by the average of the values at the neighboring grid points. If we do that replacement, we get the following discretized equation: \n",
    "\n",
    "\n",
    "\\begin{equation}\\frac{\\rho_i^{n+1}-\\frac{1}{2}(\\rho^n_{i+1}+\\rho^n_{i-1})}{\\Delta t} = -\\frac{F^n_{i+1}-F^n_{i-1}}{2 \\Delta x}\\end{equation}\n",
    "\n",
    "Take a careful look: the difference formula no longer uses the value at $\\rho^n_i$ to obtain $\\rho^{n+1}_i$. The stencil of the Lax-Friedrichs scheme is slightly different than that for the forward-time, central scheme."
   ]
  },
  {
   "cell_type": "markdown",
   "metadata": {},
   "source": [
    "![Stencil of the forward-time central scheme](./figures/FD-stencil_FTCS.png)\n",
    "#### Figure 2. Stencil of the forward-time/central scheme.\n",
    "\n",
    "![Stencil of the Lax-Friedrichs scheme](./figures/FD-stencil_LF.png)\n",
    "#### Figure 3. Stencil of the Lax-Friedrichs scheme."
   ]
  },
  {
   "cell_type": "markdown",
   "metadata": {},
   "source": [
    "This numerical discretization is **stable**. Unfortunately, substituting  $\\rho^n_i$ by the average of its neighbors introduces a first-order error. _Nice try, Lax!_\n",
    "\n",
    "To implement the scheme in code, we need to isolate the value at the next time step, $\\rho^{n+1}_i$, so we can write a time-stepping loop:\n",
    "\n",
    "\\begin{equation}\\rho_i^{n+1} = \\frac{1}{2}(\\rho^n_{i+1}+\\rho^n_{i-1}) - \\frac{\\Delta t}{2 \\Delta x}(F^n_{i+1}-F^n_{i-1})\\end{equation}\n",
    "\n",
    "The function below implements Lax-Friedrichs for our traffic model.  All the schemes in this notebook are wrapped in their own functions to help with displaying animations of the results.  This is also good practice for developing modular, reusable code.\n",
    "\n",
    "In order to display animations, we're going to hold the results of each time step in the variable `rho`, a 2D array.  The resulting array `rho_n` has `nt` rows and `nx` columns."
   ]
  },
  {
   "cell_type": "code",
   "execution_count": 8,
   "metadata": {
    "collapsed": false
   },
   "outputs": [],
   "source": [
    "def laxfriedrichs(rho, nt, dt, dx, rho_max, u_max):\n",
    "    \"\"\" Computes the solution with Lax-Friedrichs scheme\n",
    "    \n",
    "    Parameters\n",
    "    ----------\n",
    "    rho    : array of floats\n",
    "            Density at current time-step\n",
    "    nt     : int\n",
    "            Number of time steps\n",
    "    dt     : float\n",
    "            Time-step size\n",
    "    dx     : float\n",
    "            Mesh spacing\n",
    "    rho_max: float\n",
    "            Maximum allowed car density\n",
    "    u_max  : float\n",
    "            Speed limit\n",
    "    \n",
    "    Returns\n",
    "    -------\n",
    "    rho_n : array of floats\n",
    "            Density after nt time steps at every point x\n",
    "    \"\"\"\n",
    "    \n",
    "    #initialize our results array with dimensions nt by nx\n",
    "    rho_n = numpy.zeros((nt,len(rho)))      \n",
    "    #copy the initial u array into each row of our new array\n",
    "    rho_n[:,:] = rho.copy()              \n",
    "    \n",
    "    '''\n",
    "    Now, for each timestep, we're going to calculate rho^n+1, \n",
    "    then set the value of rho equal to rho^n+1 so we can calculate \n",
    "    the next iteration.  For every timestep, the entire vector\n",
    "    rho^n is saved in a single row of our results array rho_n.\n",
    "    '''\n",
    "    for t in range(1,nt):\n",
    "        F = computeF(u_max, rho_max, rho)\n",
    "        rho_n[t,1:-1] = .5*(rho[2:]+rho[:-2]) - dt/(2*dx)*(F[2:]-F[:-2])\n",
    "        rho_n[t,0] = rho[0] # boundary condition at x=0\n",
    "        rho_n[t,-1] = rho[-1] # boundary condition at x=4\n",
    "        rho = rho_n[t].copy()\n",
    "        \n",
    "    return rho_n"
   ]
  },
  {
   "cell_type": "markdown",
   "metadata": {},
   "source": [
    "### Lax-Friedrichs with $\\frac{\\Delta t}{\\Delta x}=1$"
   ]
  },
  {
   "cell_type": "markdown",
   "metadata": {},
   "source": [
    "We are now all set to run! First, let's try with CFL=1"
   ]
  },
  {
   "cell_type": "code",
   "execution_count": 9,
   "metadata": {
    "collapsed": false
   },
   "outputs": [],
   "source": [
    "sigma = 1.0\n",
    "dt = sigma*dx/u_max\n",
    "\n",
    "rho = rho_red_light(nx, rho_max, rho_in)      #make sure that u is set to our expected initial conditions\n",
    "rho_n = laxfriedrichs(rho, nt, dt, dx, rho_max, u_max)"
   ]
  },
  {
   "cell_type": "markdown",
   "metadata": {},
   "source": [
    "We can ask NumPy to tell us the shape of our new array `rho_n` and see if we have the dimensions we're expecting.  We should have `nt` rows and `nx` columns.  "
   ]
  },
  {
   "cell_type": "code",
   "execution_count": 10,
   "metadata": {
    "collapsed": false
   },
   "outputs": [
    {
     "data": {
      "text/plain": [
       "(30, 81)"
      ]
     },
     "execution_count": 10,
     "metadata": {},
     "output_type": "execute_result"
    }
   ],
   "source": [
    "rho_n.shape"
   ]
  },
  {
   "cell_type": "markdown",
   "metadata": {},
   "source": [
    "Looks good!  Let's plot this now"
   ]
  },
  {
   "cell_type": "code",
   "execution_count": 11,
   "metadata": {
    "collapsed": false
   },
   "outputs": [
    {
     "data": {
      "image/png": "[encoded data removed]",
      "text/plain": [
       "<matplotlib.figure.Figure at 0x16f29441710>"
      ]
     },
     "metadata": {},
     "output_type": "display_data"
    }
   ],
   "source": [
    "fig = pyplot.figure();\n",
    "ax = pyplot.axes(xlim=(0,4),ylim=(4.5,11),xlabel=('Distance'),ylabel=('Traffic density'));\n",
    "line, = ax.plot([],[],color='#003366', lw=2);"
   ]
  },
  {
   "cell_type": "code",
   "execution_count": 12,
   "metadata": {
    "collapsed": false
   },
   "outputs": [
    {
     "data": {
      "text/html": [
       "<video width=\"432.0\" height=\"288.0\" controls autoplay loop>\n",
       "  <source type=\"video/mp4\" src=\"data:video/mp4;base64,AAAAHGZ0eXBNNFYgAAACAGlzb21pc28yYXZjMQAAAAhmcmVlAAAs7W1kYXQAAAKuBgX//6rcRem9\n",
       "5tlIt5Ys2CDZI+7veDI2NCAtIGNvcmUgMTQ4IHIyNzIxIDcyZDUzYWIgLSBILjI2NC9NUEVHLTQg\n",
       "QVZDIGNvZGVjIC0gQ29weWxlZnQgMjAwMy0yMDE2IC0gaHR0cDovL3d3dy52aWRlb2xhbi5vcmcv\n",
       "eDI2NC5odG1sIC0gb3B0aW9uczogY2FiYWM9MSByZWY9MyBkZWJsb2NrPTE6MDowIGFuYWx5c2U9\n",
       "MHgzOjB4MTEzIG1lPWhleCBzdWJtZT03IHBzeT0xIHBzeV9yZD0xLjAwOjAuMDAgbWl4ZWRfcmVm\n",
       "PTEgbWVfcmFuZ2U9MTYgY2hyb21hX21lPTEgdHJlbGxpcz0xIDh4OGRjdD0xIGNxbT0wIGRlYWR6\n",
       "b25lPTIxLDExIGZhc3RfcHNraXA9MSBjaHJvbWFfcXBfb2Zmc2V0PS0yIHRocmVhZHM9NiBsb29r\n",
       "YWhlYWRfdGhyZWFkcz0xIHNsaWNlZF90aHJlYWRzPTAgbnI9MCBkZWNpbWF0ZT0xIGludGVybGFj\n",
       "ZWQ9MCBibHVyYXlfY29tcGF0PTAgY29uc3RyYWluZWRfaW50cmE9MCBiZnJhbWVzPTMgYl9weXJh\n",
       "bWlkPTIgYl9hZGFwdD0xIGJfYmlhcz0wIGRpcmVjdD0xIHdlaWdodGI9MSBvcGVuX2dvcD0wIHdl\n",
       "aWdodHA9MiBrZXlpbnQ9MjUwIGtleWludF9taW49MjAgc2NlbmVjdXQ9NDAgaW50cmFfcmVmcmVz\n",
       "aD0wIHJjX2xvb2thaGVhZD00MCByYz1jcmYgbWJ0cmVlPTEgY3JmPTIzLjAgcWNvbXA9MC42MCBx\n",
       "cG1pbj0wIHFwbWF4PTY5IHFwc3RlcD00IGlwX3JhdGlvPTEuNDAgYXE9MToxLjAwAIAAABMxZYiE\n",
       "ADf//vbw/gU2O5jQlxHN6J0zH78VuLo0N73OAAADAAA33SMXwmP0P+YA5FUnxoZXrKp+OZ8AsSf7\n",
       "hV4u2r1rorEHUBRMLYGjE4DK/IWxxauY8VEkg6Q37usZQYSAlSWFdQC3E594vSnswgbCOFSwft60\n",
       "CFpkqSaiYRF9agzVPCdlw/2kI6tXzIjd6WjxFXxXFsM0kfCuXzz1r6vlrHNX8eAUfc1nSeD1PSdr\n",
       "kz9Zh1Fm+i5COjYmr1ROs7oEVxT/7rICc+noiMjBc+n+O+VJBiR828n63zD51JVGQeucfnWNZxb1\n",
       "7KpLec52kVq14Pk8UMHMqSZv4QyRdkOxSCgNtcLuniVaI3ZbU6cXgHxe7sQ9FvXf6QAoFNuou6pw\n",
       "uO9xwW/6eBb0dr0rCaNOm8oxzAX43fPqNU5k26pT2ceRaFIEFpvL6JUiiLXiSI7zegvavEahXCG0\n",
       "mNUGveQvI3bG2cGnyuv5rKQYcxC3b7JBdn4xHbt0eWsNJZ/xTG4oYJKyUF+0Y/UBHzNwpVq28FJT\n",
       "OcOceXyHMy6/iXWTTk674j2AFaGFtYCQG+QnIRoq8UecWMllbz7RpBz5j3YbpC4JUDwbAHp6ZRwD\n",
       "6OFqhrcnt/Z1auukPX5F+jzJt5/5dizOZA2ZCj1VrZElMSuYtXiSbMjM/iXfxjf1PTbdchotPy0l\n",
       "AGK3LNwj3ShR3C1PRnmg+ZsbzaGqMWL9gOIvwIF8MzhEYzBIobehJpDtjNEjjOnKkPbbt63KtvJP\n",
       "QU/8ad3bTBWqxM4BLpO5a26t9tcDvZgxN53kRIMonLggOgAh4TGHLwl5FU/R+UFVR4ddpJt7zp9F\n",
       "ctOYxLKaOUanWeo5SwuUFv6ZvoH47TtX6LxyJBbx82qbJXVYFNI+7/gtWIjeDqvJDmgkIpmfUBAm\n",
       "315kXQWXtO15AQnYBL/ot8RUYo/KUz4SEjd+W94uTYMD4My1s5EYvEsWnLiu1QGLPY+OZwT/hJ4s\n",
       "2sIFfJcPMII5Hz4PG4NgMhmpJMfUoj0FvMkigoIpKCW4ZcOc1h/1sbLJ/3xFukGxLp4c3+hUFi8o\n",
       "Yyy0KuzRVnGVTfQi5lDiqR9cO0svhdGflUoeFunho4qm4HCjsvFuJOCGsIVSceNV2UrOIoFObGwo\n",
       "qiwCeE0VDTolV8y6t6txO455itlf783v3xhvhSS2f14qC+0MKbaWrw803+mh6oX3Q6tnflAToJSg\n",
       "ZIACGAfSg30pU1WcPbh3dTnNJYj8yAH1upCCxavmUFhxaNcjGhJ3BvrnOuk7lZSpXbD11DcBQ/Nq\n",
       "2ZNjN9wCOJTEa0s40Rnjyh90Yiw3PPIKjbpxUI9LVcKpiyORfi8ASw0GD+nn7TWiVsDCtfN5rhTJ\n",
       "j/By/gpFGxZ3n/Tg7lZj87GCOql510DXfbeyHIdtnYnsRVhb49K8z72/cV6KYr96bma1f0+8V9B9\n",
       "Aai7Ok5gRgFwkgZ3xqpP8oNIO1/RyegCwJPOPsZSfs9sofsuGneeezVmfh9mh6tkDYVFGpkUzdcx\n",
       "Sh5l8LxJMAhVnHqnmtImfO1GsRVZ6x8jgJkYcKkF8dKZycwrqjY1vbS3gyjwsXrC8x2lAe70hMpS\n",
       "f9ZJw2KPYmSgiPDRzEuxz7Oh44r7VJYhnmnSosrUD9PX4MH7B1qQpLTrhgKbc5zuo5wZlMowxpOa\n",
       "J+zVZF8rTDnnBs3pFVS8zPvRS7dIA6kA1SyZejtxa2/U51J03QPsthod1u7LtJcmvq8KjCzFpEKB\n",
       "2DSPUDf+lEQ1NjQmRSCM1FlksGtE9Hr5FF63ZjJAxa8AuZnwlCviJr6Wha7pnbAhmtm7cTIq713a\n",
       "tWzot9fJtX9l9AbN8ybTX301VJwMS1YkFa5AWdnaA/Sho7YhyNuCk4ZBqR9OHkw4lLVHEmdAFeCY\n",
       "oRAyhM5MYI2e1nVzaIclIrLSMPNwFv98m8VudgRx9vQTP9OenO6Btvxv0XE3eAQZzkyrq/a8+4+b\n",
       "U1Z7TlUqqYSoNBio8OikOZJ1fO3STxNh2kDr8NUM0TpCPup0yMDIELhV2tvb/XPMdj9WHpn21qxk\n",
       "WVLeofZCI/83W71X/4E9nnxyQ9hZYal5+FLF0D/i/dHqPIGNZbARqg3ZRps50OzZvH1/a/Zd838x\n",
       "vLTXOWcg0ARGWKTjtkOQVCdNXRLg/oBqrXp+0IALW3QfqUKV2B98vZv78c83KMoAQMBL/vKzv6ya\n",
       "F5D/5h3zyoFWtthIaQbTxhr+NwXN9N1tGEUXAfUo24x+VWu3PR4wd9xL7bGSfdSxzDlPu3zUpsYo\n",
       "4Vrdt8LZQI5geasjGr15ef4I7/fhVkQjUo6gqRz1y+vkDyN0R+aK2I/rqg8G530d1fPIfOvg/z3s\n",
       "AYCo/i3pDPMiUW/8ta4klm/98Uc2AiASMhYKDPFYCs4E06bQfvjPluccDH9W5bzIxOnie+eIteLZ\n",
       "GNEbD9/yIV/OyoSVMwBn2jZMx5cR7n8KtZ+/GG66AiAFg5Tea7Pep+3IlEUKgGUHLtFBrWMPV/9O\n",
       "QHMIuGsJLmwXjajr7OnMezbUe/dGm0cxaramqSfSgrD1QhDemEOdSnbze7aNfHYO8vTTVVCiVen2\n",
       "12TUDCAcLphVanR8o2W9IbCA18kjXA6xh5iigxBDUMrZpRXtAJpI96wQGmFX8MTRsPAotZmQX2b9\n",
       "rualDbliPnmpzYRRrRusgeUTyS/PNVORxS0NjNZpBjpBHc/AA6dhhLS6PW+mE7Fz0SdZHygN7YJ0\n",
       "UlMB8+zcgBGzZZ1exqyfkxqmQl6iqTpprII7QCQoSP7TS2NqAHrABU9CF4yU7iK2bqShQDI/4/tt\n",
       "bsfft/lHTT7EGEqAXzccFUbK700NerM66OuuK3ieYaHf6Tsu++pOrGIRi0MOT0/1IBTvlfWl8OY0\n",
       "3A/xgrHZ4QA6Pn38NBko2Y9rophAvAqAaVZNfkZwnLv0tHTIPEmXOxnoPL6AbfkOVCLJITzql6WL\n",
       "UriKoUs+BpNKzwmbguJrIWJ79uovevFIpS/4m24n8aeymdHlO6eeMmAIkxgiYDLrQjhCS9ISbjcq\n",
       "VfsAfeYlBDoxKsEH6ErpT0de9AH08xrKB+6Ak5VsCSnuzz/CEg8E9b/4XCVzu63mdbWP+yEsjeGe\n",
       "RL3FKf11d80AQJkvebok77ldYdA2iPsZkVeIf7+xslA7EjlrkbAWN+hr8penDa/ajICt2lt1rha4\n",
       "VJmJtz9rmZhFBekvlcRwuGYjqgS/fMgoreduI/Yw51BQp9bb5UKlFrmT07SqvZpmimDuoL4o+j1h\n",
       "NUxjw4mo5Fzt81QOVvlXEFr6l5tccvFWZe/nDo0/3jbypIq4mDsQPlk3rezjrHHKwCVvWFtfS1Uo\n",
       "l68/4Ti+y/n5Nvo4yAuwJy53taCyR1++Js1wlYx54oDYi8Xk/ZKC9yuNDb8pn0vtrQIE9GtYLL7s\n",
       "SEyHQ9IFz6thF0Cn264wgNhyhcT5lm9Ir3sdZTNyj7O2dhwR+GWbvFilatvr6hCUtru6FVk7XH8T\n",
       "tlfzK5AP0wYWRmpRd1uMd4YxjE17SjvqCafpFVRI90sW14aEOCQ+SvCb9luiHtTE9zXAFy4ZgDSG\n",
       "V2EgZuW4jnbgP1ZriDpA/E7DSEjdkrapixG5S8m2nQGPSxuYcRH1nZSNfV0O5RTEzBlUYR4CVeLS\n",
       "At8OebcpBp07eBZMjfxDANvoYJ++D8QFJSG+q0eS41Rq2M7/LegI0ZJWdc+jRtKxzOwVZLePduaC\n",
       "HrgVv2dPttHAwPfiCRMDTtBgZGcC5hBwnOnLbPmEdilSBwnJ+taJDRCk0wh1Iw+hacm+sHOUmA1/\n",
       "99/voQSTnjAexumFNL0SW4i/JSXhHatW7qP18CuhPMsT/449xXJ7mCt1DPLHkd/k9LpWCaxW6nXA\n",
       "KmU2dRZMIUUkyl0jugWqVF3VcddaRtMLbEbgn4klSOUPee2THriOgBrrTBXJET+O/zPHgjNpdhdC\n",
       "p3i4CmKPnb0oa0AOfBpn0b0RpHXNObuksQlTt1aAGVyHiQEsNc2PQkTgyttgl9Bma1QKPYpHNY56\n",
       "S+9s/3Q5FFkjcpN/5uhrxZDI4loRXN+TM8Vvn5AwqFdXlIpxptzrEfVFunRxuruXGydZfGini4mj\n",
       "VnX0pxlRZMuYfplLS885EN/pr6DlZ7mRcoISiU6yYG0c2NVK3cKJUTw4yEvm9IcqCGgCImzS5ygK\n",
       "7ZYlNWG7x3A7BMdg8H2kcjTfI1zijYy3OOaGc1Zd5ifJMJan4ztC9dJS6wfUQBATFHPfAbrFTWUZ\n",
       "rZvMpV2FyaMrk/VFKRIqQvKExiEHT7pNs0DeV2SiYk2scm79f/Jf7GysMg894oF26BXgCl6riodf\n",
       "UGVVA6rvdLPIVPljPtetZFbZFleAclplOYGwI07vcDT8Rp/ir75yyAlcj5FRnlfgNOtkI9thjgdt\n",
       "fUPi94WxuznOuwB6yZogiSQ1NFtcIfPKE0nY8gbOQdnwM/3Ldu7vU8b7ZJEGZku3gLFdxr0ID9G2\n",
       "6152xxzoqwfguCWLa42uodfaXi/+/t0DpT+AikF5OtTNyvnCLZlYTzHIImzZDoFB9e6siuwFjgfh\n",
       "tA+O2fTeTQSKMyxlerB2YR4RTIkbINMxDTn99BVcIefgWzQV4gH/36X5odavclrTywwO+s2sfolo\n",
       "buQb0msm3kkW7Xwb/wmS9fcNhykA8qpbit+Afm4MxTPkK8Kp4OjLcYxvck3/4Gm2C5fl/te4zQ7e\n",
       "NNsZAD6GK/sqjZQ+G70Dq1mFsd2OuQC+TEV7nfx41a0pbJ/CklALXx8pxXqzDKRxDhKpe6/6+h+A\n",
       "ckKq2EmlQV7IRKdRd+vQ+Kkqs7yuXApmoJC2NvPtkJ0jM43fyKUZYSCoq/o2VQi66sUOg6iwAQHm\n",
       "Vdg0CPJRdjtEiFV9yButwedl/UJN/PDQaeXGuNiCBFzoevwRxRsBG3sGKMoPtD2bxFzvnHX7s4ul\n",
       "odqyMP6jeCmhxZMH/2kUn8sYVdIlHTceL+/E6MXSbvzpapEa+Popx6cMdmhIbswg51WGb6wItUQH\n",
       "+gNXBVgZ91/97JBxIZT7xwWo6E4Jn7YscV1JlXbNJZgX99p9vh/CotxaGsIxgX9vJjhZsi4HsxW+\n",
       "8uNl55SxzALqElsUE8JmxgCfHZC+SkD/di3EZez06a7Xx9lz8avNeZOaijYlEZ8Cx0SYwX62nMB5\n",
       "gcDvn787N/fda1TRc/YXfYnECH/qlRDjwKg4v1hnojxfrPn8wrUTZF0iS4DkPzSwfnSpV6/mVxBY\n",
       "4MuDi5g4E2Gp6tGXbrDxFK/Hrk0PYJd2NaLDcHOvtxHdbm0iip66zF5gtqIhgVYDhC7kTOuo5Xa/\n",
       "03jWkBexeVahQNxro9XRcg+RsyRPApfGgdO7Ek3Ieom0nHGUXkTGy5R5hJdtm2MYyDiXGnxoy9bY\n",
       "agN1AMWGnlPUb5rNy2iV7uZ8BNkOEctlTFwu06ePWm0grwhG6YALxi7Nvwqu/A+DAH8JVmqYBTsy\n",
       "Bc48CRFDvLLeCOA11OoqK3Ktf59NJdDIwc22zbPcA/204KbxcHMg3V65htxrkD+wWb8af4PZoeNs\n",
       "OTXbHpXSm+m3tA8v00WhJlxMSdpQ9jevVXD+lHBC4SiSq1WzuUTTcWL2Zalr8zae4adtbtOwG2Un\n",
       "CA6f3nIv8Ud9Veb9LwGO6XqVFAVHdtVfZkKYZ7oi6vmt6rR8UTzAsX+1b+q/wg0Sf4fyLKM9rn5N\n",
       "1bpqj9SLciBf86Sui/BFyjOuCH8kAHxGwecqHoxnLG9V2STH91RxjYMbNP1HLHBxZ9fzWKDfcERa\n",
       "iUyv7GA5dj2WaOGlZOO35BIOq97L80Usnt50jpgVZPGQnoio5dCCz1h0Ce0lcOKQFrFHAaMMfYZH\n",
       "DjHmrRAtXk1yCfUPwoJDlnO28kAVLD8u0okjmWkeu+tKA8IC1AocM/3tGWiap3Fl0Hq8oRQTDzcG\n",
       "5B5ThKKDEbvifYNhiqvun0xoJe2gQFyyDSa6NQILfkP0za1Wd1Y/jqwQqXqYBsEAoZyfr9ROhguP\n",
       "FzP38oZyg4zPuSev6+nCnWJYbRuXxhIx6Nw53l42w09/w0/1NmNC6C8929JZgEO+vjw0z0gTRRz5\n",
       "mcOIKMNc64aKuEWtjnnvy+AzHOqzmTSp9fZ6zmJRnAI/tswjq9n4OxtPKT3pnyZQ1feRlbwiwRAh\n",
       "R+w0P7GP2//LuwY2uFn+vJ6egjiMlItT0ltdhByDTtFh72qtlR567Tw2M7QT8vtKJW31lHdJVveB\n",
       "Yv7vBUpgBw14C2N6MVp7WBDjKJmFNz8m8DkNa2AO3x6g4I8lmL6mOWVjH6jVA/DHl/r3BdyzGClY\n",
       "SK9kf5+1+RJk3TKSX8TuKCN9ooMCtNcPV1gsZItiMafPul1lCLEAdBBmcWONNyxrrG1hByaqiDvk\n",
       "f5akzwpYEP50LVYMmZt2nTGYHKnLBBT16VS+HU6TVAS3JqYI7+6am0iGPsfQdBal4TXZ41/+0rvl\n",
       "pIuu+N0VfRortTIxvOf1eDVDmuPiRfk4YJ9u4lbqpcnvOcmX6Ks4ZT0dz9EU91DXmX+mivTmlxgG\n",
       "836suz5z0oEAAAGyQZohbEO//qmWEwDPQBCPhfCQpP18njLzTE0cGL4ylY2XBiZATbDT/tYdoNOP\n",
       "Ev3Hy6hKzHadbwO2WvsMbjvE9OqT4vAmaQFp496iW5lXocsSawaFrYVX9Or6bViS4eIYRFcnyObN\n",
       "Q8gvglLMojguGmauNHilNhNS9thalZ43DPxsXzYJpGQ6W3jnl9v98sQ1symsXOXrvoNY+YrFOJ1P\n",
       "QNY1oCrEKJRnbdseIIx2aDWDlL7CsGN1MH5r0shBmMwUqqH/+SpnJZDsPf1nq3MHnfrXXT03ZmE1\n",
       "NgfhqzEGcQaD+xgzV+Bja5xpDcGWb2ZRnKFE+W4VMxhtI2YNY1ytppRtNmQ1JkjLfmeWeI6JzG39\n",
       "XKDNl3Ncea2pfAFHhjizf2Mh/JMfv1Y1Y/0W2ax8J+IborTIYdw1r9LnjcHBSEAHt/N1DibVonen\n",
       "zWClbC2doRSE4AyXR59ywKonL+iji+pIG/f71/3dl/k3tYSV78n2pUoA4nFZSGe2SAclEOPLGmcK\n",
       "kpsygSus9Z+Hbl4dUBOlQJfYcy3l4nrzopOFQArZNoAqRw6LgnAyirunASSoOOAAAAExQZpDPCGT\n",
       "KYQ7//6plgBKE/mAzniAAANBDMbfxvEYPy45c8rZ1tPHA5WrU6+5Jup1I5CniSSvywcUbpHHUsau\n",
       "3wP0obtI2BegIXglhfeCjnWOh+92Ut5rtpRe3GIrLt3M/DTY2wf/q3cI2Thz14FvI29/5VCH8jSu\n",
       "yxIh4asw95G0BFHoL2Y+JUoBpFmKcPUq4g3yqMF6Jq9S+BkoNJ2Z8eK3h2BaNMNB0Tqk6dIEeNnB\n",
       "x4Qhjp2UuQjG2Qxg/bMyYCmdr+L7Gd3NgN+MLsgnG6o1CFXaRcYoOxgCofBdqubOD1TMl5lXys+H\n",
       "5uR11Yi6hTPtZPWqITTQIzpCFUSFbZqkDrR0juCG0lJtgkgMg4IZesuauEID7YDvxz9htnEt9Z5m\n",
       "DWTfYFEhrP3Sfj2fsUEAAACPAZ5iakK/AHaO+vLmARkl/ZNN2kzgBIgdP0afZtE/e3i8bWscVc2a\n",
       "P0neDUielPGOKll9QJ8T9B71gswplrG4DryXc3rcD09uG3qlOhTf4lnIXk0Z4tvytYf7dmUXw05B\n",
       "xcmXrc3moco6lId+U66AIHfKAI/P+WL54mxllyJZkP4A22cIKNsDp9URtBvIZEAAAADuQZpkSeEP\n",
       "JlMCH//+qZYASkOgBWgA/kVUZcPVTZ2lEwarvfHy+NVPiJyUmaVjThECZRkt1rbLpRBlSXK2l8Gc\n",
       "RGKtbHVTuGXzUmJLYxFFXR0X/Vt/3YKfxifrQdnIwzXoXqH/GDq6nZDLun7VmxIPPGoINUURnzQf\n",
       "tPvnT0r0A0/gSJvMid/+RNr7WqHNXt1ojkIw0uZ4PFMXdnE/AJmBWt24846J/dO/P/sRyzZ4AMMH\n",
       "DMPhSJFz5jorAukuNukX/VuGJPcPGlbU6OvjUcG6/a5H2Dj1Lj4ciGhVA5q/+FzGhRwbQdA3nHb7\n",
       "ov976QAAAQlBmohJ4Q8mUwIf//6plgBMDGa/k8AOMgy8T45W/1pF8jtuYN9RtTjs2kKU9s8EtmMv\n",
       "Yb1nA/xgFBRUjzfY+a/jqsypE2vrHuhseJ1yhbiF6HVXBHVE0H6ag1pL6rqWz/ktFdniM8HcZf51\n",
       "4/bL78YoKKJam1RnRmE1vEXHGUXaGJ46brYGmnfTa6Y4keCiNKWTakDiFN6IO8TxsSFwnocb8ITk\n",
       "UXT2/pV/pUgLoRRaB79SsG8A8vk5/Upr73RjkESgBXjpGXHa2L3wv2jixwBNEcM16v31RmwVtMWO\n",
       "Kun16aVJATdGQ8Aqs2dGvVBllHi8gwEZ3uOXrOx8PNeCyfkx8bRs1HhjX76BAAAA8UGepkURPDP/\n",
       "AEFtQsMUCccofmHVFxQNV3HS2cDYgZKxXPAnlDwmmLES/HX9IfbxGTy0K/IQEdhdEVJHMkK9Iy1Q\n",
       "zs48dNddcGRutnBvGdrP+6W86MI8B6dliwoUt8RZHmDB2YBr2snDxu5ZytoxU/+j/PgxWCewT68w\n",
       "/ti/VDYSHaw8mK3qwO4/A6subl4U6li8It0oPqw4xzQp/d2ruBNa0mUjkmPA8xtVTHwV/UzYsZws\n",
       "SwuQJQeWpS+e2JUsHInxUsNOV1qB5gZywHaFrCx1JSDBc4v9+lDycGdBw+TOFHrGGqmp9GGPUegz\n",
       "4edf57UAAACxAZ7FdEK/AHnQLAY2U4xu4Zl6thWKiPQMH1gnMK8R62NQxLznFD9dhadoX3+W6bRm\n",
       "5tLYqk/+zLC2tfGVqebb5QK2TVSrQ8C0hK8VIpPFk79a5BoGXIia4BJ65XS6IVkDH/9g0vu1pVA5\n",
       "30WUS1yDehZGunFMwiYSR7ulGjYu+xaBYZIdgI7rLDtqTYCDPJMIRmwYAUtu4GblDFT+2r0J7nne\n",
       "5cnUcYBxIblzyMHoytqhAAAAtAGex2pCvwB5lVILWC00WHOmX4AD36BKKsDxiARmD9x1PMC69I/g\n",
       "FRZknTO6CgnNePAIxNU7XcN4b6QmtLaTLxwPSWUGfGBCnpcdZ/REeWz3zIy1HiNGyXgohaegObSS\n",
       "zrIpQJPzi5lhneNy426C8VPco5FcWRY+HOvRZKNuumJH0JF5OTJqk6Bg8KSILzmUl9P3EnCCyy2F\n",
       "PPzrMIT2ib8sfLVDWm9n6xhVRAU7udP1n6xa/AAAAOxBmsxJqEFomUwIf//+qZYATnlf+CfwAMb5\n",
       "ErvvIaWjs7182jGaRBRpPtUh8MJFeRQlMRywv5qlRmvSBQeDxd6nLywgCZffkLlkHTKG9PczTmxY\n",
       "Svl37Zjj6tDK6fBag8FPRa4G8p46nSD2KR2hQBpX+Qay0vVC0ujkacffusjd68OPX7ELCkuRs3hc\n",
       "lyr7ErHfV/exPRqYFRDOh8mwNjtcuHJ4FpF9FQOF8LP94K5pgqGmnLAjre6cFd/aQJn9vt3fJSzB\n",
       "wkrneowz2A7bsZApntOxNkzZJ02XSfwgsrL6t3p6uwbcmzWQEzKmMAAAAL1BnupFESwz/wBDbhaO\n",
       "+f9//MioABOv0Z5lcY0fkhyriMJqzHX42al8iuYX7I8b1OhVcXBNhJu4P8hg3epeXyAgHEzOY+Cr\n",
       "2ylHg01EzzOvpE9Io6jX+Nb22u+4A3LOWBTIWZCVSfxEoO2GAOC8aAGXjQc6237EVr03omuQzGmN\n",
       "/9sphds19//ZoVqD+KPLkt2YSoiNLlNeqUsn/0jbiVToXHwEoPHzJY0b8dOwZqupJECzgvTET1NO\n",
       "c8zRjkEAAAC1AZ8JdEK/AHlzPq8AC1o8d1nRg5KdSYXhFHaS7Pw424v9gU4zp3uog9HYZBJn1Dr1\n",
       "aikXpoNkAqHMeVVjG0nNpbMGy3GDwh7FxiQRJjxsSUPGEVXCFMAloGvuG1RinqLa1aD4Mstlkbgl\n",
       "O8vr6CKtZRPIQmvmzIk+ijFb9b3zn8xuQoa5+EdKNiZvf6o1gYbY8OMzkAwMRtn/Ms5pyRTdRvT3\n",
       "QL4psIkP8rJj9AgA5S/+7suXtgAAAL8BnwtqQr8AfFkjOULA8wZHIxzVIclEAJa0lC9Gl8icTbR+\n",
       "ydERdkDOXz6Kn728ahpuR9hPz4bmXLIUImGnvMQPhm7cxLwoMYS0FAiA09I23MFQ8dQvmHE2dBmT\n",
       "Yk/XiYTyS9aH1Z2DpBy1xooze+z5uRe+UYo9xjQgzawDbo91b85ZqkDvGAn8LygPrXCviy5eFIAb\n",
       "1sSYPQhr/IsxMSRaXsTdpCOUu6UgMBTAswqGPoE0+07k3a4w7iSUKCpH1gAAAMhBmxBJqEFsmUwI\n",
       "d//+qZYATiQx4wZ0FADjMyNx36MKqRKbSD5qPhWuUzPcdyaJ8o6zRcbBGe6c5k1XLg719j2VZ4yr\n",
       "OHFtv8N140BAPQO8mwWR7jUglcAZx/0Kdax7O40Iv0O7Rwu+RzaPe09VbTc99yvAJBLTQxqbr8IN\n",
       "deE7gYB2rco+bF6c/RGpvzWgajimZzco7EVaRq6EFzBgOu2Wax5N+DmHH2xIcKXuAIZelfD5u1CL\n",
       "83uT13AXtj4yuhGaBSEmxQXmMQAAAJNBny5FFSwz/wBDVyVCnyZo/yTasmAC9J35jad4pAPpnB35\n",
       "bxVf3kXAWiKDTdDdPq9eh2iKxx8oLnZZCKvuJWZn33y8gH99MA73lOp4WTQs8CsyESJs1Ru4ENCC\n",
       "OZMRXygIZNov47UdZY6Nh2uvkQiJWMV1g2DZ1BNGxY2i58HtCNw9B/txrkxpoe1LUXkHtEaFL6kA\n",
       "AADDAZ9NdEK/AHsUbxZPuzCEWjN7QmreQAPokHvjhoXwuVByKcpwLWkRa/ircfxwmXsdcDVrG8s1\n",
       "rQowYUY2swyVB1kdwqOcHWvcCYoP3KJQtt/2ZTkMwt2UUqM9pGTHkQ+A2oZPaVZBydXZ53e40rRZ\n",
       "zeilpYWpWXWZfazqgKahbuFjTwqyyi7GHBPnQJiGaFdFeekLoJ7MhfB02lJ7sLTw5ADcZSvGLHjQ\n",
       "xYxhc3fYVMIOt62FyR7IXYILr6mgPZPtzJnBAAAA0gGfT2pCvwB8VVIWP5i4oaw/YAD0A1czCGG/\n",
       "8Attntj5GYCxasm4CgJel/bXxJgAMmDW5TXQmSMId8u8BGWf4RYN6yWSz7jC/xcN+Z8fT6ptOSPR\n",
       "OCw7CLQbiSD6YPF6+Adnjg8qGJKaio9m1M53FPNnyuXKJIdMISQ76YxJH4Y0xq2b37BdQ5GL/2Pc\n",
       "9kry8x4/9OBF3kdCUZ0re5egHGYk5F+eJtFDCcAHu5kq1Kke97UrbnFwg2K/LBHiwTnVaZtVcPcZ\n",
       "K359TtE0/aGJL4qI8AAAAKVBm1RJqEFsmUwId//+qZYAUDSUUW9Jw7TN0Vb19ACR02IZW4eBRNK3\n",
       "R/+8+S2qrcr7CCNXMyvVGopndJ+u1tAyrMW+M/i7JVPT4cGtXNTnzzvX8xxssLzt+T+VnW85wp4/\n",
       "8kwoia4eoa5VJi3DunVv8z0mq6W9rpRCu9oa5ziVq0bM+1bz3iAGwXP7N6nng0RMcY9T8+PaSV0J\n",
       "UP+0apwcQImJXuwAAACjQZ9yRRUsM/8ARW4XDO7eBEDuCwQAfhFTkR9GW+j/bjzSN7neFKaHoOQB\n",
       "1rLl24s0CGW2zhJPHLB/JjChhnOqWR7QfKZuDuuWKcbUw8NVvaecU7asNjaehlWJ0bqPaGVnmxFy\n",
       "a0EQ41SQxx7zxdK6XN2GrFhUhfPpCWKcbsvdrjY/OBsHgDFiXC8PPEYk/oWE2RYmfJNrwbBQPLe1\n",
       "uz8V8lA3sQAAAL8Bn5F0Qr8AfDM9Oh5/tcC2tgAlbEHNi3Db7ullilmkJXBuORI6ObxQa9Md0xKn\n",
       "wkMV0JD7XvE0r+/HvtaHBfktW3bYRiemcoSXuvVl3VuK/d+so2dJi38A2jC0w2Zg769IlSCtl1OZ\n",
       "Ga5uHPWCYNjrOMnJPRe/LdgktRToSgUZoU/wQCKOvATFLNcQ1S1ngSntr7loUs34b8zRPWandibM\n",
       "TVXkN5l29l8J5eeXEoGFpPlbxSHlIstsUDQI41MjbgAAALUBn5NqQr8AfxkjOULKBoBNe6nA+29p\n",
       "hpYq1y7LK0M0AkXOw30k4ewJziL1XVUduGLXbLhfDDcHf+yJOqYaXGrqh0maInZi2I0GWvOcGJd1\n",
       "TpEci9luVuxz5xD+/BMl0bW3NwnKRqZBQkXoRxdosqupjRcrEvY7AStTpOxlalciuGUAvzKexda7\n",
       "qCde47/gqDqS6UAXgTEn+2OByoOR3TU+b03Tx875nBf5gq3PzkDu9tbH07wBAAAAk0GbmEmoQWyZ\n",
       "TAh3//6plgBQNJVNed7R8aEOBGCvsJ+2xWBOgAIgmkbCa5JsVKOjMLg6YznljNif+0sjnARDiFnz\n",
       "wRXk0U2gFX5CA7K/fSvORAwrhQSsD1RqOoFGlL8iNCrqzAHXJkBZPt0y0c7mxFfiKK+LYZdIQ1lY\n",
       "CXWZ2TwqgRPEpf1LXv7A4G38TpwJ4COiwQAAALZBn7ZFFSwz/wBFdTzErAAWG/h+vDsVAad0dF3h\n",
       "21uc4+xTwMsol9s1DkjgYCVLHfi3C1QhfTNyPjynzG6ns8IWTGR5ZmG+zR6jXV9DSkCAY4DVZKut\n",
       "wkaiRf/MXNV0J3ZW4r3w8O87vMENcLA3bqCyaS/2p9ccnsbmNTZyEHCHQRTiIIDdRQqU8gB6uKX8\n",
       "UZ6fmkoPIuEf1kSs63U5KuDoW00wS+MTU5We85E/nLds3F3H9m82vAAAAJ4Bn9V0Qr8AfdRvFwrQ\n",
       "n5zlQ/qm1ACZ82L/KieZtqf20VnscNvXsRqhTLs+3UKqe+5tFZW39efI/+gWJnqWZCztnwIPEH2H\n",
       "vPfoSgEz4nYBhZPDNY3hXdiDsOh+el+MI8zuL3VAGw+ldl5er9qxq2Bk3nuQkD37sVJzOok8B72X\n",
       "6fBuqLtjWneTuvhw/pppQYtLJxKo4ltK0Znpif+4VQAAALkBn9dqQr8AfvkKx1+8adWXdgAPGZ1j\n",
       "Hv1rfvNiZiF4bz+KxqU5IVuK0rjK1VfmO7EVHqRHEbNKVb1L9I7FBlGPPdRRJmzcHA5vXkwkXYaM\n",
       "yIqj+SrDdudvVY7wHQZ2q4ZJc/yHN/x+ifZLYQdbDxJyHpLDe9CeLY9YJnVUoMuWsO4YbTM4xUy9\n",
       "GvfhnUuoku4a4054Q8NCw8kRcT6OZ8jQypk5QwSwtlIKUq9me77tnymZrbmzuskAfwAAAGZBm9xJ\n",
       "qEFsmUwIZ//+nhACeiDWQRCuiMJ9A92mpiDp/FeNcAAtJ1SAyIn8AcELaj8MECrBxEc3T8bSzjwZ\n",
       "++DqrIbvTzTKVVNJvOgCNqxo+QAzsv8k4zZMO60gEM0LfvBN0q3JMrwAAACWQZ/6RRUsM/8AR24W\n",
       "w3wgka6X4AQgWF2UWPlr14daIQL0K0kuhnvvPY1Ib0i9i+FLP9sBmBFOpb5SDbAzlrq2U4YxL/C1\n",
       "oQvKnlefIf8w+qP1jPHQK4a5cLFaeuJwb1PyKfrniF4qzXYektHrCqT+9PWOuwQ64uBVxeNJEyJV\n",
       "4aiwRLeKbPy03x4o1tjqhFzLnwN0kWoJAAAAxgGeGXRCvwB+8ysPAAlgsIl0sg5qeB6c9TlDuowN\n",
       "Pa+WBAJcZVdkaqB+RBYT/QV5m75qpXOMfnJH5hecYqWTw5wYmzm2Vn8cNMlg3u9HDxkBNgpMr2ru\n",
       "OO42PTzDKNezxhs3e7AsG7ACBvC1PgVHEVW20jQWt6YSLI2jtVL5LZscewkIIEGN9VMN6rTMOYva\n",
       "Y/76Fg75JjWHJ1HWjmsdJHj7+vFA1p9FInMeu9H+X+wq4N+kJCIEf8d9SFMaUwVL+0p2aZLZgAAA\n",
       "ANUBnhtqQr8Aguu2Np4HMfABx66WayPijo9tQurjHixrRQMVatqWsp4cVLaeR7nONlve1BdSmazg\n",
       "+tXRPTZY8yxHNmTL7ZXpNXqts8t98ZNtaExYiVffMqkVFDdtlHEEhWcEizu89HVYVC525ZODJvl4\n",
       "5x+6S9dOyqRtVPFv0viTFAqirB+DA52U6L0bPJu8aFY4iOtLR2wPhEHHcVMPCHOxNq+3yUglJYxX\n",
       "0Y4i3GZ03TXiULjm+n1PPPzQOAwcGKv7VR/kMdVw1IIHNf5YM3xpPOAXOYEAAADLQZodSahBbJlM\n",
       "CFf//jhACan1noLecAJm6fnmEIFqwRPVOYveDxZ/mN2SXOYnJ5DFvt+3JIelTVBUfeKSh8L2PKI+\n",
       "GKk1ROH/V9sx6+10Kha9MbftzzaUoE0AAFQ4Bfx8OmYtnjwQZbGlmLj3bhy1DjpL7xqtaxxogMB+\n",
       "prztUsDNU1pn8kIwKPAXzm6Kyb0T72NQemes6pxhdQq8QszlQxUWEKh0DblQ3IU+AxySRUepO+56\n",
       "++KHPwPex/Mo7z+BguwHbGR1YhuvZy8AAASObW9vdgAAAGxtdmhkAAAAAAAAAAAAAAAAAAAD6AAA\n",
       "BdwAAQAAAQAAAAAAAAAAAAAAAAEAAAAAAAAAAAAAAAAAAAABAAAAAAAAAAAAAAAAAABAAAAAAAAA\n",
       "AAAAAAAAAAAAAAAAAAAAAAAAAAAAAAAAAgAAA7h0cmFrAAAAXHRraGQAAAADAAAAAAAAAAAAAAAB\n",
       "AAAAAAAABdwAAAAAAAAAAAAAAAAAAAAAAAEAAAAAAAAAAAAAAAAAAAABAAAAAAAAAAAAAAAAAABA\n",
       "AAAAAbAAAAEgAAAAAAAkZWR0cwAAABxlbHN0AAAAAAAAAAEAAAXcAAAEAAABAAAAAAMwbWRpYQAA\n",
       "ACBtZGhkAAAAAAAAAAAAAAAAAAAoAAAAPABVxAAAAAAALWhkbHIAAAAAAAAAAHZpZGUAAAAAAAAA\n",
       "AAAAAABWaWRlb0hhbmRsZXIAAAAC221pbmYAAAAUdm1oZAAAAAEAAAAAAAAAAAAAACRkaW5mAAAA\n",
       "HGRyZWYAAAAAAAAAAQAAAAx1cmwgAAAAAQAAAptzdGJsAAAAs3N0c2QAAAAAAAAAAQAAAKNhdmMx\n",
       "AAAAAAAAAAEAAAAAAAAAAAAAAAAAAAAAAbABIABIAAAASAAAAAAAAAABAAAAAAAAAAAAAAAAAAAA\n",
       "AAAAAAAAAAAAAAAAAAAAAAAAGP//AAAAMWF2Y0MBZAAV/+EAGGdkABWs2UGwloQAAAMABAAAAwCg\n",
       "PFi2WAEABmjr48siwAAAABx1dWlka2hA8l8kT8W6OaUbzwMj8wAAAAAAAAAYc3R0cwAAAAAAAAAB\n",
       "AAAAHgAAAgAAAAAUc3RzcwAAAAAAAAABAAAAAQAAAPhjdHRzAAAAAAAAAB0AAAACAAAEAAAAAAEA\n",
       "AAYAAAAAAQAAAgAAAAABAAAEAAAAAAEAAAoAAAAAAQAABAAAAAABAAAAAAAAAAEAAAIAAAAAAQAA\n",
       "CgAAAAABAAAEAAAAAAEAAAAAAAAAAQAAAgAAAAABAAAKAAAAAAEAAAQAAAAAAQAAAAAAAAABAAAC\n",
       "AAAAAAEAAAoAAAAAAQAABAAAAAABAAAAAAAAAAEAAAIAAAAAAQAACgAAAAABAAAEAAAAAAEAAAAA\n",
       "AAAAAQAAAgAAAAABAAAKAAAAAAEAAAQAAAAAAQAAAAAAAAABAAACAAAAAAEAAAQAAAAAHHN0c2MA\n",
       "AAAAAAAAAQAAAAEAAAAeAAAAAQAAAIxzdHN6AAAAAAAAAAAAAAAeAAAV5wAAAbYAAAE1AAAAkwAA\n",
       "APIAAAENAAAA9QAAALUAAAC4AAAA8AAAAMEAAAC5AAAAwwAAAMwAAACXAAAAxwAAANYAAACpAAAA\n",
       "pwAAAMMAAAC5AAAAlwAAALoAAACiAAAAvQAAAGoAAACaAAAAygAAANkAAADPAAAAFHN0Y28AAAAA\n",
       "AAAAAQAAACwAAABidWR0YQAAAFptZXRhAAAAAAAAACFoZGxyAAAAAAAAAABtZGlyYXBwbAAAAAAA\n",
       "AAAAAAAAAC1pbHN0AAAAJal0b28AAAAdZGF0YQAAAAEAAAAATGF2ZjU3LjU2LjEwMA==\n",
       "\">\n",
       "  Your browser does not support the video tag.\n",
       "</video>"
      ],
      "text/plain": [
       "<IPython.core.display.HTML object>"
      ]
     },
     "execution_count": 12,
     "metadata": {},
     "output_type": "execute_result"
    }
   ],
   "source": [
    "anim = animation.FuncAnimation(fig, animate, frames=rho_n, interval=50)\n",
    "HTML(anim.to_html5_video())"
   ]
  },
  {
   "cell_type": "markdown",
   "metadata": {},
   "source": [
    "##### Think"
   ]
  },
  {
   "cell_type": "markdown",
   "metadata": {},
   "source": [
    "* What do you see in the animation above? How does the numerical solution compare with the exact solution (a left-traveling shock wave)? \n",
    "* What types of errors do you think we see? \n",
    "* What do you think of the Lax-Friedrichs scheme, so far?"
   ]
  },
  {
   "cell_type": "markdown",
   "metadata": {},
   "source": [
    "### Lax-Friedrichs with $\\frac{\\Delta t}{\\Delta x} = 0.5$"
   ]
  },
  {
   "cell_type": "markdown",
   "metadata": {},
   "source": [
    "Would the solution improve if we use smaller time steps? Let's check that!"
   ]
  },
  {
   "cell_type": "code",
   "execution_count": 13,
   "metadata": {
    "collapsed": false
   },
   "outputs": [],
   "source": [
    "sigma = 0.5\n",
    "dt = sigma*dx/u_max\n",
    "\n",
    "rho = rho_red_light(nx, rho_max, rho_in)      #make sure that u is set to our expected initial conditions\n",
    "rho_n = laxfriedrichs(rho, nt, dt, dx, rho_max, u_max)"
   ]
  },
  {
   "cell_type": "markdown",
   "metadata": {},
   "source": [
    "Now that we have our new data set, we can set up the next animation.  We'll use all the same code from above, except now our `animate` function is already defined, so we can just set up a figure as before, then call `FuncAnimation`."
   ]
  },
  {
   "cell_type": "code",
   "execution_count": 14,
   "metadata": {
    "collapsed": false
   },
   "outputs": [
    {
     "data": {
      "text/html": [
       "<video width=\"432.0\" height=\"288.0\" controls autoplay loop>\n",
       "  <source type=\"video/mp4\" src=\"data:video/mp4;base64,AAAAHGZ0eXBNNFYgAAACAGlzb21pc28yYXZjMQAAAAhmcmVlAAAvr21kYXQAAAKuBgX//6rcRem9\n",
       "5tlIt5Ys2CDZI+7veDI2NCAtIGNvcmUgMTQ4IHIyNzIxIDcyZDUzYWIgLSBILjI2NC9NUEVHLTQg\n",
       "QVZDIGNvZGVjIC0gQ29weWxlZnQgMjAwMy0yMDE2IC0gaHR0cDovL3d3dy52aWRlb2xhbi5vcmcv\n",
       "eDI2NC5odG1sIC0gb3B0aW9uczogY2FiYWM9MSByZWY9MyBkZWJsb2NrPTE6MDowIGFuYWx5c2U9\n",
       "MHgzOjB4MTEzIG1lPWhleCBzdWJtZT03IHBzeT0xIHBzeV9yZD0xLjAwOjAuMDAgbWl4ZWRfcmVm\n",
       "PTEgbWVfcmFuZ2U9MTYgY2hyb21hX21lPTEgdHJlbGxpcz0xIDh4OGRjdD0xIGNxbT0wIGRlYWR6\n",
       "b25lPTIxLDExIGZhc3RfcHNraXA9MSBjaHJvbWFfcXBfb2Zmc2V0PS0yIHRocmVhZHM9NiBsb29r\n",
       "YWhlYWRfdGhyZWFkcz0xIHNsaWNlZF90aHJlYWRzPTAgbnI9MCBkZWNpbWF0ZT0xIGludGVybGFj\n",
       "ZWQ9MCBibHVyYXlfY29tcGF0PTAgY29uc3RyYWluZWRfaW50cmE9MCBiZnJhbWVzPTMgYl9weXJh\n",
       "bWlkPTIgYl9hZGFwdD0xIGJfYmlhcz0wIGRpcmVjdD0xIHdlaWdodGI9MSBvcGVuX2dvcD0wIHdl\n",
       "aWdodHA9MiBrZXlpbnQ9MjUwIGtleWludF9taW49MjAgc2NlbmVjdXQ9NDAgaW50cmFfcmVmcmVz\n",
       "aD0wIHJjX2xvb2thaGVhZD00MCByYz1jcmYgbWJ0cmVlPTEgY3JmPTIzLjAgcWNvbXA9MC42MCBx\n",
       "cG1pbj0wIHFwbWF4PTY5IHFwc3RlcD00IGlwX3JhdGlvPTEuNDAgYXE9MToxLjAwAIAAABMzZYiE\n",
       "ADf//vbw/gU2O5jQlxHN6J0zH78VuLo0N73OAAADAAA33SMXwmP0P+YA5FUnxoZXrKp+OZ8AsSf7\n",
       "hV4u2r1rorEHUBRMLYGjE4DK/IWxxauY8VEkg6Q37usZQYSAlSWFdQC3E594vSnswgbCOFSwft60\n",
       "CFpkqSaiYRF9agzVPCdlw/2kI6tXzIjd6WjxFXxXFsM0kfCuXzz1r6vlrHNX8eAUfc1nSeD1PSdr\n",
       "kz9Zh1Fm+i5COjYmr1ROs7oEVxT/7rICc+noiMjBc+n+O+VJBiR828n63zD51JVGQeucfnWNZxb1\n",
       "7KpLec52kVq14Pk8UMHMqSZv4QyRdkOxSCgNtcLuniVaI3ZbU6cXgHxe7sQ9FvXf6QAoFNuou6pw\n",
       "uO9xwW/6eBb0dr0rCaNOm8oxzAX43fPqNU5k26pT2ceRaFIEFpvL6JUiiLXiSI7zegvavEahXCG0\n",
       "mNUGveQvI3bG2cGnyuv3qWsJnFYrFZ5NcP591sabTA1TggO15cJQaOzg4VmMY/UBHzNwpVq28FJT\n",
       "OcOceXyHMy6/iXWTTk674j2AFaGFtYCQG+QnIRoq8UecWMllbz7RpBz5j3YbpC4JUDwbAHp6ZRwD\n",
       "6OFqhrcnt/Z1auukPX5F+bbNOl/7JDzZgviLRiIfTe7uKB4izxZrrtVRbv6dLMLUIzzdcAortE24\n",
       "tlmPW5ZuEemj4Fl4BWlmZz4EFrSDJN4tl9vKawjVf2+Cnp7qKC5vVLEHbGaJHGc8wiGXfb1uVbeS\n",
       "j6o84epLtpgrZWiEafpO5a26t9tcEc45DzMhNnX5g3x1jqABDtyXM5bLdkwMV5recfarjm+1DGjQ\n",
       "jwDKEUKBVEy3r72oh2dUm3WNGR6HqB+c6qr2v0AlHcrgBHDl/5q/t7y89LVTO0+wcGQQcYxwJQqU\n",
       "VRSMz0uxes8jgxuLw6RLiRteKysyH6R7dqBYspCrAB67Yr2FIkCUxxsMYVGieUYJo/8MBfTOQ/B/\n",
       "VDaedj/AeH9HSMi46bWqXoqsCYIt29ERkJmVU4THaq2MN22zTovxPgGGMzoU7C4/G8Fc4UCr3end\n",
       "PfpXz7mzLY7gn7NXd+CUhsWbhjOHcyiJTXYwZADvhdGmmIid5bqI4vD6DtmhA7s7Y4FYgClQOjRh\n",
       "Zrwtu0BmAliung+rxlicxFErPhNQR1iqkp/o4SOIClg72q45zWVxxFcu0eu/6LUMKbMwRyvL7c4u\n",
       "UunaHSqH7LpmNER5oJ9dR5EpwEtBnAHuYNTeCP1Do9CXzw6YkAg/fePhkl970rAI0GRGx0LIDWZQ\n",
       "Va7nmekPfIL9tCkwrffceDqdcXADqIbKU8F9oMyfAvjenTUBtNtRjLig0QGrw7tVlapp94qZR2Zd\n",
       "ySuSOF4fVewBOSTLrsPBy/g9Qhmw5LYQre20D/JzU6EGkKFzx8AmBp7Ky5VE7N/Bf3MJSYq371fR\n",
       "TFfhaRfc0+n3ivi+AMp2Wfq1PAlzOAedjrwIKEqDE6bvAikDIO+2sU6ioQY29MpD1KIMs4v9sELu\n",
       "ygcG6QmMIixfE+n2+EmXm2l80NH2PpcL0mHXGCwLTYxSreqptYkvRlB0cPplc7c+UeFi9Xz1g7He\n",
       "K75ycoYxzyfrB0DdeB9rAAiyTHrhcPJY5QChbyN1PfAnkgI72fqu0qwML5IKCZfIW5T17to4h/y+\n",
       "unXFASZYZqmVR+O5YydMwyq7qjCS4WCBVW1p8WZsQuEF5sXtxROdSdN0D7LYYqHIGK5kLP1dXg5t\n",
       "j8Vsr9m0HIs1UFL1tis7m0zmGvWEHjSij0iiwKY9NUHQ+mUvv5IChHaSkR8yuwt3r4wknBCcUUTk\n",
       "+ycFc6JTbpXdaioaRIllqF5mvE4ALJqNNWqtKY/JJqxIKvt8oM5qgzNDSVn89YCKPrxqSyhOY58z\n",
       "9Ite2dzgZ2+b+ceOj1vgjZ7WdegJCxXZFZaRh5uAt/vk3itzsCOPt6CZ/pz053QNt+N+i4m7wCDO\n",
       "cmVdX7Xn3Hzamsf9oqXzYvPH6cUS2+Z3WL+buDBtZaDkskgyD779TEqL4b2ElgcCqsu51R7a/oov\n",
       "Nufw7L0fmwpPZXszxHlW8zD+go/eoUlZs6e4ipKB7kCs5if2XdOixVx1Pr/cDr5SKDZKMp4wsdLx\n",
       "tniOzF5MCCRCS0ENs3cEVHe3PWmV/+42Xxyhv7OQU4Wzi8hwf0A1Vr0/aDoFrboP1KFK7A++Xy3+\n",
       "3AuA5DRG/4dzkBWN/WTQvIf/JHBeVAq1tsJDR0I2MNfxuC5vpusfVrhHSxQXLK5o0nu92Zt7GzSA\n",
       "vyikKMblGbvAYQ9flOlwFFsQeNvLDK9/pE5RpTiUDhYuDurv8zei7JZ1jMKZ5mGyYbSf7yNSUf/C\n",
       "tT6O6vnkPnXWceWxwMBUfxbxwI4tGM/ILzCHuLX/ZFHNgIgEhIWCgzxWArOBNOm0H8oON0PLgW26\n",
       "3LeZGJgH7XzxFrxbIxojYfP+TCz1FfHTyW0TQYdETmoQi3BWZvJbjnG2AGQpSW09iMHoLc9OHeSJ\n",
       "/tqObdtANaxh6v/pyA5G5QlhJc2C8bUjfZ05kFG4f37o02jmLVbccaT6UFYeqEIb0rH/RPHlCqqZ\n",
       "r47Byt6aaqoUSr0+8GMagYQDhdMJYx0fF5HHSGwgNfJIvuGgdMIPOmPUbfKZ75PdQCaSPesECbKR\n",
       "sc9kSQ4Tl2XgdG+d6PPm1qXR8kSbpVo8hyIjIQ/FvtqQwzaVIFhVHS0r/Uz6dhgAKQX/pjYFwCX1\n",
       "APDeHigbnGi6Oh8+zcgBGzZaWs56tTJSFWQl6idiDQjII7QCQm0qHVsCrpGKodApmRC8ZKdxFbN1\n",
       "JQ4Bkgkf22HZACjW+ipp9iDCU596QfVqNld6aLIIDoLrp8xP11PxInh32Ss76mqSgCohqGctMvsP\n",
       "tENxl/eqlz2FGUlY9jckoyR4qcpmLFKuJsC8kGaZDK91IBXiqiw1a0b6hcSZc7Geg8vncWGQ5UIs\n",
       "khPOKXpYtTRraPs5cnU6MGEWSagCshYnv26i967zfwWJzuDHyNQE1senS7p54yYAiTGCInOYhEo4\n",
       "oA5Mz5JgKn5n+p26WVJoy6IQm9UYNRhQxGZnTzGs3FUr97+7fVYJ7xv7WmewT1pJQwcLwZ6jHJWs\n",
       "f9kJZG4POh2uJoDZE0zcATmfnuiN7qozAbGOCeRtKZoi3wwMigvxCwtFn2iFnBd5n7EfGglZcaAH\n",
       "vTJSAblCvDywZOSgEzx1X6rkqXeuGYjqgK/eKgtIVVWI/Yw507QllnWPngOvm/D9nQ5PaZYCmDuo\n",
       "LawD/zO8StR4buwsi52+aoHK3wqQuyEJzz7FPKuL5MxqLQ/ACdmv8CymmbED5ZO9XM1GYRysAlb1\n",
       "hbLBFBKJevP+E4vsv542hv9vRr4E5c6ZMA1Uddu2bM6uFJ+8VB2qdy837x62L2WTQTcAWoBXkBXV\n",
       "8+QrB5WtX5Ldv2Y4WfxaWIL+6x6pzAf0L9BfFpOhiAhmPN7JkvY6ymblH2ds7Dgj8Ms3eLFK1bfX\n",
       "1CEpbXd0KrKsEBZ3MWkJ0ilSTW9tc/ZzRWE4aoKHOHqeEN8BoE0/SKp5v0xQS7w0IcEh8leFFW9a\n",
       "+G8/6nd4AcPjODRCmXLTfh3G64duD/FDozGnC82Dd0BD8gCE7N2BHmKpixG5S8mzeJuDNF54/0bZ\n",
       "JSwCI6cv1TUUj9GC+w+R+oQYieiPBwpMFnT+G8c9T16jfEwba8IpMEBHRzL90tUJeVCKtXsb6kJO\n",
       "P4W7tpaqm33DSpsVV/ryK8H/mmv4HBWrBjTmHwvNMDTtBgZFOjGgvwnOnLbPmC+g6aCmcCKVN9qn\n",
       "LP0UTnM94sb9N9YOcpMBr/8BeeviWCrw25vFoQkvRJoGL8lJeEdq1bt3rrgYG0aRUFftCL4uT3PL\n",
       "WTw2+pzvnUUGCsE1it1OuBHsps6iyYQopI2HfLKQ804juq7IdUpiWhVBfhVxJKkZIe89smPXEdAD\n",
       "3WmCuSIn8d/meX/mbS7C5RrxFwFMUfO3pQ1oAc+BrPo3ojSOubc3dJYhKnbq0AMgkPEgJYa5sexI\n",
       "nBlbbBL6DM14wUexSOaxz/l97Z/uhyKLI25Sb/zdDXiyGJxLQiub8mZ4rfPyBhVA6vKRTjRJxqR9\n",
       "UW6dHG6u5cbJ1l8Z6eLiaNWdfSnGVFkx5h+mUtLzzkQ3umvoOVnuZFyghGJTrJgbRzY1UrdwolRP\n",
       "DjIS2b0hyoIaAIibNLnKArtlgU1YbvHcDsEx2DwfaRyNPlZaYkGxlucc0M5qy7zE+SYS1PxnaF66\n",
       "Sl1g/EgCAmKOZVjSbFcFirJ5csApLWeN1WJ+qKUiRUheUJjEIOn3SbZoG8rslExJtY5N36/+S/2N\n",
       "lYZB57xQLt0CvAFL1XFQ6+oMqqB1Xe6WeQqfLGfa9ayLo5FleAdDHG3cCGFn02kbMSKV+Asp6xiX\n",
       "CKD5FRnlfgNOtkI9thjgdtfUPi94WxuznOuwB6yZogiSQ1NFtcIfPMM/fY8gbOQdnwM/3Ldu7vU8\n",
       "b7ZJEGZku3gLFdxr0ID9G26152xxzoqwfguCWW5Ayfr9YJBybh6ewJo/331HWTutTNyvnCLZlYTz\n",
       "HIImzZDoFB9e6siuwFjgfhtA+O2fTeTQSKMyxlerB2YR4RTIkbINMxDTn99BVcIefgWzQV4gH/36\n",
       "X5odavclrTywwO+s2sfolobuQb0msm3kmCITLd/4SJevuGw5R2VG2txW/APzcGYpnyFeFU8HRluM\n",
       "Y3uSb/8DTbBcvy/2vcZodvGm2MgB9DFf2VRsofDd6B1azC2O7HXIBfJiK9zv48ataUtk/hSSgFr4\n",
       "+U4r1ZhlI4hwlUvdf9fQ/AOSFVbCTSoK9kIlOovAFalKpKrxwLHFYOTdRI/SQgUHlIzON38ilGWE\n",
       "gqKv6NlUIuurFDoOosAEB5lXYNAjyUXY7RIhVfcgbrcHnZf1CTfzw0GnlxrjYggRc6Hr8EcUbARt\n",
       "7CSPKD7R9m8Rc75x1+7OLpaHasjD+o3gpocWTB/9pFJ/LGFXSJR03IL/vxOjF0l4gNuqRGvj6Kce\n",
       "nDHZoSG7MIOdVhm+sCLVEB/oDVwVYGfdf/eyQcSGU+8cFqOhOCZ+2LHFdSZV2zSWYF/fafb4fwqL\n",
       "cWhrCMYF/byY4WbIuB7MVvvLjZeeUscwC6hJbFBPCZsYAnx2QvkpA/3YtxGXs9Omu18fZc/GrzXm\n",
       "X6kjV5j81o3hn8YL9bT2snMDgd8/fnZv1079Fz9hd9icQUn+4Av+JZs43jDmfm0DzNP5hWomyIjF\n",
       "9sWkpuRFqK5uUoG5WxmxwaJIATAqoIanq0ZeItPEUr8euTQ+ZPvEEblvwc6+3PYkCaAaAGZsX1gC\n",
       "2oiGH1mC5T5hM66jljr/Tu9ZAF775VqAvniFHTngL5nmZIngUvjQOndi9bpjUTaTjjKPVHRGlNs/\n",
       "aUMjf0ZCJLjT40c2YYaNb9zbsaZlVPzuzXuxmWiRlMlAYdiBfH9qne22W50ZtHioR9QtmrEVuvzl\n",
       "OTnfkfADPlXHKVPVIIVm1zg0qim+fpZYavexvm7AiJ5NkTnLZjJCtbMel37WP11Ubp1Ah/SPxvhy\n",
       "zoZ453p0WMQUMMFFHGFvwkeOxOBKBls30e3/sXxwn/wPeC8RjJems9z5LGVpaqun8Fs9pzCb5fL3\n",
       "TKNwxCBqo2BckUPHY4YHc1b0s5lpE4pEZ6yaK7ArrLFfRUytIfUb+tRx1afpL6d/+64EkQNdTI3g\n",
       "1AvCJsCUNRqOnfQaCp1vuZGaWYARbBdM4/y+tCvbxc5JyBOlvquySY1Rtu5U7ziZ/71x9CB1BnRn\n",
       "An7aGlyRqVfaos9nrbxl1M4vwKwxI6Rx+IC9pnwrD3CmlQ2FhD9cSCeGHaa8D3xZqD0+VbJUxkdi\n",
       "SFOSVNNlGQzbP0TYzfmV4zJWGF+ZAEEUxJxTPLmopVBlrLEHvDht9h/4eNCXVoUlueRZdDJAIavm\n",
       "V6EfHs0G0ttYx3lmb8StoA7RKEX8N8mE/q371s4gcyzCGIkntvSLfF9u5RQFKV4sBH4zJnWXad7q\n",
       "3buPFzTsskGbsca7UxLrEfmwn6GUKET6UJi32Izn4g+/+0JGeLAG2+obkGoAh7t6SzAKwAZl4aZ6\n",
       "QJ5pXAzeVVrg65DcJPztMErZX+ZlAZjnVu8ppU+vs9ZzEqAgcf22YR1ez8HY6KosqNvLKD2r+zBK\n",
       "mtbS4mCvvi/6hj9v/y7sGNrhZjb2Uv0rmA36w09JbXYRUIaLxUIIheb0eeu08RWc+neX2lErb7NI\n",
       "mkq3vAsX93gqVAtdF8BbG9GK0825ETKJmFNz8m78+LudQwkxF49gAY5w50csrGP1GpPFGPL/XuC7\n",
       "lmMFKvsV7Ipx6ZJOMySEruAZxHwGIcU62lGP4/UyrdDhuAoR6ZQ/FtAZfd5hN0y0v8zhbX7aAwC8\n",
       "8EQpk5bl4zPClgSW5eFVgyZm3UXw4SZ8GtqV64eerY49Sblf2i396G4yklLIbXLke5StkQ/X6ceL\n",
       "Uv0SFwm0SH6aqyUaKgcWMjY97BMIFsudNlye6mfw1n3QSTbLCY0wYgNGwBbZ1M/3FkCpwOWow4ih\n",
       "7cLE3420GuLR6QAAAepBmiFsQ7/+qZYTAM9AEI+F8JCk/XyeMvNMTRwYvjKVjZcGJkBNsNP+1h2g\n",
       "048S/cfLK1QDoC688LUQsEjkc+iAkbOb1ZEckzvgg+OLLaUjkXol6PrG2QDSp++Rn02Ube0YzFVu\n",
       "dBFaZF7SczQ7zm/dB8e9P/WRholZoxuyd+gtC3R/OncQSPN5y5N3j9fYS7FJRQ3ZEoxJksEIB+fV\n",
       "lgUdN2+UdnPFJ+WS1eqL4JjDPCV7Mv2aqMhxg7eyIg5MaFTWCl/ByxlMmlrftQGUnxtS6RHPuEiD\n",
       "bZTSp8fmSzkJ3IrQuPwnhhbE3ZcmPB4KwIDpyIIDOuT8A27mSWhJOSyV5hXDVJPs8Nfh8cx7+q3O\n",
       "k57+HPedSxPYOkOQYVtrbsUnj+moPmweopGHk30mv9qdJkBBcUW/BvWaGoz1n7fADc83o7M37Hwr\n",
       "DSRqLswpATuwKoRrOrLhALbe6LLOHILZnlzyikU23+q+lwN3447uBAcnEt57vLILUlWaI07PgoCF\n",
       "t1/JBG/ORjCZyB6GlNmdE+9UlP5sg7bucb+KuXs1llYQCBkgHr68kMZUMB4yisa7SSwigZJMeWLb\n",
       "dENN5j3yrdvyzhTAgklgbCny15P0L2+zPoO15Kch6t5Kt2tZec6XK+PWJP/4tbooAAABSEGaQjwh\n",
       "kymEP//+qZYCAZDAAof33Cdu/iOqb8tUVzcyTxV9slIXf/f/9jSDrH50KfAo35as+0JLiKV9jwod\n",
       "axI36oQ/MHnqAXmFbQj7gMX8oXZDir87kt8PsY6kiWH048SZ/j9EgnRVGSVoXUXBNS+Ad2vgT4ha\n",
       "WDlW2GZgZhfKSPkOc5F3zNaP8eMQoqUi/nFypQfEQvVYNMkjR/73U82SNxnbkWox7rMcELAqtvGo\n",
       "kFGQ+TsrwPFeAchs35nxBMy3wl72hcJRNf5FZ3MOQn2lNi54FFDa89p+XCuAy/mO7GH0pRPRe6xy\n",
       "GdSNwkXwUtCSsvMJMEf+/uPA5ciEWhGIEuZCZgLdsPn+uLH64c/bXJJicCY7YyxUnfkFY8o5ksON\n",
       "Z+T7bIGpJzWNleRsAZI3vx6SKGZ7qcqc1/+hMjtwBfPtnLcPMRMAAAFuQZpmSeEPJlMCHf/+qZYA\n",
       "SioyLkg1AFAP61MptZNIrSNFvlm1az/xtHM+VRpQlOKof4nPAdtl4RGb03OgafpAF92WVDJ2elrF\n",
       "DHDeRhBsFrd6Dp9hBQDUhJ2eBoePzFtg/9gwz8E8IzkP9GYLzLp91/tk++7WjucZob12nD8A6Wc+\n",
       "tf8UzqId+73BvGWrPQKUV/V2SbISBHA5KwyOrlTP2qcOcZW6i8vo0iJPGSYRsvo2BkotsbteJMyz\n",
       "+a+Wdv9tQNbGyaSk0xxlu2k+MKyv/KuP++JPmyElRYafEt6ilZJjOS4b0HABPefudMXB2DhaBljd\n",
       "CsjNKWP0bOnY/zYq9vpILpcs/0fxyznF+dKDudF7LFhgp4kLFPI08hbTXa9cNsTqaYF0LMREgbPA\n",
       "4SNOLdKj2hu5MvAeV80/M/nzBkz9BFx60l4Ehl4hBsxZh6yJ9WMTV3OPJrq9jqBzTDNYvRuHbMDV\n",
       "qSpR5H+qSmcKAAAA00GehEURPDP/AD+ekAAueaRSyhWdKpKHavY9zUTI3SS++wCJ9vpWsaR4796L\n",
       "8ZyUx4iYRS987azHgl9EvP28r9q9ze2a6PxmulWE4crMHZgpBOiDdS7xhsBL3w1mS1pWmnJOMQJ1\n",
       "sKyTX+TDRgLpakAP1D2cHnPk7a226LAf9RblBsXhgaSo+nwBBVCMt8IKueT+f5f6LkD2lzM6tLQ2\n",
       "0nUF6Ru7nmirSSxs2Fr4q9KBxgmfv45nRhu/xOW+zyCcxY6R2GKCyksj0NzOCZzqFEsR1k8AAADZ\n",
       "AZ6jdEK/AHbaFl2ADjMbVAMgxC5HWb6op0wb0Y/3C40wXf7Tr18pGq6tozWU+nMwyX/ac5JX4PId\n",
       "F+gqcXZ0RhF+/z7hlmNYdkeH81wRDOLWcRH2iTMvXU28H7R0MYDJjP6C+8kj4yyau/2U8YptJCU1\n",
       "F0BYY+qqP+UQFydDIgq3TAv8x/pHNtRRjwXp00cbDs6Dh5AWU+kqeab62oaw5eg+c/NGwoo+96ji\n",
       "lLcip/ViQEDv0BeHzjH2qdBtw3Iys3AIh9U8nOw67DViNf3Ce+3JeVD8M+LF4QAAANoBnqVqQr8A\n",
       "dtVgx3o+IHU6sPejqMpC8LzsgAJ27sOZF/WRAyu1bf0e/KOYZCYXf8XHfESq2r2puW43fCfPiqNr\n",
       "3+k3Y0DopYMjPNHz8Jmbqinbj8FDjugOOdTjPzi2oopchhVoU0rq1qG3ZzXaN6iRNZqRsNvHF+US\n",
       "dL0rztfKyRUd7YPqw4j9BVq1fDWV3JNCCmPzFkyX+VLInHSFjvmtnfw/a+VWXS4GME07TbRavPGA\n",
       "lIY8phRaM7XGyz6nZQpy7V/K+mZCi1qXJ2kIHiu9BGsfEBUi5vTAJQAAASFBmqlJqEFomUwId//+\n",
       "qZYASl9Zr7paAI+PTfG124mCEQF6WvmvphwlUe0+ilpci0rpP1J03X+Sf6WZLnvYdytzaqNUf1cs\n",
       "ymz+zUuVlvU2v+UAn8rIyXInCfjEgAe83pLthiHc+qw2EDKaoXg6VSgxHIqg1NeuZD/p3e6dWFT5\n",
       "MzIrP0URsQwnIp1kX6nwnCS7h4eXpzMVKvSdgqzgMgXFTne/+hpQHsAj7fTHZr/mOp5NDllmpcyQ\n",
       "BPusN/UQs5e8eR/kERI0x0Ol3Ut9/QWw3G6EfIFUh5PA66LZDlDm2Q/+z+TQjpAcQqxsd8d07znH\n",
       "zInvDwcIjpRZtOqU86ZbxSzyrMui1CKA/CV1onEmsQianJARaV6b+g7rYFsuJk53AAAAv0Gex0UR\n",
       "LC//AFiYJwg7khkJpmnlrflLzUADSG3YISTI5mwGmv++7M8h/ITvN1uqGAIbecpT7CuuZmSssIHf\n",
       "3CIV1G2OC6whEFxCrcuR94I4GTDaNzWOr3D2hyTg04vG1e3M1JT4D2bcs73ZGWqkIUyZtSukCAi9\n",
       "TlYwlr2MDP2FvwTVp316QZVOPhvLuqbtSZ0jupzCk5yd0kL0WVdvbKRMUys73wI97LD4vQ+sH/8I\n",
       "ve8wbeaoCK89Ki6bwwjLAAAA6wGe6GpCvwB1gNu27gqkUOCzF4ABtNAP2sUMYzxkaah/EfpAdtvy\n",
       "syK0Ni+A2/v78u/Wdr+VJNZR54pmdRRyOG/QFtddd77BcQMCC3UcJzz+LVrue5OzuVwBB11pakv6\n",
       "I5RZZKluWS4WSLukcAQZSTZPCKGvcTKeU1OWtHbbORpQ12j4T1037BR3j9AmPaZzDQTx2tMjCsa/\n",
       "mv0mGHLbDYeeanLNZe0UAPSS+NFjLq1ep0NK1+/2PW23Wc0Yh80X9EGxTa30hCrGDomn5ZiF5xwN\n",
       "N7KoeRZhJVZ+pZ4TKWPF8WtiPevkQQFizYgAAAEWQZrsSahBbJlMCH///qmWAEoVV57rwBHRje8K\n",
       "eOA3D+RrNcKEr/x3AhYoUTJLKHDdZq5xpU2M2C5oW/R/bYHfnbNpsAmQJkGNn9C1WvieLYCYBsn4\n",
       "xAXbYLCm3OuF7IM2ptwF36mdxCau5Yk0eXEtM6TnRhdqUqDds0ESx0uqk6hYzOAiugBbaX/w9hB4\n",
       "h4FjT2szpz+sBc2qaBA4gnvQXwj10dRGICyTA5LXEPFpEsJRuScL2on8xn4bZh5wfAgVEBEUkLvk\n",
       "B7PLM29WNa6tfqdWdm3y9d4mNYvKQg+RMcygbcBv0cwkqA586j6o0SaZ55GdsweInzbDTJQyH366\n",
       "Tlw2XNUe5F1XuXhX4CAZMy7s0j/cbIEAAACbQZ8KRRUsL/8AWDyyzLbatxWgJxjVdArTlwKpXWyQ\n",
       "sZkf+h1GAFFSFxSfVGP7JRjbw0YBc2VH0RVhfe/veVp+o6ibkeuSauHTqFuBfNsTzFq973cnB/SZ\n",
       "vhmlw5hbddd9TS4RgPe4isELC/ruEUC71zcjH0EkQMRg2SVR15fWugO5oFYTFst6lMJmSE8h2xSz\n",
       "D+mwJqVcCA+HO+AAAACxAZ8rakK/AHboQH6E8eD1qVruxZAATR2KBowVRZw8VkUkBXe43/COtekf\n",
       "7Hi8auMSASlkbeR6MNVv7kJfqNJzNnhLetfFvSR9MoCW2joqsrGC2dJG3eRXPLeh34O4ra5SxVEx\n",
       "QFJvx77T+KVa5K/MHe8zfemFgwyVJq6Ppeds2Nbu+c0WRLo2tu6sH9lFlLxva+SBGWWCJa2TZvdN\n",
       "Gv81gJcGfi3smLk2dMkqc3X1GbkwAAABWkGbMEmoQWyZTAh3//6plgBKX1nLXUAI5j8NPBcVKtND\n",
       "yy1Ug/v/lGrwrI/vCXprxOBDUXx5/c7X9Qy5GegCLSekSPXRFJTMzhjOtObqP1yavlj7PbMTgiJ9\n",
       "/FP9ruYkfT5vanWwrf/aT4vyWZCyBB2oq79IsyKzLeXSm02oDYnL63xFJBf5OlKm5RuufdJQ7VkV\n",
       "JYK5NWdwwiLRNf2IW3GFr6OnsR0BmO6Yej9KaLynqqIdi42xB8t8sZVEPh/xt11ZB916jBGKy/uq\n",
       "wqYfRQVOIez3wsrATJo7+Pb0jEd2EPp7poXA4OMR5jIz93WORZaLZbJNCxArhV2gA/ei0bwuXksd\n",
       "gsLVhsC+V65maHISNXJba58VqlnIFxbkWpypASN/gyVKFTtAcqC2kP4U2h5RaM/yn8fJDeaEluTg\n",
       "TOCfDzshg0qQG32rRRao6vBry9fB2I83uwWiQ+8AAACFQZ9ORRUsM/8AIJzXgusUrP5Wbw9A9mio\n",
       "+NxkzQ1rA/AEpZuCtqzlIzkbbRuXXX3zkvEaeqBw833/BgEooXO2ADPgtzToyjlfNYhppwwdASro\n",
       "7ZMw8YfNQoJn+amS4iJD6wq1dISgoGDZaBGEh1bBjty1V+cby7eDzUYTEgeX7dpis9WyoQAAAJgB\n",
       "n210Qr8AdrNFVyCbVb3cFABxkDa15HfNIeaq3WQBbGyuygT0jrdtNnS5iGJgzDnpp/9EvMzp1lxo\n",
       "bUbVy3Yy1pe7xL977LxRaqdV4Ahxm9G/ZhODL81bKdpM6dH3QJlMnWHwhic4Se+0rI02w5qfoGjX\n",
       "TnhEdmq5vUSA590KXSzHMi2GuhoZAIXn0OoWNGlQ9uhQ0uhCgQAAALoBn29qQr8AdtUgZGgAWxix\n",
       "nqWdS4por1VFFZtvLmughBd6C//853qTZYk9YT4r1fPENUwJk2Tl95tiwS6HZpfNIiucwSvI5WDq\n",
       "L+ru/33696wXqoLMAiOxI4OcFe1/f3rfhprksfOziAXd+7m0lrN+eLrD9JjI/9p55uw+U3KuPvNa\n",
       "WthU3ukesGAzwE3txMognRHYoZpfcJddibP6uqhqqx+WcDi6mfSqfKxL0V14wA+nLn8K29XQ/mgA\n",
       "AAECQZtzSahBbJlMCHf//qmWAEoXen6MAN1WKHwIVlFPiQjMk72Wh6f0bppioxmDvqZ/QEvu+Z6N\n",
       "iFYFqlJyPYsY52vTJZ/7IFSu9011o42KKiD36vv+nI3QE2+ebiNn7vSLvMkXbhVPJFYAKP7uXamr\n",
       "wpsM6Aj+rg959zyk+Renp3P/4SIZrzc3huNsom8ZbOSJ8wT5No3aDKQMt07v/GJ/CKz//gBWvgfN\n",
       "d1Z8ZAeGP7XABAXi5ZVtzlsCMwwV/Z3JQkpApFFLfSZm/yXjIa48+2cf0fjqe3oxeuG5ZMvvRvxt\n",
       "bmmozXS9wWNX3O4W/1Vp3CMQuuPUvKL3LFzGVTycMqvAAAAAm0GfkUUVLC//AFhmuQrgBuaq1Pfs\n",
       "ceJz8+s+v/PTuWGS0Z3xMI/QSbdpb9PTItkAl9y9DhhrWytHZ3zP8Z/L+47U6NPrSzUOSHJYrBYQ\n",
       "fjnBSD0aMmZmvuePpHAL14QSpoaq4lFaM83mF8rxRFHKk0H8SvskULjny++t8+DsjCCNPJrPG8u5\n",
       "VWc33GtdWeAdQU+um1Yblz4mY0cRAAAAuQGfsmpCvwB26GrYAOJrCWd2dALP0dCfYxBJ5PskBUex\n",
       "5bnCKxv9ewFB7r/5DPkRIxCK4BSv57eSfXyuZ3GM8+CX8DbDnyi4b7lBQHCmMNTbs60PzrrDamfd\n",
       "9mDIHdALFBFiQKw9Bg3vhtG31HQ+g4/zB2+U9i4T2aSWLXmksbwvpILjrQCYo1ZES3HlM/Yk5v28\n",
       "mIdK26bGt8+VuV9VyL30lUJoZEj3Q0lYldb3H90a/dh+IKl2DcKgAAAA3UGbtkmoQWyZTAh3//6p\n",
       "lgBKQvF4OBMAA2D59e1b/PNPflqiiP0sXkIPPDjKHF2iN6anTPO8/X4y3TK/hAwjD7iNNJ4q6F1K\n",
       "+c1BJ8WwQVtP303W++HBOnMPevSv+hrbLGqp7grlJnxTfmp/aDaujDbbXt9DK0G0pR69uvgBX5XD\n",
       "9ZBVhCfDN7Nvdi39WSNIkLYytfbQxsVt4LMf6gM4yuBUOmx+yZZdMvFX7EMjs1ALHktYXzqO+Hjx\n",
       "c/gNuzeCbJokfh4pwHHleg1ACFcCocCS/A+12bIWLlt8eBVeAAAAp0Gf1EUVLC//AFiVUiYAONsJ\n",
       "NazsKjRJfdehT41oIeg+mKwS0h1MDx23IBQciwrPlZqkYGy2+xUPPit53mbcnVJzPbXo/m0VcyvA\n",
       "mqqz2DkIcpFxoO0P7NBsv+Lw6I/cTnNKUwAckr+5JmBGYz7v/K3UGf2Sz8XcWHmstjPP4kRt3fQZ\n",
       "7Mjwi4OdO3o5eTPKWBRJx97RnVGiHdk+KplaomcxXSO9klnBAAAA1wGf9WpCvwB5q7k9PEu92M8f\n",
       "ELAAJwO4j73LuxnB0BATfc5JIcEcLLKEtn9AaBSUbjjX9Di/SYTO5QC8BLnZX5GGg14IlIzsfnG5\n",
       "4ocj8LJpR8W9eDDOlrmSLn7xUwKy7kNB1GvytDrfS5juzDcHfp6brS2g1MxWwL4G7g9NaQZ+WghH\n",
       "lt/Ked4/lYBOJbZFm61SIcNbLLKdpiRaq3pGCgXPPrHJ3xKtR3yHUJxPSo0PtQt3Ogre1iK8BH5S\n",
       "S0mU0+y1Xc+a0KVx8LbL2Ww8H62Rjt+1d7j4AAABJ0Gb+kmoQWyZTAhv//6nhACSrL7ya4AW5dBS\n",
       "ruc+56YRcGUigfoBSmzdHRgfIX5TzryHWdZ2OSLDAHFCf3Vh8HpYVqxiNPTYpa1GREyppMTBn6ZA\n",
       "98X3nmb5kBmE2Yos7Iq4VrXmUQJ+PH3gzz+ya7xb/omh0suoDsV7qYi1CtDErD/Io3UwyBS04++P\n",
       "MU2IU3OIxQpdNIsa0XsaCQBy9ZzRUDhtBNV/6/GHGXc6R2UTyscKbwQxWEAJzBWZU8YZnuApN9SX\n",
       "p4Qi+L55iIHRTb6q0mc5ZCH6fwVCuiT+JxVVvzHh7F3ecVWMwOPiFDsmlO3sseSOjxheNNmKOGdO\n",
       "eqIvoRsEfMXfsB88+Jd3UvcdkIfaOpqibfETGRwhEm2pOud+v4OzGcEAAACmQZ4YRRUsM/8AQXIL\n",
       "/CBLkR5pWkyOUKADUsSRFn6Ub4OvMUFWzzyQvUo5aGKwQf9vumyn0zoaEOm4zWmJkj7uypKeMpA1\n",
       "8In7UYD3Y7PcyDfvfn/4xFXkYydjm/+Cykg0O76yXLwDXianmgKuyhSdOmf15ejNb4dypE8ok26j\n",
       "IqwB3ZIckNZxGl7DIZaQYzQEuBUpRV/oRqKxBysC1kmE9poqCz3ROQAAAK4Bnjd0Qr8AeFRtkmGD\n",
       "CLAC6VfmWth2VC9ERpR/PWGY9cd4PtKRe4bXmLu2ASxwq6mAmkcCSmrNnMF6baZGqElivKZzia8D\n",
       "sBEZoQlCRJgxDTu4LlXVAB1+7zzwb50L6HVeLjn8wfqkqvBOJ8H/RMcg8VmvV5yadSu/KevrvQ7U\n",
       "iGQytsTaJzgFvCV4bW9WuO1lbDXvsDMXMzvofcG089ClMymzdoE4lUHi8rNeQicAAACsAZ45akK/\n",
       "AHhUcQJEKYAXSr8RhmArOfaq6SEJozOPasQn8v8D4Pkb7yB+kK6w0c5GFPp73JBa6VmFeLgsBSDG\n",
       "jhbKNhen1/g+z1x7zaD7KQ0FVkjB0zeqXGJKm9vUcUToXL+xkki85BIkkqhWCOamV83ZU+mHy9O6\n",
       "qv2ZJZLt5DvZwQMv28ibLuD2xlSA3UsGn8XXh3FChN44EASJwm+FyCzxLM6+qTxk5WF2yQAAAJJB\n",
       "mj1JqEFsmUwIV//+OEAI7f+OIstqmUmNgAl4nclWyUqjFA9HqR+JnYG9N3VLudBATcrh6IFmAuma\n",
       "7e/3pRC7iJQNvbXcaxV8VyBgrHQJWa91nlO8bcdHVjhnyP6Bn0oKO4ea0OMCsi1vkjqbYD9mBB5H\n",
       "6/kvrrL+pZt5ntOA9NXNWY9nKr/Fv8SmvD++W3hT4AAAAIpBnltFFSwv/wBZ6TlhGPlda/wSGgIm\n",
       "8tiEKRAgOqAEsj4mAo8iyNVABEVhOLeSHw5ftQ4VDm0Hn7ok5vZ4FXmUmJsrf37Ixjv0oaTGG0sz\n",
       "wkLlz85bq5BW+Ys9o3tvYlEduoX2P0EIJ/w+FOX3D56lLqyEAnSRQLtNFQh78yQDzyzEyZwgrLyb\n",
       "2dMAAADSAZ58akK/AHl4MaIKfTdcABdOF1FqP8/yfi4PlmaLxG/9IYojREhKIAgJYfS5sUyXwlU2\n",
       "xVgGgZe3tfaHHDsnUMwgkcbPDTPz22WeIYyamhGBKbYJHTstlPWJ5VTKHXRAJqGF6Wy6oNuf2ZXh\n",
       "6lmNaqBDGHW/bL+rr0U9OIJieYgW0OT6HaWr2rTBMz8Ot4IofCiqwKcox5b2IK8JPZlFIjZYrm43\n",
       "xYcc/E8pQb9Hwui/qR0BFZ68P3TV+kis9VRx26SKzhDBkmoKpwfp3u7G1Y/BAAAEXm1vb3YAAABs\n",
       "bXZoZAAAAAAAAAAAAAAAAAAAA+gAAAXcAAEAAAEAAAAAAAAAAAAAAAABAAAAAAAAAAAAAAAAAAAA\n",
       "AQAAAAAAAAAAAAAAAAAAQAAAAAAAAAAAAAAAAAAAAAAAAAAAAAAAAAAAAAAAAAIAAAOIdHJhawAA\n",
       "AFx0a2hkAAAAAwAAAAAAAAAAAAAAAQAAAAAAAAXcAAAAAAAAAAAAAAAAAAAAAAABAAAAAAAAAAAA\n",
       "AAAAAAAAAQAAAAAAAAAAAAAAAAAAQAAAAAGwAAABIAAAAAAAJGVkdHMAAAAcZWxzdAAAAAAAAAAB\n",
       "AAAF3AAABAAAAQAAAAADAG1kaWEAAAAgbWRoZAAAAAAAAAAAAAAAAAAAKAAAADwAVcQAAAAAAC1o\n",
       "ZGxyAAAAAAAAAAB2aWRlAAAAAAAAAAAAAAAAVmlkZW9IYW5kbGVyAAAAAqttaW5mAAAAFHZtaGQA\n",
       "AAABAAAAAAAAAAAAAAAkZGluZgAAABxkcmVmAAAAAAAAAAEAAAAMdXJsIAAAAAEAAAJrc3RibAAA\n",
       "ALNzdHNkAAAAAAAAAAEAAACjYXZjMQAAAAAAAAABAAAAAAAAAAAAAAAAAAAAAAGwASAASAAAAEgA\n",
       "AAAAAAAAAQAAAAAAAAAAAAAAAAAAAAAAAAAAAAAAAAAAAAAAAAAAABj//wAAADFhdmNDAWQAFf/h\n",
       "ABhnZAAVrNlBsJaEAAADAAQAAAMAoDxYtlgBAAZo6+PLIsAAAAAcdXVpZGtoQPJfJE/FujmlG88D\n",
       "I/MAAAAAAAAAGHN0dHMAAAAAAAAAAQAAAB4AAAIAAAAAFHN0c3MAAAAAAAAAAQAAAAEAAADIY3R0\n",
       "cwAAAAAAAAAXAAAAAwAABAAAAAABAAAKAAAAAAEAAAQAAAAAAQAAAAAAAAABAAACAAAAAAEAAAgA\n",
       "AAAAAgAAAgAAAAABAAAIAAAAAAIAAAIAAAAAAQAACgAAAAABAAAEAAAAAAEAAAAAAAAAAQAAAgAA\n",
       "AAABAAAIAAAAAAIAAAIAAAAAAQAACAAAAAACAAACAAAAAAEAAAoAAAAAAQAABAAAAAABAAAAAAAA\n",
       "AAEAAAIAAAAAAQAACAAAAAACAAACAAAAABxzdHNjAAAAAAAAAAEAAAABAAAAHgAAAAEAAACMc3Rz\n",
       "egAAAAAAAAAAAAAAHgAAFekAAAHuAAABTAAAAXIAAADXAAAA3QAAAN4AAAElAAAAwwAAAO8AAAEa\n",
       "AAAAnwAAALUAAAFeAAAAiQAAAJwAAAC+AAABBgAAAJ8AAAC9AAAA4QAAAKsAAADbAAABKwAAAKoA\n",
       "AACyAAAAsAAAAJYAAACOAAAA1gAAABRzdGNvAAAAAAAAAAEAAAAsAAAAYnVkdGEAAABabWV0YQAA\n",
       "AAAAAAAhaGRscgAAAAAAAAAAbWRpcmFwcGwAAAAAAAAAAAAAAAAtaWxzdAAAACWpdG9vAAAAHWRh\n",
       "dGEAAAABAAAAAExhdmY1Ny41Ni4xMDA=\n",
       "\">\n",
       "  Your browser does not support the video tag.\n",
       "</video>"
      ],
      "text/plain": [
       "<IPython.core.display.HTML object>"
      ]
     },
     "execution_count": 14,
     "metadata": {},
     "output_type": "execute_result"
    }
   ],
   "source": [
    "anim = animation.FuncAnimation(fig, animate, frames=rho_n, interval=50)\n",
    "HTML(anim.to_html5_video())"
   ]
  },
  {
   "cell_type": "markdown",
   "metadata": {},
   "source": [
    "##### Dig deeper"
   ]
  },
  {
   "cell_type": "markdown",
   "metadata": {},
   "source": [
    "Notice the strange \"staircase\" behavior on the leading edge of the wave?  You may be interested to learn more about this: a feature typical of what is sometimes called \"odd-even decoupling.\" Last year we published a collection of lessons in Computational Fluid Dynamics, called _CFD Python_, where we discuss [odd-even decoupling](http://nbviewer.ipython.org/github/barbagroup/CFDPython/blob/master/lessons/19_Odd_Even_Decoupling.ipynb?create=1) .\n",
    "\n",
    "* How does this solution compare with the previous one, where the Courant number was $\\frac{\\Delta t}{\\Delta x}=1$?"
   ]
  },
  {
   "cell_type": "markdown",
   "metadata": {},
   "source": [
    "## Lax-Wendroff scheme"
   ]
  },
  {
   "cell_type": "markdown",
   "metadata": {},
   "source": [
    "The Lax-Friedrichs method uses a clever trick to stabilize the central difference in space for convection, but loses an order of accuracy in doing so. First-order methods are just not good enough for convection problems, especially when you have sharp gradients (shocks).\n",
    "\n",
    "The Lax-Wendroff (1960) method was the _first_ scheme ever to achieve second-order accuracy in both space and time. It is therefore a landmark in the history of computational fluid dynamics.\n",
    "\n",
    "To develop the Lax-Wendroff scheme, we need to do a bit of work. Sit down, grab a notebook and grit your teeth. We want you to follow this derivation in your own hand. It's good for you! Start with the Taylor series expansion (in the time variable) about $\\rho^{n+1}$:\n",
    "\n",
    "\\begin{equation}\\rho^{n+1} = \\rho^n + \\frac{\\partial\\rho^n}{\\partial t} \\Delta t + \\frac{(\\Delta t)^2}{2}\\frac{\\partial^2\\rho^n}{\\partial t^2} + \\ldots \\end{equation}\n",
    "\n",
    "For the conservation law with $F=F(\\rho)$, and using our beloved chain rule, we can write:\n",
    "\n",
    "\\begin{equation}\\frac{\\partial \\rho}{\\partial t} = -\\frac{\\partial F}{\\partial x} = -\\frac{\\partial F}{\\partial \\rho} \\frac{\\partial \\rho}{\\partial x} = -J \\frac{\\partial \\rho}{\\partial x}\\end{equation}\n",
    "\n",
    "where \n",
    "\n",
    "\\begin{equation}J = \\frac{\\partial F}{\\partial \\rho} = u _{\\rm max} \\left(1-2\\frac{\\rho}{\\rho_{\\rm max}} \\right)\\end{equation} \n",
    "\n",
    "is the _Jacobian_ for the traffic model. Next, we can do a little trickery:\n",
    "\n",
    "\\begin{equation} \\frac{\\partial F}{\\partial t} = \\frac{\\partial F}{\\partial \\rho} \\frac{\\partial \\rho}{\\partial t} = J \\frac{\\partial \\rho}{\\partial t} = -J \\frac{\\partial F}{\\partial x}\\end{equation}\n",
    "\n",
    "In the last step above, we used the differential equation of the traffic model to replace the time derivative by a spatial derivative. These equivalences imply that\n",
    "\n",
    "\\begin{equation}\\frac{\\partial^2\\rho}{\\partial t^2} = \\frac{\\partial}{\\partial x} \\left( J \\frac{\\partial F}{\\partial x} \\right) \\end{equation}\n",
    "\n",
    "Let's use all this in the Taylor expansion:\n",
    "\n",
    "\\begin{equation}\\rho^{n+1} = \\rho^n - \\frac{\\partial F^n}{\\partial x} \\Delta t + \\frac{(\\Delta t)^2}{2} \\frac{\\partial}{\\partial x} \\left(J\\frac{\\partial F^n}{\\partial x} \\right)+ \\ldots \\end{equation}\n",
    "\n",
    "We can now reorganize this and discretize the spatial derivatives with central differences to get the following discrete equation:\n",
    "\n",
    "\\begin{equation}\\frac{\\rho_i^{n+1} - \\rho_i^n}{\\Delta t} = -\\frac{F^n_{i+1}-F^n_{i-1}}{2 \\Delta x} + \\frac{\\Delta t}{2} \\left(\\frac{(J \\frac{\\partial F}{\\partial x})^n_{i+\\frac{1}{2}}-(J \\frac{\\partial F}{\\partial x})^n_{i-\\frac{1}{2}}}{\\Delta x}\\right)\\end{equation}"
   ]
  },
  {
   "cell_type": "markdown",
   "metadata": {},
   "source": [
    "Now, approximate the rightmost term (inside the parenthesis) in the above equation as follows:\n",
    "\\begin{equation} \\frac{J^n_{i+\\frac{1}{2}}\\left(\\frac{F^n_{i+1}-F^n_{i}}{\\Delta x}\\right)-J^n_{i-\\frac{1}{2}}\\left(\\frac{F^n_i-F^n_{i-1}}{\\Delta x}\\right)}{\\Delta x}\\end{equation}\n",
    "\n",
    "Then evaluate the Jacobian at the midpoints by using averages of the points on either side:\n",
    "\n",
    "\\begin{equation}\\frac{\\frac{1}{2 \\Delta x}(J^n_{i+1}+J^n_i)(F^n_{i+1}-F^n_i)-\\frac{1}{2 \\Delta x}(J^n_i+J^n_{i-1})(F^n_i-F^n_{i-1})}{\\Delta x}.\\end{equation}\n",
    "\n",
    "Our equation now reads:\n",
    "\n",
    "\\begin{align}\n",
    "&\\frac{\\rho_i^{n+1} - \\rho_i^n}{\\Delta t} =  \n",
    "-\\frac{F^n_{i+1}-F^n_{i-1}}{2 \\Delta x} + \\cdots \\\\ \\nonumber \n",
    "&+ \\frac{\\Delta t}{4 \\Delta x^2} \\left( (J^n_{i+1}+J^n_i)(F^n_{i+1}-F^n_i)-(J^n_i+J^n_{i-1})(F^n_i-F^n_{i-1})\\right)\n",
    "\\end{align}\n",
    "\n",
    "Solving for $\\rho_i^{n+1}$:\n",
    "\n",
    "\\begin{align}\n",
    "&\\rho_i^{n+1} = \\rho_i^n - \\frac{\\Delta t}{2 \\Delta x} \\left(F^n_{i+1}-F^n_{i-1}\\right) + \\cdots \\\\ \\nonumber \n",
    "&+ \\frac{(\\Delta t)^2}{4(\\Delta x)^2} \\left[ (J^n_{i+1}+J^n_i)(F^n_{i+1}-F^n_i)-(J^n_i+J^n_{i-1})(F^n_i-F^n_{i-1})\\right]\n",
    "\\end{align}\n",
    "\n",
    "with\n",
    "\n",
    "\\begin{equation}J^n_i = \\frac{\\partial F}{\\partial \\rho} = u_{\\rm max} \\left(1-2\\frac{\\rho^n_i}{\\rho_{\\rm max}} \\right).\\end{equation} \n",
    "\n",
    "Lax-Wendroff is a little bit long.  Remember that you can use \\ slashes to split up a statement across several lines.  This can help make code easier to parse (and also easier to debug!). "
   ]
  },
  {
   "cell_type": "code",
   "execution_count": 15,
   "metadata": {
    "collapsed": false
   },
   "outputs": [],
   "source": [
    "def Jacobian(u_max, rho_max, rho):\n",
    "    return u_max*(1-2*rho/rho_max)\n",
    "\n",
    "def laxwendroff(rho, nt, dt, dx, rho_max, u_max):\n",
    "    \"\"\" Computes the solution with Lax-Wendroff scheme\n",
    "    \n",
    "    Parameters\n",
    "    ----------\n",
    "    rho    : array of floats\n",
    "            Density at current time-step\n",
    "    nt     : int\n",
    "            Number of time steps\n",
    "    dt     : float\n",
    "            Time-step size\n",
    "    dx     : float\n",
    "            Mesh spacing\n",
    "    rho_max: float\n",
    "            Maximum allowed car density\n",
    "    u_max  : float\n",
    "            Speed limit\n",
    "    \n",
    "    Returns\n",
    "    -------\n",
    "    rho_n : array of floats\n",
    "            Density after nt time steps at every point x\n",
    "    \"\"\"\n",
    "    \n",
    "    #initialize our results array with dimensions nt by nx\n",
    "    rho_n = numpy.zeros((nt,len(rho)))      \n",
    "    #copy the initial u array into each row of our new array\n",
    "    rho_n[:,:] = rho.copy()              \n",
    "    \n",
    "\n",
    "    for t in range(1,nt):\n",
    "        F = computeF(u_max, rho_max, rho)\n",
    "        J = Jacobian(u_max, rho_max, rho)\n",
    "        \n",
    "        rho_n[t,1:-1] = rho[1:-1] - dt/(2*dx)*(F[2:]-F[:-2]) \\\n",
    "                           + dt**2/(4*dx**2) * ( (J[2:]+J[1:-1])*(F[2:]-F[1:-1]) \\\n",
    "                           - (J[1:-1]+J[:-2])*(F[1:-1]-F[:-2]) )\n",
    "        \n",
    "        rho_n[t,0] = rho[0]\n",
    "        rho_n[t,-1] = rho[-1]\n",
    "        rho = rho_n[t].copy()\n",
    "        \n",
    "    return rho_n"
   ]
  },
  {
   "cell_type": "markdown",
   "metadata": {},
   "source": [
    "Now that's we've defined a function for the Lax-Wendroff scheme, we can use the same procedure as above to animate and view our results.  "
   ]
  },
  {
   "cell_type": "markdown",
   "metadata": {},
   "source": [
    "### Lax-Wendroff with $\\frac{\\Delta t}{\\Delta x}=1$"
   ]
  },
  {
   "cell_type": "code",
   "execution_count": 16,
   "metadata": {
    "collapsed": false
   },
   "outputs": [],
   "source": [
    "rho = rho_red_light(nx, rho_max, rho_in) \n",
    "sigma = 1\n",
    "dt = sigma*dx/u_max\n",
    "rho_n = laxwendroff(rho, nt, dt, dx, rho_max, u_max)"
   ]
  },
  {
   "cell_type": "code",
   "execution_count": 17,
   "metadata": {
    "collapsed": false
   },
   "outputs": [
    {
     "data": {
      "image/png": "[encoded data removed]",
      "text/plain": [
       "<matplotlib.figure.Figure at 0x16f29ae2080>"
      ]
     },
     "metadata": {},
     "output_type": "display_data"
    }
   ],
   "source": [
    "fig = pyplot.figure();\n",
    "ax = pyplot.axes(xlim=(0,4),ylim=(4.5,11.),xlabel=('Distance'),ylabel=('Traffic density'));\n",
    "line, = ax.plot([],[],color='#003366', lw=2);"
   ]
  },
  {
   "cell_type": "code",
   "execution_count": 18,
   "metadata": {
    "collapsed": false
   },
   "outputs": [
    {
     "data": {
      "text/html": [
       "<video width=\"432.0\" height=\"288.0\" controls autoplay loop>\n",
       "  <source type=\"video/mp4\" src=\"data:video/mp4;base64,AAAAHGZ0eXBNNFYgAAACAGlzb21pc28yYXZjMQAAAAhmcmVlAAAo921kYXQAAAKuBgX//6rcRem9\n",
       "5tlIt5Ys2CDZI+7veDI2NCAtIGNvcmUgMTQ4IHIyNzIxIDcyZDUzYWIgLSBILjI2NC9NUEVHLTQg\n",
       "QVZDIGNvZGVjIC0gQ29weWxlZnQgMjAwMy0yMDE2IC0gaHR0cDovL3d3dy52aWRlb2xhbi5vcmcv\n",
       "eDI2NC5odG1sIC0gb3B0aW9uczogY2FiYWM9MSByZWY9MyBkZWJsb2NrPTE6MDowIGFuYWx5c2U9\n",
       "MHgzOjB4MTEzIG1lPWhleCBzdWJtZT03IHBzeT0xIHBzeV9yZD0xLjAwOjAuMDAgbWl4ZWRfcmVm\n",
       "PTEgbWVfcmFuZ2U9MTYgY2hyb21hX21lPTEgdHJlbGxpcz0xIDh4OGRjdD0xIGNxbT0wIGRlYWR6\n",
       "b25lPTIxLDExIGZhc3RfcHNraXA9MSBjaHJvbWFfcXBfb2Zmc2V0PS0yIHRocmVhZHM9NiBsb29r\n",
       "YWhlYWRfdGhyZWFkcz0xIHNsaWNlZF90aHJlYWRzPTAgbnI9MCBkZWNpbWF0ZT0xIGludGVybGFj\n",
       "ZWQ9MCBibHVyYXlfY29tcGF0PTAgY29uc3RyYWluZWRfaW50cmE9MCBiZnJhbWVzPTMgYl9weXJh\n",
       "bWlkPTIgYl9hZGFwdD0xIGJfYmlhcz0wIGRpcmVjdD0xIHdlaWdodGI9MSBvcGVuX2dvcD0wIHdl\n",
       "aWdodHA9MiBrZXlpbnQ9MjUwIGtleWludF9taW49MjAgc2NlbmVjdXQ9NDAgaW50cmFfcmVmcmVz\n",
       "aD0wIHJjX2xvb2thaGVhZD00MCByYz1jcmYgbWJ0cmVlPTEgY3JmPTIzLjAgcWNvbXA9MC42MCBx\n",
       "cG1pbj0wIHFwbWF4PTY5IHFwc3RlcD00IGlwX3JhdGlvPTEuNDAgYXE9MToxLjAwAIAAABM1ZYiE\n",
       "ADv//vdOvwKbRZdqA5JXCvbKpCZZuVJrAfKmAAADAAARsIYOcTH6I/UARl2fIzSoxxIMTv/HMrQF\n",
       "+CTKFMlo9EQieA/2oyvndiZfbOXf3dxMCLsAcBzkD8+MoMJASpLCueBTikfkwUJ2YQNhHCpYT1NW\n",
       "BC6GlJNRMIi+tPt7ton61l9fMRypri5telw9pV8VxbDNJDqqFcU5jEEuKGiebWZCykbtIFQ6HWJS\n",
       "5NQW7mHicSM2EVHQNusJ1ndAiuLf/n5ATn09DPzsLn5rr3ypIMSPm3k/W+gN/Llr5B65yk65ohYS\n",
       "b4TjhDs3aRWrXg+TxQwc9PuiLkRki7IdhEpltMYXdtauqBp/eYPQQz7ZR8o8i8ivsACgU26u9r3C\n",
       "4l9H5nds5a66qqUTD8TISPx0YhUDoQL8FaxyzZuplgFLiNtL2GvqRwbgXayU3Kl3jdqAVlUKkY5E\n",
       "UAxwzrypxU4KzwSWG8P4EzbiSM7VujgRrGR+jrawc0zdDF7TWVMSmO8oAuGz5CJJaMw3xQ86PYTw\n",
       "6tvBSUznFBNhUGzMuv4l1k05oW8vxHmMZnrCOt0bpGW2gqrkjye7chd8sy8KbEFnjOclxGPxx5E0\n",
       "BkuynamwmMY4a3LypCHLhdCmM3GW6n7H/KSQ/QVLH1feU51NZQ/O/2KjeO/vJ+AZgvJvTSUl1dI7\n",
       "79KbSf+M8ZAK4sRSLWnWphz4EFrSDJVRcqg60NzKr7duLI4OzYZZcDcjg+Si3i+6dFbC6Lt63Ktv\n",
       "B71ul3OBcNx5Nr+yIxuxvYd6Zq4+cRGhys4TITg5Zi5IIPSYAD+i1l3+XrXLz3A2evoOqUt7wGrw\n",
       "vo+SkbBi5SLZBk9hMaXTBHhVUHlBjElk+lx17YRjCtj/UY+L85COaUqtdzg/1KF9sR8qPxjav5Qy\n",
       "rQI5BmwVru99HE0shFgG9UWNSsSJCKPytdZLcG13VQwH3ZQpaWBho9GP+DpnJV+a3LPEwXPBuONi\n",
       "j6bBNB+rgn/hgCo/ENxDsqK7uSIvGP+EjhlBCSb7HTjmqq7A8zmxyZ+I+4ym92pbKvoSSxMfsUjN\n",
       "bV64NsZIDQ3osqRXu9P2UpaSZHVFWx3BOlAYZ6cR6oZuGM4dzKMFult0s0svhdGsiD2fiEXhl91j\n",
       "qdQwgdyFB7dxbCFMnHjCVlKzjuAJ8PNwV7KtS1TRu6CS6fvKBGtyySpIYzUGxw9XL7jdD6/lN4Wt\n",
       "Ya7h2kD4d7rL/MfmgNVCtQPUL5EzIC7+z5TeN0TfSkxf1hh45Sj/Ytro4qK3fRFxQttPnMYmWame\n",
       "cU7/hW37VG9n9rtI438x0c3a8v3rto0JnnRjuRyh7lqj5R1xwjtrSzjQD3kThwq8PPYMqVOxCepc\n",
       "xCBCHhKmk44OL6fUIjN0OnybdZ/Vcc6r1/eXnbUFgptRFyXPTTLqflycCZKk8DmF3MOPKN94e711\n",
       "7qBkDqTA0U3x6L8Grj96vopiv2RPduafT7xXxeiCruavnhbNdcwAI7gd3iejLp73GRN2dXLkU5dB\n",
       "7+p33asF7tD2wAW1q15VIMs4v9soUu3aKodITGII0AFUdN47tpfNDR9j6XCDG6mriwqFwaoh8u9I\n",
       "DxtxaGgq0cxo+pdnkoSlunOB1qA93pq/hk/6yThsUexMnvxy8Y2+2V1T3b21N6qsJxCa0XHC6EHQ\n",
       "H82BwFtjeQ/1j0E+OgknS/RnN7ZjxatUAA4AHsZtgTxmBesG6QqqXCZX2xvm5AHUgGqWTL0diA9v\n",
       "1OdSdN0D7LYaJURXLBkLP1dXgxJtM9rN8cOGinibWgX6mmcMkXBwy+/LFNeQ6BJq5kZTT33+kFvA\n",
       "VAs3r4XQWq4lNU+IzCRKnLSL2Cxj7hN8s9+dcblh5w9Slp/1yqEQiNww72LEiY2eZLViQVf1lW5g\n",
       "XT//ER+lnIh2NYZBqSzMri08W2gPpeQ/63Dro/gqDhLAlkZumEoUty5rdp0EEcBITCBv4SA9e49p\n",
       "AySxnhuqIsG7x6NfTNVDhmHQkvMyWImNsMdPWNku0vtFSmGcHj8xSH6Gacakjw6gF99FDHF4OQlu\n",
       "DvnhplLmhpkYGQKxag7c07d6fWGQAfyL3WwdcU/OC64/ZEKD92hQtsugWStODWuuvYyvf/5Dpphn\n",
       "jqfX+4HWbxZAxrLXssUw8QmVvvk7NrUR/3gG2xes+vPniIPbYg2+dxioA+b+GUQ9jK/E5d8h2NeG\n",
       "VAm9v7lQkRUQXeYyZHzh3+1v/lJz7f4nbn5DMXKsmheQ/+Ue3G6dOLbYSGjk6hqFnjcFzfTDICAr\n",
       "lLLiyHC7n5kWuVYbt/JM1pYvcyAXFw6VkG83Lymobt7HIAo6j+n6j+kN3vh+RK1K7dTuu6f9UC+q\n",
       "WtJbk9TQ4K4b+cPrYXlgX0lIBgo9EDur55D51rzasx03mVH8W8XajrRjPyC8wh7YN/yMyK6W65oL\n",
       "BT8k1ws3CgmnTRD9kzh1zjgVt63LeZGJn5z3zxFrxbIxojYVv9CFfzsqEkFMAZ9o2TMeTBoH5urW\n",
       "fvxhuuqBSfSW09iMHoLcEkHeSJ/tqObdk0waxh6v/pyA5BPklhJc2C8bUtfZ05kK4BW4Jb8tIPip\n",
       "vh+yT6UFYeqEIb0r+vPOZ+yqqZr47BhpzzzXnM2h7ia2jjDugzhdMJox0fGYvOzgzmguWZ7h7KsH\n",
       "m9FkOxEfrok019eYgCVIZgc9hAB/Da5atVevvRWzdC+MRyjP6LxAq0z+4b6sbU2fkzS20jvJPQpb\n",
       "mJOJwGjM1cLuSgj6sWajO3OZNUPEgoOoDubN7NXRT0ysTw6XAQT5va7uGoppk3pkWgarKDir1V4D\n",
       "fXZDvMwV6xidtUc9GF9hWt0qPAtcAyQOP7bClXZDCZtt6covbE9vef+CXjQGBSrU+njRO8qLvhKW\n",
       "or7Gy9yFYKbqSNEKuVIDZD12L2rdqQ20HcMDc3HOWnHsbjrFgppo33bSAGWFrPFeSsZfTJzYVSKG\n",
       "fNqwlFPktYD7PZd4O4ViFF+V3w5GFm61rl6WLUtEnvVlK58i3+/EaW3SwgKqnfKoveuxouhf8Tbc\n",
       "T+NPZSkQyndPPGTAESYwQgWl1oRwhJekJNSI8IIM/1O1C7MJODHawyqV0p6OvfED6eY1inFlfvf3\n",
       "b6qqF1F/a0z2CelK5GDheDPUW8Y9F5dGdp2fEYYM/wA2RNNAACUQpDFv8c2D7pBSLxL/YsOgRuLQ\n",
       "e4NGRPXoIsQd36lCsU/DXS+T2ZDITDgqEjVuGdMtlNefmPwcGibkgAVpHC4ZiOqBP9eWe0hVVYj9\n",
       "jDnQY5HCunyoVKLXMnqnjc3S5mimDt5k4vJqpfgyCVx6SJcK8f3TlKETghdkITnn2KeVcXyYkUsN\n",
       "P9428qSKuJnNNin8+6Ihxj76uR3rBmdfOIKsCOf8JxWcwfvQPSRQWH+B1T1i3AZSyatAHZnqcgOU\n",
       "bMkoQ1GHx3eyGx1l7fiaDucARaa1fPqsGbhB2RCVyRhIKkdCEfIlPlxkSq2ka7ywRjML2OspnPhw\n",
       "ZIWT5pPB7qNz/0HCyfW80ufqDjOQnGAZwGine1OmtitFlaPMm/QxFgRaBw1ixGv+5McYC2DEymWJ\n",
       "d83KErVE8NtjFMtI39src6GWaH22wV9jkyY87n/emHztseypJjh8NolggjSP5OAj4bpvw7f+DuE3\n",
       "HT6hkohWp5PIdtSd0OSf3lHbCyIr10HCZ4OoEmk7qAQOgRwURggPuIE/fB9a38Ffi/5pJdBgHe11\n",
       "ER+uEuUnoBurQmqpt9wgVqOGDYp6vCANgGoMCcNIEreZQwmOMUC2fNvGukmq+0+qwLbPnUIktdBB\n",
       "Q8c146Hy1n6KJzmCIJJwZaBygCYDYGwEq9fKzpsB6l53KYYDW7D621z7X9sJ9L0sfdbf7sPQMU8/\n",
       "HHwkth6ksHRI0m9FRmsKSjhX2GYOyRNENEf3Hjs/oH73AmkcGo28BubEAWtt6pdgnNbz7tbKgsXr\n",
       "uFrB7So5+PTafa2ufRiphw/Bw/aVft+v75sYopletb/yF3Z/hVfwNHm9nMd09KEqdurPu0uN0SAl\n",
       "cwHQLK+tAGe/TK2aPCp/AO43ClzzjikUmkn9RG/ELc2xZLwcQzJobk9+nbpZ1Pxj5+F+VH+Y1Q6u\n",
       "YfyuhOVir67AIH8XjKVlKnpPFzv57nhJTjKiyCTg/TKWl55yLx3BdpiHKz3Mi5Q/POJ+3NlL82NR\n",
       "/3cKJUTw4yTNcStv2aXG7unMtArVZAAxkSQ8m58pjM503kNRCWElN99Qs7ARJ9d/zw06JpXIAjYl\n",
       "vTKF66Sl1g/qPze7WXZZhK0ig6xbklwzeZrAJCD0mCl9WNIKEe+zL8L2zTCpop8qQVJqWn5RUpGn\n",
       "B/izwdZWqNNYcUC7GY+7aOX1qYlHLNfKYCOsEOwqhNmqULtXnvaITWiIZkcl92n0iWEwF7Ju9ilg\n",
       "ZevPP0y/umAsytOrh/YUKOB9uUEPphDE6m1ZQ41tfG8ob1z/WE2Ehxlu0Ial7jw6Kuip0ylS9IrR\n",
       "X+fj6qE2tlxbZGKhjwUkYE57CrjbKVyfVT08NaKB+qnsbIfL5TfgTf26B0p/ARSAhy1amRJFWi2Z\n",
       "WFNePNrpgAa+/OB6dqrmCAUDKvGcMm1q+HjthRRSY1BZjP0l4n/YTrss2eHr5kFxE9nKXGB8nYgH\n",
       "/36QmRX3uS0dG0exlLR2eqX2hu5D8ul0jz9WPjmep8GT5Ipxw2mRI3PmNUWwjpfs8AXjsLeS9qMd\n",
       "TEv9E9GIqbYLl+YCV8KSwN/Gmsifpx0dgi73R/ixZS3z6oFJGluflTDaX32tv3zYTdRGdg/1uzhY\n",
       "jrDvrhcnf2o1oXjBw76nvbta83YLcT670svL2uvfLNuvc3pRUtNV4rC9j7apNYWdcEcxz9cxXB+s\n",
       "MuPxB97t13GCmcGY93Bl2eiIgSYiquF2vYNtAmNNxehkUsmYY3BMCmmlAdMW4osX10UwvwN8+WMR\n",
       "uZ0wXtdCk9P+jyY9A2oat4VZCcjsXjdfrDEMOjiyYP/s+iX20Qp+RKQUyT3owSM7OL3rAqQIMrH2\n",
       "TGBXDzQYfjDRHkJf1GmCMDkB/oDVwVYGceH/hR+fylJeKGd395S9AYSCmFLbDI82kJqB89RK4syG\n",
       "fnJF9E/8wWjymUc3Ly60dUt/eXGyOhKzg7cLB8NONwZQljAE/V/pmvpiu7a4cmTOLmr0KIFU+os6\n",
       "KKpvvRla+NAuWd0spmUYFWNmpFK7dj/jgcXy+g594nJf0ivf+JOou8FcHF+sM+rjaqrmwStRNk1O\n",
       "w/cSp4dxP7z/B1n/jJIyUEpcmLWc5FtBrWUmb9tp2ntfvWhZrP5j3aJ+zcnOvtvXWXkAoqesHyJf\n",
       "iNVISiU3q53i7Uikim6rP4WLys9T/FNNa0bjSi1QAwHvtWNd4n9t3NQ4SIcGqYZ/etxwaSAGMllx\n",
       "cKSpP6a75BSWyV+cycutDmb50XpHCaS3uQWqWBy6sU/FpKCNqAzlNd7c3pcAJjLbr4xFZjrWo33g\n",
       "2YPlT12kQeJA7bKZUazVW/ZY8Mp1W1w0M5ST/DLs4VIRl4jStidaBD1RtgRWtmPS799AC8tLXrDd\n",
       "heAkjw5Iin78rsBnnhDhGZTcsaIAiPnUWgAHe8ldapA/zzjQP/Wu/9w6K6W6H6mesyEIEG8d6t8H\n",
       "keEUcZWJysHxdS4oL+kxIcWxAUjkXjCkGN00zBuV8fwiuwK1BxYSrgivn1G+3QONq1/zWJv/vmZO\n",
       "UDnGy+bTKTlwbycttfdUYElccLipxJohzACIyVO4IaJsFNzRswMt/on/Vdv+3y0NDy6UHSn/U1Pr\n",
       "rlXc6M3aHG9NhTEVQNGWPZX/uWLegl+9I8l2rgx2TMTRzf992IeSrpOI+Kjlz6CPJJAVGpriwvm3\n",
       "BMlpSmS9gtxmp2aZ+hL+/gNq/A0K3IAQbzVm+vv//yXoGWa25qJXhxQwt87Dh5qv/e9iuXgdbthF\n",
       "+i9kNtkcPF2PZoOWnqDEbvfyJau5jtEoRfw7u7PYLlj/oULrsot6io9YbSxy6RhjS4TvZUwFNwcg\n",
       "kebv1GqmB91XNOyzoYK55GWAT1/X04U6xL2BczIwEAFjBXIsEOg/A+rLyug3Oi3ektLE89T8/I9I\n",
       "QCxL9YI+OkXkro5cJPzyJQOiF8zKAzHOq1RmrbWh6eFtyVYcR/HthHV7PwdjvmS016Z4cUNX+jWo\n",
       "e67gHlLg2g8vBw3dgCcwY2uFmfvYoqMiW8lItT0ltdfKmFtouP8NJ29HnrtPEud/07y+0olbfaBT\n",
       "fxgmXSi/u8FSoCwovgLY3oxWnnE0HzvkdU3PybvwhCTb4JqkXj2ABjnVyxyysY/Ual8k/f2inb9E\n",
       "WQequ254nKwTuWSTjMkhK7gGWr1JzboQy1Pt8H/epqhw3AUI9MofibPrMAdBBs4QONNyxrrG1hB1\n",
       "WinjWiYVCul5H4En4kLVYMmZt0/rnSi5YhRiBj65ridPk6GeyfIAvNd5SSlf0JtH6+Eqf1Wd+nIX\n",
       "AK5khcJtEh+Puy6hx1QSiLBvhCMtRWXOmy5PdTUDv1KoKoAhWWni5B2azAzmRM/3FkCPcCa+mC0Q\n",
       "9moe3CxN+NfrPFIfAAABykGaImxD//6plhMCmfAF/ux2uCLBMwBkvPISDHsn3CUJAs9jET1ZJhcy\n",
       "TDWicZHe0tmKGIFb9w6kjn8Z+yNoDW9k6ghKZTdTWf7+X+shge9kj/v6HLViZMQw3MhDd/E7yo+W\n",
       "mce4YB1lIxrEBM3USFRGVyixg3fI25BTTjhmGKbCKtSB/Eer5mPyE1NtQZ/YGH+ZxXGigb7epNBn\n",
       "Qmgq/6J+HfZyt43PxGwR+gkjRy/xpnTdnH6sOZAwhtz98SuUMu7XXOr/ypHMkUmKPveeYP6MjEPG\n",
       "IFJtcsKqNOnzOqurrlJB9co2QvGjLaaVa/1qTxP5JkMm3WBLHzbJi77jgnF5u49j2TXAmB7LiPMs\n",
       "P3NKyA3E+fZ5Drsgckm5VyzPd3MSjnTByX8+1Z7J6a6AibY5rxDWSdiwnElKWKnEJ8t2KKqapuEN\n",
       "Xl7vyGMA/4zCyUobsFFL2KRNpEVQ9yqS1GDVrutUuTBc5vRpxOqRpoy8m7qyiCsLBRmg+CJ5e4pw\n",
       "VQ55ZakeQhffb+QpN45gsmoDDq7f7P/ZCOgmuhEOUHWHQnSRdCIRCsPrBjqWefaq8SYRvDp5Ej6X\n",
       "favEJb478zHHitVBruC9AFPAAAAA0AGeQXkK/wOajrbJDBJN0FlsgsfNuKov97K+KmoSdJYWh0eR\n",
       "ORJkUEXN8DtsnvC2vDaAGFF7TnioH7aMog0e3/O5kyAYcNj13tT4DBG4qm7vHoMWw6M7xasRDsfo\n",
       "wz9w92A+7H3woT57ne4BwvNBc3gAe5cpI2EYUhIk/u35fn2ZvnJcpe+q/TYc3Uk/0AccAz0pxVy4\n",
       "XBS+1W4hWWnjqoSgmUBfws3hl5DMJ1/y/HnRAyZDbXBDv8JYgMII5ssrxnpHytpIfdoSVS42v27Q\n",
       "8GMAAADfQZpGPCGTKYQ7//6plgBMVUdnoSM5HgA5yZaqZsqiU/PQYYHRAMK5epFmU+kZb1lgfF54\n",
       "XZBl7oRO0WglBU14V4NKsUmqJMSh8oOk9BQjbuugOXwve5vA2EovRnzk48H8e0y7IN8Z9L86MkNc\n",
       "cU16EBmwL10q6JxG2N877U8CesC0+58wvmX+GKPo9ETxVQDQcZmAT/eWf9vp9KhevfEA6sD6D+5R\n",
       "6Z9wUBvQycXpOJjJre/5Wonm9RxliGZiCa2NppXqXIYz/9ilSGNOn5HAMxNrpwhm+DxUHdK+0pAU\n",
       "aAAAAE1BnmRqU8M/AEFXcQSN+bFxOnxmEHaq5Fw9WnuJ3MKK8zQSQaYgkkYlcJoZ36V+mIvNemDR\n",
       "hzSXAbJ62qBk8o14bpse8fZgjkInXfW1XQAAAL0BnoN0Qr8A8rQg1JkmAEy5opr17soO/mvP/evt\n",
       "svRquCaUUqjvPuhHR7DxsjVeJCUbbAWfEUCewV4JRbUfPJfZ1bSx6rhTqN2Vp7mfAiZj6mAVOdwL\n",
       "6M1HquM8APe31aiwe7Rzc9s+mOIcKsYkJSBWLNYnTckkmuRG3tUtm07KEdqJdV8ufyhFFoEHWrY+\n",
       "eC+B6nfDETcQ/cXmwZsdxl5Zfj9b3tg6gIvGwXoHHtHqnYDbZ3OhslGJg5hwqhsAAADaAZ6FakK/\n",
       "APBXzO42vUwAfiRqdBNxeqAoEb1lDpJGIcc5ZsS1rmsa4dsy11S9p/9Kvn0lt7hF2nXh0f5IEBhV\n",
       "D+9YaKRwLG0YyyKWcq+Ga81MNxuR2xjlWt4ngOeC1AiPZHOQfg4xO8qJz0EWIN9MUN9u02VkwgpX\n",
       "vSZXucnTY279XbTJS2sypsc8FOnb0aRG2M+Wykv9+4WGIKrosP4Gb6pyb7I0FT98pNFtkL22OgMu\n",
       "1uv8yJy/ufSHjXIT+C8PZH57bSmZ1zLdxosBaXS/BIX4g8Z7Z3NRtmEAAAB1QZqISahBaJlMFPD/\n",
       "/qmWAExVGTSCZ/AAtPztfVFtaVXZyw0JzY+yNRPxXe7FuDChxeKGub+wn4s78mop7ADnRqHuZKdH\n",
       "wS/9uYwWkBIe0kjcI9TTcgEu0qZS4ssCrwa/aR3oLth/NmCcLVvVTROcmV+TL/rxAAAA3wGep2pC\n",
       "vwDwUlgOYhE9AAmcKYVc6kwv1IUZPL7+8ih466//2lz3drKGGqamcmjmRiJ4AjhDHA307GIIQ+px\n",
       "1BotR6wSfxjGiet6krxWirFXuGHDR4H7FfxHm9Z9f/gOtX8olZjYKIj43mQuKUCB1+CJa846rkOF\n",
       "4hYKVj++uhNNmkdG+c29zmkjS1LZmFLTvh0RBzqdMiOEx1oGU3xwT5EPFokg+jpC659WrRx4LCWn\n",
       "CWSthm/RF3HwnVgkEBmPMYYsj1+PyZgZIMLZ8BQ/6+VRny5lPwK2+d3aEJ7pZ2AAAAB4QZqsSeEK\n",
       "UmUwIf/+qZYATgxnVoWABaf49jtj9j8VYe4VrW2H+Cyh6OIY8Fylc+QlXPCpju2BbwERBzi3N6S1\n",
       "7Z/8Mii6lspRX5eUqnC7lgPCkcHPtPAiwOsmi1ooXg+Ev8q1K3qYPMoPjQTf/sNA+kgZWHHkPn5A\n",
       "AAAAUkGeykU0TDP/AENslTORwQIcACHFYJO3Ox3W+pN0LuYJ+sRqIDmE4KkcUs0dtxu3VnN8xSgn\n",
       "LCttMcVVEpX190/VV+rWwhOY+Un+KOEEKH3XvcEAAADUAZ7pdEK/APfk8X0yACVGokCA7apwpXz4\n",
       "PjYo4qtiSmjaTjafhF0KJLQCqWEpcYro4457iB54YTUgzsKWnirXKndMITmwQ0sKTh/dQe+lg5wj\n",
       "iHHEzgMxzACmGiw6kr4avS4k1eBztLwy2qkppHdL/03f0RL2bIZ/6PocaOcB2NpZ+RK8F8sJvDCA\n",
       "PtgSESf0M9wa1EKf47FrhGfLFm0rJ60+CE97/XtAw7mjiOcAOmxlLmbm6vQGj7x2pv+eVgdXQeYU\n",
       "s0i6kNH6vASJ/M8BkCW9AsAAAADAAZ7rakK/APXYQV1hwsAGqinA+29pi2EphqDcLO3EN3yPHYO7\n",
       "yNV3Bp0q/7+fxD4HX6cJg090qrn0JhnZQlckel7bXpDSxJew44zXuqQvs4FB2hO4SJvhFiAHH74i\n",
       "6+59XvyibapJapmE/HHFXkMnQycwGKPm0HPgFZXmKfuXx3YOUtl9izjW1i6Pm4vd8/EANfR8aPNg\n",
       "Y7a4Bph842IpDmw+/oeGPKNRfksFlKIiFEpbN8TMSAulOptIWd6v4THkAAAAdEGa8EmoQWiZTAh3\n",
       "//6plgBOCiHbKWADLLv6Cycuo2IGYg8ePIcDRtVtHqWjKNmEzrLRaUI3BaFv6D9QXeE0Ne6V4YnR\n",
       "RHAgkAWo/4EczwxEQA/gpugNPbjT6UXKuoXzcVGVyn78J+dXbq6c00Gl29PDvnOBAAAARkGfDkUR\n",
       "LDP/AENXcH6QZxzk3HDIE+g0NM/pMTpjqdmjSHwF7jT7myzj4fK3PmbwPwd840BQDAFcNQ5o1FcY\n",
       "0vH8nldG2ykAAADSAZ8tdEK/APXXy+4SDQAE46oyXtYqMWBWI0ab74J+jSHvxgrkxL7vslne3Ha4\n",
       "zqn4XAs7x6JMePdcc+a+L6QFKOgqXOvh/9TTYkJ8kMJpLMX56PMoa5RKM/Yg/h3ljc4HhLSPhhu2\n",
       "lpZ10CJ3MBGW+jnkM2LBzHjbEZjAR4k+uxta6KEIJeE/D4AHpG244QQ8YUKGCfLi2+Mq3hnJ4JqZ\n",
       "BWFDd3mpm2yOWTRoPe+2sLg3o64WUOlCbAOvUJG9WeK75M/hhAN2kXigt3T7iogkyYGZAAAAzgGf\n",
       "L2pCvwD14I6iS8AHrCmPim0cyr+HUD6JsjJKophcu9eJpb724ksHHv85kYiijrsNRSYkoax6MLit\n",
       "IjzDldXIwzAABg6Jo2e1Hzql0TPFKsI5YWSpntRFJyy79nje5KPZPkqmZdu83ZkAkLnijALJ7NrN\n",
       "2ClBsPuh6YzLTDmre1S4HnM1CWLP447bxd9EU9Z2u5x4PqcQsQp7aZsgXSJxo7sPp0dyQwTU82TB\n",
       "XthJcYWT3r9qwETF83lHNGEEsMzcWgdKVfjwhH1Dl3qAAAAAc0GbNEmoQWyZTAh3//6plgBQpOeQ\n",
       "vzuABmXRuKl/o7UbQe0aEBkvA/Eqcg1acd/1jOmOoQKPLAoodxFnfbaCyJSoi39G5PhkHOEy2YrO\n",
       "TrjiB4CJwfo41NoDAgxjNymr6Eioj3/YXtTVUEpFYEMjUfPgz/IAAABHQZ9SRRUsM/8ARTZpBSme\n",
       "NrGUtqUWnfbXccDst5j6+NgCl9MrEOu3StgnbtkToEuJRAA4E8Nwh1RnCPQysXa7pIjPLGsSIHkA\n",
       "AADLAZ9xdEK/APqsB0iL2s6HSFCACcdrZjBAYM5qn3QfnWL/frxkbYTUjUO/zasuzltPj3cChKv7\n",
       "IrYqAlPMh/jwNX4utbFnVrMC78EGO92SxHL6v8R5T3ahNaeXajzKqo3JpevViTVBMD+8V94YWBnR\n",
       "wEdGoUmZ7+J6xGOT2ChOOoLxh/caRn7PJjJYc8TmCCT67xab40vKTlnMKGzSyrBYZZH8LFXnbPpp\n",
       "jBcnJ9D6eJnjDcGFhK0KVp9uCpMb/1++MGG4vgjlhoBWCpwAAAC8AZ9zakK/APuRCIKnPl2ABONY\n",
       "Rm9fr5SbcEIEzRggHTXWSgtiO5OIKrbl2m2ZzWNFbgGnImlInU99k170g2FnHk1BRXe5KVfZCcp0\n",
       "f8mCU7aRBXDd/5VVI8Szi8u3mVLfMKoUyfeTBWX4zEj5oaOcLQNthlgRflOHEkzFLW4eRLmeNZpE\n",
       "f7fsiaVFX2hKtDr3t1U8Um0E9oi0MWmWptXXQL1XpbgLgdW/xmeA+WFfW6iE6k/2IVPc/3tMM/AA\n",
       "AABqQZt4SahBbJlMCG///qeEAJ6PXB5kgA2kAPgutL93YMQapj7PY47UGSG0DtxPnsbNWGdlzQAx\n",
       "dTI1sHhRIHDp04MKjMQ5S8fRIlsQCxc1RAAK01FwHoAP3sReCmhB+tP1AldAarw0r7krVwAAAEVB\n",
       "n5ZFFSwz/wBFFqL7SkgLMd6kL3gntoUNDPW8Ap7dFZ9ZUGHW3Xfv7j46CcCh9L/ew0cSfSoAOUA3\n",
       "FQ579+21u5NQu3AAAADLAZ+1dEK/APuQSsDwpgA2LJMR+gzsH3tYsqsEC4q+uhxqDQ4Wg6YMj0bg\n",
       "wjXXvNQFSaiy71ZknUjdwIfTezQjvdMM0Sc1/gxpVewdyxaoWfH4Xbm5nnXnEFD0XVJOkvbIBEoO\n",
       "R5MzcphAzUIEBEEJs3Bxl91iGxRymkLNP3KkBu9PNWsS5+u0oO5ScBtC+JyOPCwmKLwrYYwD1Uj/\n",
       "QSB5wV0RlBaewVBjjAVw2S7jDryATFl+XN0xZgTbbiaUmjaGXezLMdaat6cO/cEAAAC9AZ+3akK/\n",
       "APudCqGnoAEAIwfPCgwGMIPx/t/ffbE6JqC2PgOCymT2+fcKgsjUeidgL09bm5A4a1Bj2yJipVkX\n",
       "8S0dbH/H9vQM4XjT8BN56N6VH/K8L6MUHrUs+qaTYwA8UvHhcfoULuAtCMpm7UUjgQ6+Dxe179Jl\n",
       "xIBmU39KqYxXAqXUv0n0j4cH61HDEXEsYT0oD6jKN20y5btJyvGIQAAf2+HZdXI1lleuS7kq4dSc\n",
       "RncMZouJO5Z3q7OxAAAAOUGbukmoQWyZTBRMN//+p4QAo5VuKtG28yAW0QP4gQczFpwslSldGSLC\n",
       "UgHR3TAgMEIsNURsIpF6nAAAAMEBn9lqQr8BAqwHTyfSILAO3EAD+NtRwf1WQ/uNdp0DmjADnu41\n",
       "31c4MxscFHUwVYJ6MXYzenmOurWnfrVYCUcg7Da1TJn3wqEvJOc4hr/glRG1Yt2Wqd1pNembZ1QF\n",
       "RcZvI2CdICfKYw1ofS6RAugqyUY1CVwBkInp+dD8tmGZ1Gpj9pR8t7juL+yRgq20vZEfzBBX7P4B\n",
       "gls3+G149yoxLPVWE3XMIw4VKZNXKmZ+THpjsNIFY6kZzu7VWugzJey1AAAA3EGb3UnhClJlMCFf\n",
       "/jhAE0kZtndLIboH+AAffMKhlq4ayoidxOtT5wOS9w/c7ogTxO9B9Tw3Ewy4JQi7zGmj6uTS7e6r\n",
       "ga6C03bWsoZESKgIsEg78raZspsrLV5w7yPxuO3MyEsc/JLnO+WscM3CLsJf+7O1k87UFiq0YBpL\n",
       "xkrC+Zn6IyYJnMeTgd/myxunH4jTZT3P4muJhdKxAkc4TR7kcjHeK6O4VxS3HcNJOjiFm099C+xq\n",
       "hHiPjRd8IaJnlkSXyU9kfh7wxXaTq4REzC7+96RPQy8K8sEI2koAAABZQZ/7RTRML/8Awx8rQ3OH\n",
       "2KtGcziAEHGmpRxmanEmp5plc5/mkEqniCgBKqfrx4leApqjKN44wWdusSHSIhlXNupErZ23IOvG\n",
       "Na4y2O3WhcamFNMzCIrf25EAAACAAZ4cakK/AQcMx7ah8q9B90AJbeSap++vSKMwGPoyZx35RZXr\n",
       "7bJG5hh2SBeGB6MDrB1dnLbQuAsTPXddskbBdw6fVjvYVQYOJf67z3+x7ioLl2ZjGcByJJc7E5aw\n",
       "l1b+ZwOT2zvPClO2rJwtVoXRmnp/NqESfsdxmFid2bSdEYEAAASObW9vdgAAAGxtdmhkAAAAAAAA\n",
       "AAAAAAAAAAAD6AAABdwAAQAAAQAAAAAAAAAAAAAAAAEAAAAAAAAAAAAAAAAAAAABAAAAAAAAAAAA\n",
       "AAAAAABAAAAAAAAAAAAAAAAAAAAAAAAAAAAAAAAAAAAAAAAAAgAAA7h0cmFrAAAAXHRraGQAAAAD\n",
       "AAAAAAAAAAAAAAABAAAAAAAABdwAAAAAAAAAAAAAAAAAAAAAAAEAAAAAAAAAAAAAAAAAAAABAAAA\n",
       "AAAAAAAAAAAAAABAAAAAAbAAAAEgAAAAAAAkZWR0cwAAABxlbHN0AAAAAAAAAAEAAAXcAAAEAAAB\n",
       "AAAAAAMwbWRpYQAAACBtZGhkAAAAAAAAAAAAAAAAAAAoAAAAPABVxAAAAAAALWhkbHIAAAAAAAAA\n",
       "AHZpZGUAAAAAAAAAAAAAAABWaWRlb0hhbmRsZXIAAAAC221pbmYAAAAUdm1oZAAAAAEAAAAAAAAA\n",
       "AAAAACRkaW5mAAAAHGRyZWYAAAAAAAAAAQAAAAx1cmwgAAAAAQAAAptzdGJsAAAAs3N0c2QAAAAA\n",
       "AAAAAQAAAKNhdmMxAAAAAAAAAAEAAAAAAAAAAAAAAAAAAAAAAbABIABIAAAASAAAAAAAAAABAAAA\n",
       "AAAAAAAAAAAAAAAAAAAAAAAAAAAAAAAAAAAAAAAAGP//AAAAMWF2Y0MBZAAV/+EAGGdkABWs2UGw\n",
       "loQAAAMABAAAAwCgPFi2WAEABmjr48siwAAAABx1dWlka2hA8l8kT8W6OaUbzwMj8wAAAAAAAAAY\n",
       "c3R0cwAAAAAAAAABAAAAHgAAAgAAAAAUc3RzcwAAAAAAAAABAAAAAQAAAPhjdHRzAAAAAAAAAB0A\n",
       "AAABAAAEAAAAAAEAAAYAAAAAAQAAAgAAAAABAAAKAAAAAAEAAAQAAAAAAQAAAAAAAAABAAACAAAA\n",
       "AAEAAAYAAAAAAQAAAgAAAAABAAAKAAAAAAEAAAQAAAAAAQAAAAAAAAABAAACAAAAAAEAAAoAAAAA\n",
       "AQAABAAAAAABAAAAAAAAAAEAAAIAAAAAAQAACgAAAAABAAAEAAAAAAEAAAAAAAAAAQAAAgAAAAAB\n",
       "AAAKAAAAAAEAAAQAAAAAAQAAAAAAAAABAAACAAAAAAEAAAYAAAAAAQAAAgAAAAABAAAIAAAAAAIA\n",
       "AAIAAAAAHHN0c2MAAAAAAAAAAQAAAAEAAAAeAAAAAQAAAIxzdHN6AAAAAAAAAAAAAAAeAAAV6wAA\n",
       "Ac4AAADUAAAA4wAAAFEAAADBAAAA3gAAAHkAAADjAAAAfAAAAFYAAADYAAAAxAAAAHgAAABKAAAA\n",
       "1gAAANIAAAB3AAAASwAAAM8AAADAAAAAbgAAAEkAAADPAAAAwQAAAD0AAADFAAAA4AAAAF0AAACE\n",
       "AAAAFHN0Y28AAAAAAAAAAQAAACwAAABidWR0YQAAAFptZXRhAAAAAAAAACFoZGxyAAAAAAAAAABt\n",
       "ZGlyYXBwbAAAAAAAAAAAAAAAAC1pbHN0AAAAJal0b28AAAAdZGF0YQAAAAEAAAAATGF2ZjU3LjU2\n",
       "LjEwMA==\n",
       "\">\n",
       "  Your browser does not support the video tag.\n",
       "</video>"
      ],
      "text/plain": [
       "<IPython.core.display.HTML object>"
      ]
     },
     "execution_count": 18,
     "metadata": {},
     "output_type": "execute_result"
    }
   ],
   "source": [
    "anim = animation.FuncAnimation(fig, animate, frames=rho_n, interval=50)\n",
    "HTML(anim.to_html5_video())"
   ]
  },
  {
   "cell_type": "markdown",
   "metadata": {},
   "source": [
    "Interesting! The Lax-Wendroff method captures the sharpness of the shock much better than the Lax-Friedrichs scheme, but there is a new problem: a strange wiggle appears right at the tail of the shock. This is typical of many second-order methods: they introduce _numerical oscillations_ where the solution is not smooth. Bummer."
   ]
  },
  {
   "cell_type": "markdown",
   "metadata": {},
   "source": [
    "### Lax-Wendroff with $\\frac{\\Delta t}{\\Delta x} =0.5$"
   ]
  },
  {
   "cell_type": "markdown",
   "metadata": {},
   "source": [
    "How do the oscillations at the shock front vary with changes to the CFL condition? You might think that the solution will improve if you make the time step smaller ... let's see."
   ]
  },
  {
   "cell_type": "code",
   "execution_count": 44,
   "metadata": {
    "collapsed": false
   },
   "outputs": [
    {
     "data": {
      "image/png": "[encoded data removed]",
      "text/plain": [
       "<matplotlib.figure.Figure at 0x163955531d0>"
      ]
     },
     "metadata": {},
     "output_type": "display_data"
    }
   ],
   "source": [
    "rho = rho_red_light(nx, rho_max, rho_in) \n",
    "sigma = 0.5\n",
    "dt = sigma*dx/u_max\n",
    "rho_n = laxwendroff(rho, nt, dt, dx, rho_max, u_max)\n",
    "\n",
    "anim = animation.FuncAnimation(fig, animate, frames=rho_n, interval=50)\n",
    "HTML(anim.to_html5_video())"
   ]
  },
  {
   "cell_type": "markdown",
   "metadata": {},
   "source": [
    "Eek! The numerical oscillations got worse. Double bummer!\n",
    "\n",
    "Why do we observe oscillations with second-order methods? This is a question of fundamental importance!"
   ]
  },
  {
   "cell_type": "markdown",
   "metadata": {},
   "source": [
    "## MacCormack Scheme"
   ]
  },
  {
   "cell_type": "markdown",
   "metadata": {},
   "source": [
    "The numerical oscillations that you observed with the Lax-Wendroff method on the traffic model can become severe in some problems. But actually the main drawback of the Lax-Wendroff method is having to calculate the Jacobian in every time step. With more complicated equations (like the Euler equations), calculating the Jacobian is a large computational expense.\n",
    "\n",
    "Robert W. MacCormack introduced the first version of his now-famous method at the 1969 AIAA Hypervelocity Impact Conference, held in Cincinnati, Ohio, but the paper did not at first catch the attention of the aeronautics community. The next year, however, he presented at the 2nd International Conference on Numerical Methods in Fluid Dynamics at Berkeley. His paper there (MacCormack, 1971) was a landslide. MacCormack got a promotion and continued to work on applications of his method to the compressible Navier-Stokes equations. In 1973, NASA gave him the prestigious H. Julian Allen award for his work.\n",
    "\n",
    "The MacCormack scheme is a two-step method, in which the first step is called a _predictor_ and the second step is called a _corrector_. It acheives second-order accuracy in both space and time. One version is as follows:  \n",
    "\n",
    "\\begin{equation}\\rho^*_i = \\rho^n_i - \\frac{\\Delta t}{\\Delta x} (F^n_{i+1}-F^n_{i}) \\ \\ \\ \\ \\ \\ \\text{(predictor)}\\end{equation}\n",
    "\n",
    "\\begin{equation}\\rho^{n+1}_i = \\frac{1}{2} (\\rho^n_i + \\rho^*_i - \\frac{\\Delta t}{\\Delta x} (F^*_i - F^{*}_{i-1})) \\ \\ \\ \\ \\ \\ \\text{(corrector)}\\end{equation}\n",
    "\n",
    "If you look closely, it appears like the first step is a forward-time/forward-space scheme, and the second step is like a forward-time/backward-space scheme (these can also be reversed), averaged with the first result. What is so cool about this? You can compute problems with left-running waves and right-running waves, and the MacCormack scheme gives you a stable method (subject to the CFL condition). Nice! Let's try it."
   ]
  },
  {
   "cell_type": "code",
   "execution_count": 45,
   "metadata": {
    "collapsed": false
   },
   "outputs": [],
   "source": [
    "def maccormack(rho, nt, dt, dx, u_max, rho_max):\n",
    "    \"\"\" Computes the solution with MacCormack scheme\n",
    "    \n",
    "    Parameters\n",
    "    ----------\n",
    "    rho    : array of floats\n",
    "            Density at current time-step\n",
    "    nt     : int\n",
    "            Number of time steps\n",
    "    dt     : float\n",
    "            Time-step size\n",
    "    dx     : float\n",
    "            Mesh spacing\n",
    "    rho_max: float\n",
    "            Maximum allowed car density\n",
    "    u_max  : float\n",
    "            Speed limit\n",
    "    \n",
    "    Returns\n",
    "    -------\n",
    "    rho_n : array of floats\n",
    "            Density after nt time steps at every point x\n",
    "    \"\"\"\n",
    "    \n",
    "    rho_n = numpy.zeros((nt,len(rho)))\n",
    "    rho_star = numpy.empty_like(rho)\n",
    "    rho_n[:,:] = rho.copy()\n",
    "    rho_star = rho.copy()\n",
    "    \n",
    "    for t in range(1,nt):\n",
    "        F = computeF(u_max, rho_max, rho)\n",
    "        rho_star[:-1] = rho[:-1] - dt/dx * (F[1:]-F[:-1])\n",
    "        Fstar = computeF(u_max, rho_max, rho_star)\n",
    "        rho_n[t,1:] = .5 * (rho[1:]+rho_star[1:] - dt/dx * (Fstar[1:] - Fstar[:-1]))\n",
    "        rho = rho_n[t].copy()\n",
    "        \n",
    "    return rho_n"
   ]
  },
  {
   "cell_type": "markdown",
   "metadata": {},
   "source": [
    "### MacCormack with $\\frac{\\Delta t}{\\Delta x} = 1$"
   ]
  },
  {
   "cell_type": "code",
   "execution_count": 47,
   "metadata": {
    "collapsed": false
   },
   "outputs": [
    {
     "data": {
      "image/png": "[encoded data removed]",
      "text/plain": [
       "<matplotlib.figure.Figure at 0x16395742320>"
      ]
     },
     "metadata": {},
     "output_type": "display_data"
    }
   ],
   "source": [
    "rho = rho_red_light(nx, rho_max, rho_in)\n",
    "sigma = 1.0\n",
    "dt = sigma*dx/u_max\n",
    "\n",
    "rho_n = maccormack(rho,nt,dt,dx,u_max,rho_max)\n",
    "\n",
    "anim = animation.FuncAnimation(fig, animate, frames=rho_n, interval=50)\n",
    "HTML(anim.to_html5_video())"
   ]
  },
  {
   "cell_type": "markdown",
   "metadata": {},
   "source": [
    "### MacCormack with $\\frac{\\Delta t}{\\Delta x}= 0.5$"
   ]
  },
  {
   "cell_type": "markdown",
   "metadata": {},
   "source": [
    "Once again, we ask: how does the CFL number affect the errors? Which one gives better results? You just have to try it."
   ]
  },
  {
   "cell_type": "code",
   "execution_count": null,
   "metadata": {
    "collapsed": false
   },
   "outputs": [],
   "source": [
    "rho = rho_red_light(nx, rho_max, rho_in)\n",
    "sigma = 0.5\n",
    "dt = sigma*dx/u_max\n",
    "\n",
    "rho_n = maccormack(rho,nt,dt,dx,u_max,rho_max)\n",
    "\n",
    "anim = animation.FuncAnimation(fig, animate, frames=rho_n, interval=50)\n",
    "HTML(anim.to_html5_video())"
   ]
  },
  {
   "cell_type": "markdown",
   "metadata": {},
   "source": [
    "##### Dig Deeper"
   ]
  },
  {
   "cell_type": "markdown",
   "metadata": {},
   "source": [
    "You can also obtain a MacCormack scheme by reversing the predictor and corrector steps. For shocks, the best resolution will occur when the difference in the predictor step is in the direction of propagation. Try it out! Was our choice here the ideal one? In which case is the shock better resolved?"
   ]
  },
  {
   "cell_type": "markdown",
   "metadata": {},
   "source": [
    "##### Challenge task"
   ]
  },
  {
   "cell_type": "markdown",
   "metadata": {},
   "source": [
    "In the *red light* problem, $\\rho \\geq \\rho_{\\rm max}/2$, making the wave speed negative at all points . You might be wondering why we introduced these new methods; couldn't we have just used a forward-time/forward-space scheme? But, what if $\\rho_{\\rm in} < \\rho_{\\rm max}/2$? Now, a whole region has negative wave speeds and forward-time/backward-space is unstable. \n",
    "\n",
    "* How do Lax-Friedrichs, Lax-Wendroff and MacCormack behave in this case? Try it out!\n",
    "\n",
    "* As you decrease $\\rho_{\\rm in}$, what happens to the velocity of the shock? Why do you think that happens?"
   ]
  },
  {
   "cell_type": "markdown",
   "metadata": {},
   "source": [
    "## References"
   ]
  },
  {
   "cell_type": "markdown",
   "metadata": {},
   "source": [
    "* Peter D. Lax (1954), \"Weak solutions of nonlinear hyperbolic equations and their numerical computation,\" _Commun. Pure and Appl. Math._, Vol. 7, pp. 159–193.\n",
    "\n",
    "* Peter D. Lax and Burton Wendroff (1960), \"Systems of conservation laws,\"  _Commun. Pure and Appl. Math._, Vol. 13, pp. 217–237.\n",
    "\n",
    "* R. W. MacCormack (1969), \"The effect of viscosity in hypervelocity impact cratering,\" AIAA paper 69-354. Reprinted on _Journal of Spacecraft and Rockets_, Vol. 40, pp. 757–763 (2003). Also on _Frontiers of Computational Fluid Dynamics_, edited by D. A. Caughey, M. M. Hafez (2002), chapter 2: [read on Google Books](http://books.google.com/books?id=QBsnMOz_8qcC&lpg=PA27&ots=uqCeuH1U6S&lr&pg=PA27#v=onepage&q&f=false).\n",
    "\n",
    "* R. W. MacCormack (1971), \"Numerical solution of the interaction of a shock wave with a laminar boundary layer,\" _Proceedings of the 2nd Int. Conf. on Numerical Methods in Fluid Dynamics_, Lecture Notes in Physics, Vol. 8, Springer, Berlin, pp. 151–163. "
   ]
  },
  {
   "cell_type": "markdown",
   "metadata": {},
   "source": [
    "---\n",
    "\n",
    "###### The cell below loads the style of the notebook."
   ]
  },
  {
   "cell_type": "code",
   "execution_count": null,
   "metadata": {
    "collapsed": false
   },
   "outputs": [],
   "source": [
    "from IPython.core.display import HTML\n",
    "css_file = '../../styles/numericalmoocstyle.css'\n",
    "HTML(open(css_file, \"r\").read())"
   ]
  },
  {
   "cell_type": "code",
   "execution_count": null,
   "metadata": {
    "collapsed": true
   },
   "outputs": [],
   "source": []
  }
 ],
 "metadata": {
  "anaconda-cloud": {},
  "kernelspec": {
   "display_name": "Python [Root]",
   "language": "python",
   "name": "Python [Root]"
  },
  "language_info": {
   "codemirror_mode": {
    "name": "ipython",
    "version": 3
   },
   "file_extension": ".py",
   "mimetype": "text/x-python",
   "name": "python",
   "nbconvert_exporter": "python",
   "pygments_lexer": "ipython3",
   "version": "3.5.2"
  }
 },
 "nbformat": 4,
 "nbformat_minor": 0
}
